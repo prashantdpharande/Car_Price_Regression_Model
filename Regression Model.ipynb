{
 "cells": [
  {
   "cell_type": "code",
   "execution_count": 1,
   "id": "8f3ab8ef",
   "metadata": {},
   "outputs": [
    {
     "name": "stderr",
     "output_type": "stream",
     "text": [
      "C:\\ProgramData\\Anaconda3\\lib\\site-packages\\scipy\\__init__.py:146: UserWarning: A NumPy version >=1.16.5 and <1.23.0 is required for this version of SciPy (detected version 1.24.2\n",
      "  warnings.warn(f\"A NumPy version >={np_minversion} and <{np_maxversion}\"\n"
     ]
    }
   ],
   "source": [
    "import pandas as pd\n",
    "import numpy as np\n",
    "import matplotlib.pyplot as plt\n",
    "import seaborn as sns\n",
    "import warnings\n",
    "warnings.filterwarnings('ignore')\n"
   ]
  },
  {
   "cell_type": "markdown",
   "id": "b59b99d6",
   "metadata": {},
   "source": [
    "# 1 Problem Satatement: To predict car price based on car specification data"
   ]
  },
  {
   "cell_type": "markdown",
   "id": "a1652655",
   "metadata": {},
   "source": [
    "# 2 Data Gathering"
   ]
  },
  {
   "cell_type": "code",
   "execution_count": 2,
   "id": "fd60d209",
   "metadata": {},
   "outputs": [],
   "source": [
    "df=pd.read_csv('CarPrice_Assignment.csv',encoding='Latin-1')"
   ]
  },
  {
   "cell_type": "code",
   "execution_count": 3,
   "id": "0b622167",
   "metadata": {},
   "outputs": [
    {
     "data": {
      "text/html": [
       "<div>\n",
       "<style scoped>\n",
       "    .dataframe tbody tr th:only-of-type {\n",
       "        vertical-align: middle;\n",
       "    }\n",
       "\n",
       "    .dataframe tbody tr th {\n",
       "        vertical-align: top;\n",
       "    }\n",
       "\n",
       "    .dataframe thead th {\n",
       "        text-align: right;\n",
       "    }\n",
       "</style>\n",
       "<table border=\"1\" class=\"dataframe\">\n",
       "  <thead>\n",
       "    <tr style=\"text-align: right;\">\n",
       "      <th></th>\n",
       "      <th>0</th>\n",
       "      <th>1</th>\n",
       "      <th>2</th>\n",
       "      <th>3</th>\n",
       "      <th>4</th>\n",
       "      <th>5</th>\n",
       "      <th>6</th>\n",
       "      <th>7</th>\n",
       "      <th>8</th>\n",
       "      <th>9</th>\n",
       "      <th>...</th>\n",
       "      <th>195</th>\n",
       "      <th>196</th>\n",
       "      <th>197</th>\n",
       "      <th>198</th>\n",
       "      <th>199</th>\n",
       "      <th>200</th>\n",
       "      <th>201</th>\n",
       "      <th>202</th>\n",
       "      <th>203</th>\n",
       "      <th>204</th>\n",
       "    </tr>\n",
       "  </thead>\n",
       "  <tbody>\n",
       "    <tr>\n",
       "      <th>car_ID</th>\n",
       "      <td>1</td>\n",
       "      <td>2</td>\n",
       "      <td>3</td>\n",
       "      <td>4</td>\n",
       "      <td>5</td>\n",
       "      <td>6</td>\n",
       "      <td>7</td>\n",
       "      <td>8</td>\n",
       "      <td>9</td>\n",
       "      <td>10</td>\n",
       "      <td>...</td>\n",
       "      <td>196</td>\n",
       "      <td>197</td>\n",
       "      <td>198</td>\n",
       "      <td>199</td>\n",
       "      <td>200</td>\n",
       "      <td>201</td>\n",
       "      <td>202</td>\n",
       "      <td>203</td>\n",
       "      <td>204</td>\n",
       "      <td>205</td>\n",
       "    </tr>\n",
       "    <tr>\n",
       "      <th>symboling</th>\n",
       "      <td>3</td>\n",
       "      <td>3</td>\n",
       "      <td>1</td>\n",
       "      <td>2</td>\n",
       "      <td>2</td>\n",
       "      <td>2</td>\n",
       "      <td>1</td>\n",
       "      <td>1</td>\n",
       "      <td>1</td>\n",
       "      <td>0</td>\n",
       "      <td>...</td>\n",
       "      <td>-1</td>\n",
       "      <td>-2</td>\n",
       "      <td>-1</td>\n",
       "      <td>-2</td>\n",
       "      <td>-1</td>\n",
       "      <td>-1</td>\n",
       "      <td>-1</td>\n",
       "      <td>-1</td>\n",
       "      <td>-1</td>\n",
       "      <td>-1</td>\n",
       "    </tr>\n",
       "    <tr>\n",
       "      <th>CarName</th>\n",
       "      <td>alfa-romero giulia</td>\n",
       "      <td>alfa-romero stelvio</td>\n",
       "      <td>alfa-romero Quadrifoglio</td>\n",
       "      <td>audi 100 ls</td>\n",
       "      <td>audi 100ls</td>\n",
       "      <td>audi fox</td>\n",
       "      <td>audi 100ls</td>\n",
       "      <td>audi 5000</td>\n",
       "      <td>audi 4000</td>\n",
       "      <td>audi 5000s (diesel)</td>\n",
       "      <td>...</td>\n",
       "      <td>volvo 144ea</td>\n",
       "      <td>volvo 244dl</td>\n",
       "      <td>volvo 245</td>\n",
       "      <td>volvo 264gl</td>\n",
       "      <td>volvo diesel</td>\n",
       "      <td>volvo 145e (sw)</td>\n",
       "      <td>volvo 144ea</td>\n",
       "      <td>volvo 244dl</td>\n",
       "      <td>volvo 246</td>\n",
       "      <td>volvo 264gl</td>\n",
       "    </tr>\n",
       "    <tr>\n",
       "      <th>fueltype</th>\n",
       "      <td>gas</td>\n",
       "      <td>gas</td>\n",
       "      <td>gas</td>\n",
       "      <td>gas</td>\n",
       "      <td>gas</td>\n",
       "      <td>gas</td>\n",
       "      <td>gas</td>\n",
       "      <td>gas</td>\n",
       "      <td>gas</td>\n",
       "      <td>gas</td>\n",
       "      <td>...</td>\n",
       "      <td>gas</td>\n",
       "      <td>gas</td>\n",
       "      <td>gas</td>\n",
       "      <td>gas</td>\n",
       "      <td>gas</td>\n",
       "      <td>gas</td>\n",
       "      <td>gas</td>\n",
       "      <td>gas</td>\n",
       "      <td>diesel</td>\n",
       "      <td>gas</td>\n",
       "    </tr>\n",
       "    <tr>\n",
       "      <th>aspiration</th>\n",
       "      <td>std</td>\n",
       "      <td>std</td>\n",
       "      <td>std</td>\n",
       "      <td>std</td>\n",
       "      <td>std</td>\n",
       "      <td>std</td>\n",
       "      <td>std</td>\n",
       "      <td>std</td>\n",
       "      <td>turbo</td>\n",
       "      <td>turbo</td>\n",
       "      <td>...</td>\n",
       "      <td>std</td>\n",
       "      <td>std</td>\n",
       "      <td>std</td>\n",
       "      <td>turbo</td>\n",
       "      <td>turbo</td>\n",
       "      <td>std</td>\n",
       "      <td>turbo</td>\n",
       "      <td>std</td>\n",
       "      <td>turbo</td>\n",
       "      <td>turbo</td>\n",
       "    </tr>\n",
       "    <tr>\n",
       "      <th>doornumber</th>\n",
       "      <td>two</td>\n",
       "      <td>two</td>\n",
       "      <td>two</td>\n",
       "      <td>four</td>\n",
       "      <td>four</td>\n",
       "      <td>two</td>\n",
       "      <td>four</td>\n",
       "      <td>four</td>\n",
       "      <td>four</td>\n",
       "      <td>two</td>\n",
       "      <td>...</td>\n",
       "      <td>four</td>\n",
       "      <td>four</td>\n",
       "      <td>four</td>\n",
       "      <td>four</td>\n",
       "      <td>four</td>\n",
       "      <td>four</td>\n",
       "      <td>four</td>\n",
       "      <td>four</td>\n",
       "      <td>four</td>\n",
       "      <td>four</td>\n",
       "    </tr>\n",
       "    <tr>\n",
       "      <th>carbody</th>\n",
       "      <td>convertible</td>\n",
       "      <td>convertible</td>\n",
       "      <td>hatchback</td>\n",
       "      <td>sedan</td>\n",
       "      <td>sedan</td>\n",
       "      <td>sedan</td>\n",
       "      <td>sedan</td>\n",
       "      <td>wagon</td>\n",
       "      <td>sedan</td>\n",
       "      <td>hatchback</td>\n",
       "      <td>...</td>\n",
       "      <td>wagon</td>\n",
       "      <td>sedan</td>\n",
       "      <td>wagon</td>\n",
       "      <td>sedan</td>\n",
       "      <td>wagon</td>\n",
       "      <td>sedan</td>\n",
       "      <td>sedan</td>\n",
       "      <td>sedan</td>\n",
       "      <td>sedan</td>\n",
       "      <td>sedan</td>\n",
       "    </tr>\n",
       "    <tr>\n",
       "      <th>drivewheel</th>\n",
       "      <td>rwd</td>\n",
       "      <td>rwd</td>\n",
       "      <td>rwd</td>\n",
       "      <td>fwd</td>\n",
       "      <td>4wd</td>\n",
       "      <td>fwd</td>\n",
       "      <td>fwd</td>\n",
       "      <td>fwd</td>\n",
       "      <td>fwd</td>\n",
       "      <td>4wd</td>\n",
       "      <td>...</td>\n",
       "      <td>rwd</td>\n",
       "      <td>rwd</td>\n",
       "      <td>rwd</td>\n",
       "      <td>rwd</td>\n",
       "      <td>rwd</td>\n",
       "      <td>rwd</td>\n",
       "      <td>rwd</td>\n",
       "      <td>rwd</td>\n",
       "      <td>rwd</td>\n",
       "      <td>rwd</td>\n",
       "    </tr>\n",
       "    <tr>\n",
       "      <th>enginelocation</th>\n",
       "      <td>front</td>\n",
       "      <td>front</td>\n",
       "      <td>front</td>\n",
       "      <td>front</td>\n",
       "      <td>front</td>\n",
       "      <td>front</td>\n",
       "      <td>front</td>\n",
       "      <td>front</td>\n",
       "      <td>front</td>\n",
       "      <td>front</td>\n",
       "      <td>...</td>\n",
       "      <td>front</td>\n",
       "      <td>front</td>\n",
       "      <td>front</td>\n",
       "      <td>front</td>\n",
       "      <td>front</td>\n",
       "      <td>front</td>\n",
       "      <td>front</td>\n",
       "      <td>front</td>\n",
       "      <td>front</td>\n",
       "      <td>front</td>\n",
       "    </tr>\n",
       "    <tr>\n",
       "      <th>wheelbase</th>\n",
       "      <td>88.6</td>\n",
       "      <td>88.6</td>\n",
       "      <td>94.5</td>\n",
       "      <td>99.8</td>\n",
       "      <td>99.4</td>\n",
       "      <td>99.8</td>\n",
       "      <td>105.8</td>\n",
       "      <td>105.8</td>\n",
       "      <td>105.8</td>\n",
       "      <td>99.5</td>\n",
       "      <td>...</td>\n",
       "      <td>104.3</td>\n",
       "      <td>104.3</td>\n",
       "      <td>104.3</td>\n",
       "      <td>104.3</td>\n",
       "      <td>104.3</td>\n",
       "      <td>109.1</td>\n",
       "      <td>109.1</td>\n",
       "      <td>109.1</td>\n",
       "      <td>109.1</td>\n",
       "      <td>109.1</td>\n",
       "    </tr>\n",
       "    <tr>\n",
       "      <th>carlength</th>\n",
       "      <td>168.8</td>\n",
       "      <td>168.8</td>\n",
       "      <td>171.2</td>\n",
       "      <td>176.6</td>\n",
       "      <td>176.6</td>\n",
       "      <td>177.3</td>\n",
       "      <td>192.7</td>\n",
       "      <td>192.7</td>\n",
       "      <td>192.7</td>\n",
       "      <td>178.2</td>\n",
       "      <td>...</td>\n",
       "      <td>188.8</td>\n",
       "      <td>188.8</td>\n",
       "      <td>188.8</td>\n",
       "      <td>188.8</td>\n",
       "      <td>188.8</td>\n",
       "      <td>188.8</td>\n",
       "      <td>188.8</td>\n",
       "      <td>188.8</td>\n",
       "      <td>188.8</td>\n",
       "      <td>188.8</td>\n",
       "    </tr>\n",
       "    <tr>\n",
       "      <th>carwidth</th>\n",
       "      <td>64.1</td>\n",
       "      <td>64.1</td>\n",
       "      <td>65.5</td>\n",
       "      <td>66.2</td>\n",
       "      <td>66.4</td>\n",
       "      <td>66.3</td>\n",
       "      <td>71.4</td>\n",
       "      <td>71.4</td>\n",
       "      <td>71.4</td>\n",
       "      <td>67.9</td>\n",
       "      <td>...</td>\n",
       "      <td>67.2</td>\n",
       "      <td>67.2</td>\n",
       "      <td>67.2</td>\n",
       "      <td>67.2</td>\n",
       "      <td>67.2</td>\n",
       "      <td>68.9</td>\n",
       "      <td>68.8</td>\n",
       "      <td>68.9</td>\n",
       "      <td>68.9</td>\n",
       "      <td>68.9</td>\n",
       "    </tr>\n",
       "    <tr>\n",
       "      <th>carheight</th>\n",
       "      <td>48.8</td>\n",
       "      <td>48.8</td>\n",
       "      <td>52.4</td>\n",
       "      <td>54.3</td>\n",
       "      <td>54.3</td>\n",
       "      <td>53.1</td>\n",
       "      <td>55.7</td>\n",
       "      <td>55.7</td>\n",
       "      <td>55.9</td>\n",
       "      <td>52.0</td>\n",
       "      <td>...</td>\n",
       "      <td>57.5</td>\n",
       "      <td>56.2</td>\n",
       "      <td>57.5</td>\n",
       "      <td>56.2</td>\n",
       "      <td>57.5</td>\n",
       "      <td>55.5</td>\n",
       "      <td>55.5</td>\n",
       "      <td>55.5</td>\n",
       "      <td>55.5</td>\n",
       "      <td>55.5</td>\n",
       "    </tr>\n",
       "    <tr>\n",
       "      <th>curbweight</th>\n",
       "      <td>2548</td>\n",
       "      <td>2548</td>\n",
       "      <td>2823</td>\n",
       "      <td>2337</td>\n",
       "      <td>2824</td>\n",
       "      <td>2507</td>\n",
       "      <td>2844</td>\n",
       "      <td>2954</td>\n",
       "      <td>3086</td>\n",
       "      <td>3053</td>\n",
       "      <td>...</td>\n",
       "      <td>3034</td>\n",
       "      <td>2935</td>\n",
       "      <td>3042</td>\n",
       "      <td>3045</td>\n",
       "      <td>3157</td>\n",
       "      <td>2952</td>\n",
       "      <td>3049</td>\n",
       "      <td>3012</td>\n",
       "      <td>3217</td>\n",
       "      <td>3062</td>\n",
       "    </tr>\n",
       "    <tr>\n",
       "      <th>enginetype</th>\n",
       "      <td>dohc</td>\n",
       "      <td>dohc</td>\n",
       "      <td>ohcv</td>\n",
       "      <td>ohc</td>\n",
       "      <td>ohc</td>\n",
       "      <td>ohc</td>\n",
       "      <td>ohc</td>\n",
       "      <td>ohc</td>\n",
       "      <td>ohc</td>\n",
       "      <td>ohc</td>\n",
       "      <td>...</td>\n",
       "      <td>ohc</td>\n",
       "      <td>ohc</td>\n",
       "      <td>ohc</td>\n",
       "      <td>ohc</td>\n",
       "      <td>ohc</td>\n",
       "      <td>ohc</td>\n",
       "      <td>ohc</td>\n",
       "      <td>ohcv</td>\n",
       "      <td>ohc</td>\n",
       "      <td>ohc</td>\n",
       "    </tr>\n",
       "    <tr>\n",
       "      <th>cylindernumber</th>\n",
       "      <td>four</td>\n",
       "      <td>four</td>\n",
       "      <td>six</td>\n",
       "      <td>four</td>\n",
       "      <td>five</td>\n",
       "      <td>five</td>\n",
       "      <td>five</td>\n",
       "      <td>five</td>\n",
       "      <td>five</td>\n",
       "      <td>five</td>\n",
       "      <td>...</td>\n",
       "      <td>four</td>\n",
       "      <td>four</td>\n",
       "      <td>four</td>\n",
       "      <td>four</td>\n",
       "      <td>four</td>\n",
       "      <td>four</td>\n",
       "      <td>four</td>\n",
       "      <td>six</td>\n",
       "      <td>six</td>\n",
       "      <td>four</td>\n",
       "    </tr>\n",
       "    <tr>\n",
       "      <th>enginesize</th>\n",
       "      <td>130</td>\n",
       "      <td>130</td>\n",
       "      <td>152</td>\n",
       "      <td>109</td>\n",
       "      <td>136</td>\n",
       "      <td>136</td>\n",
       "      <td>136</td>\n",
       "      <td>136</td>\n",
       "      <td>131</td>\n",
       "      <td>131</td>\n",
       "      <td>...</td>\n",
       "      <td>141</td>\n",
       "      <td>141</td>\n",
       "      <td>141</td>\n",
       "      <td>130</td>\n",
       "      <td>130</td>\n",
       "      <td>141</td>\n",
       "      <td>141</td>\n",
       "      <td>173</td>\n",
       "      <td>145</td>\n",
       "      <td>141</td>\n",
       "    </tr>\n",
       "    <tr>\n",
       "      <th>fuelsystem</th>\n",
       "      <td>mpfi</td>\n",
       "      <td>mpfi</td>\n",
       "      <td>mpfi</td>\n",
       "      <td>mpfi</td>\n",
       "      <td>mpfi</td>\n",
       "      <td>mpfi</td>\n",
       "      <td>mpfi</td>\n",
       "      <td>mpfi</td>\n",
       "      <td>mpfi</td>\n",
       "      <td>mpfi</td>\n",
       "      <td>...</td>\n",
       "      <td>mpfi</td>\n",
       "      <td>mpfi</td>\n",
       "      <td>mpfi</td>\n",
       "      <td>mpfi</td>\n",
       "      <td>mpfi</td>\n",
       "      <td>mpfi</td>\n",
       "      <td>mpfi</td>\n",
       "      <td>mpfi</td>\n",
       "      <td>idi</td>\n",
       "      <td>mpfi</td>\n",
       "    </tr>\n",
       "    <tr>\n",
       "      <th>boreratio</th>\n",
       "      <td>3.47</td>\n",
       "      <td>3.47</td>\n",
       "      <td>2.68</td>\n",
       "      <td>3.19</td>\n",
       "      <td>3.19</td>\n",
       "      <td>3.19</td>\n",
       "      <td>3.19</td>\n",
       "      <td>3.19</td>\n",
       "      <td>3.13</td>\n",
       "      <td>3.13</td>\n",
       "      <td>...</td>\n",
       "      <td>3.78</td>\n",
       "      <td>3.78</td>\n",
       "      <td>3.78</td>\n",
       "      <td>3.62</td>\n",
       "      <td>3.62</td>\n",
       "      <td>3.78</td>\n",
       "      <td>3.78</td>\n",
       "      <td>3.58</td>\n",
       "      <td>3.01</td>\n",
       "      <td>3.78</td>\n",
       "    </tr>\n",
       "    <tr>\n",
       "      <th>stroke</th>\n",
       "      <td>2.68</td>\n",
       "      <td>2.68</td>\n",
       "      <td>3.47</td>\n",
       "      <td>3.4</td>\n",
       "      <td>3.4</td>\n",
       "      <td>3.4</td>\n",
       "      <td>3.4</td>\n",
       "      <td>3.4</td>\n",
       "      <td>3.4</td>\n",
       "      <td>3.4</td>\n",
       "      <td>...</td>\n",
       "      <td>3.15</td>\n",
       "      <td>3.15</td>\n",
       "      <td>3.15</td>\n",
       "      <td>3.15</td>\n",
       "      <td>3.15</td>\n",
       "      <td>3.15</td>\n",
       "      <td>3.15</td>\n",
       "      <td>2.87</td>\n",
       "      <td>3.4</td>\n",
       "      <td>3.15</td>\n",
       "    </tr>\n",
       "    <tr>\n",
       "      <th>compressionratio</th>\n",
       "      <td>9.0</td>\n",
       "      <td>9.0</td>\n",
       "      <td>9.0</td>\n",
       "      <td>10.0</td>\n",
       "      <td>8.0</td>\n",
       "      <td>8.5</td>\n",
       "      <td>8.5</td>\n",
       "      <td>8.5</td>\n",
       "      <td>8.3</td>\n",
       "      <td>7.0</td>\n",
       "      <td>...</td>\n",
       "      <td>9.5</td>\n",
       "      <td>9.5</td>\n",
       "      <td>9.5</td>\n",
       "      <td>7.5</td>\n",
       "      <td>7.5</td>\n",
       "      <td>9.5</td>\n",
       "      <td>8.7</td>\n",
       "      <td>8.8</td>\n",
       "      <td>23.0</td>\n",
       "      <td>9.5</td>\n",
       "    </tr>\n",
       "    <tr>\n",
       "      <th>horsepower</th>\n",
       "      <td>111</td>\n",
       "      <td>111</td>\n",
       "      <td>154</td>\n",
       "      <td>102</td>\n",
       "      <td>115</td>\n",
       "      <td>110</td>\n",
       "      <td>110</td>\n",
       "      <td>110</td>\n",
       "      <td>140</td>\n",
       "      <td>160</td>\n",
       "      <td>...</td>\n",
       "      <td>114</td>\n",
       "      <td>114</td>\n",
       "      <td>114</td>\n",
       "      <td>162</td>\n",
       "      <td>162</td>\n",
       "      <td>114</td>\n",
       "      <td>160</td>\n",
       "      <td>134</td>\n",
       "      <td>106</td>\n",
       "      <td>114</td>\n",
       "    </tr>\n",
       "    <tr>\n",
       "      <th>peakrpm</th>\n",
       "      <td>5000</td>\n",
       "      <td>5000</td>\n",
       "      <td>5000</td>\n",
       "      <td>5500</td>\n",
       "      <td>5500</td>\n",
       "      <td>5500</td>\n",
       "      <td>5500</td>\n",
       "      <td>5500</td>\n",
       "      <td>5500</td>\n",
       "      <td>5500</td>\n",
       "      <td>...</td>\n",
       "      <td>5400</td>\n",
       "      <td>5400</td>\n",
       "      <td>5400</td>\n",
       "      <td>5100</td>\n",
       "      <td>5100</td>\n",
       "      <td>5400</td>\n",
       "      <td>5300</td>\n",
       "      <td>5500</td>\n",
       "      <td>4800</td>\n",
       "      <td>5400</td>\n",
       "    </tr>\n",
       "    <tr>\n",
       "      <th>citympg</th>\n",
       "      <td>21</td>\n",
       "      <td>21</td>\n",
       "      <td>19</td>\n",
       "      <td>24</td>\n",
       "      <td>18</td>\n",
       "      <td>19</td>\n",
       "      <td>19</td>\n",
       "      <td>19</td>\n",
       "      <td>17</td>\n",
       "      <td>16</td>\n",
       "      <td>...</td>\n",
       "      <td>23</td>\n",
       "      <td>24</td>\n",
       "      <td>24</td>\n",
       "      <td>17</td>\n",
       "      <td>17</td>\n",
       "      <td>23</td>\n",
       "      <td>19</td>\n",
       "      <td>18</td>\n",
       "      <td>26</td>\n",
       "      <td>19</td>\n",
       "    </tr>\n",
       "    <tr>\n",
       "      <th>highwaympg</th>\n",
       "      <td>27</td>\n",
       "      <td>27</td>\n",
       "      <td>26</td>\n",
       "      <td>30</td>\n",
       "      <td>22</td>\n",
       "      <td>25</td>\n",
       "      <td>25</td>\n",
       "      <td>25</td>\n",
       "      <td>20</td>\n",
       "      <td>22</td>\n",
       "      <td>...</td>\n",
       "      <td>28</td>\n",
       "      <td>28</td>\n",
       "      <td>28</td>\n",
       "      <td>22</td>\n",
       "      <td>22</td>\n",
       "      <td>28</td>\n",
       "      <td>25</td>\n",
       "      <td>23</td>\n",
       "      <td>27</td>\n",
       "      <td>25</td>\n",
       "    </tr>\n",
       "    <tr>\n",
       "      <th>price</th>\n",
       "      <td>13495.0</td>\n",
       "      <td>16500.0</td>\n",
       "      <td>16500.0</td>\n",
       "      <td>13950.0</td>\n",
       "      <td>17450.0</td>\n",
       "      <td>15250.0</td>\n",
       "      <td>17710.0</td>\n",
       "      <td>18920.0</td>\n",
       "      <td>23875.0</td>\n",
       "      <td>17859.167</td>\n",
       "      <td>...</td>\n",
       "      <td>13415.0</td>\n",
       "      <td>15985.0</td>\n",
       "      <td>16515.0</td>\n",
       "      <td>18420.0</td>\n",
       "      <td>18950.0</td>\n",
       "      <td>16845.0</td>\n",
       "      <td>19045.0</td>\n",
       "      <td>21485.0</td>\n",
       "      <td>22470.0</td>\n",
       "      <td>22625.0</td>\n",
       "    </tr>\n",
       "  </tbody>\n",
       "</table>\n",
       "<p>26 rows × 205 columns</p>\n",
       "</div>"
      ],
      "text/plain": [
       "                                 0                    1    \\\n",
       "car_ID                             1                    2   \n",
       "symboling                          3                    3   \n",
       "CarName           alfa-romero giulia  alfa-romero stelvio   \n",
       "fueltype                         gas                  gas   \n",
       "aspiration                       std                  std   \n",
       "doornumber                       two                  two   \n",
       "carbody                  convertible          convertible   \n",
       "drivewheel                       rwd                  rwd   \n",
       "enginelocation                 front                front   \n",
       "wheelbase                       88.6                 88.6   \n",
       "carlength                      168.8                168.8   \n",
       "carwidth                        64.1                 64.1   \n",
       "carheight                       48.8                 48.8   \n",
       "curbweight                      2548                 2548   \n",
       "enginetype                      dohc                 dohc   \n",
       "cylindernumber                  four                 four   \n",
       "enginesize                       130                  130   \n",
       "fuelsystem                      mpfi                 mpfi   \n",
       "boreratio                       3.47                 3.47   \n",
       "stroke                          2.68                 2.68   \n",
       "compressionratio                 9.0                  9.0   \n",
       "horsepower                       111                  111   \n",
       "peakrpm                         5000                 5000   \n",
       "citympg                           21                   21   \n",
       "highwaympg                        27                   27   \n",
       "price                        13495.0              16500.0   \n",
       "\n",
       "                                       2            3           4         5    \\\n",
       "car_ID                                   3            4           5         6   \n",
       "symboling                                1            2           2         2   \n",
       "CarName           alfa-romero Quadrifoglio  audi 100 ls  audi 100ls  audi fox   \n",
       "fueltype                               gas          gas         gas       gas   \n",
       "aspiration                             std          std         std       std   \n",
       "doornumber                             two         four        four       two   \n",
       "carbody                          hatchback        sedan       sedan     sedan   \n",
       "drivewheel                             rwd          fwd         4wd       fwd   \n",
       "enginelocation                       front        front       front     front   \n",
       "wheelbase                             94.5         99.8        99.4      99.8   \n",
       "carlength                            171.2        176.6       176.6     177.3   \n",
       "carwidth                              65.5         66.2        66.4      66.3   \n",
       "carheight                             52.4         54.3        54.3      53.1   \n",
       "curbweight                            2823         2337        2824      2507   \n",
       "enginetype                            ohcv          ohc         ohc       ohc   \n",
       "cylindernumber                         six         four        five      five   \n",
       "enginesize                             152          109         136       136   \n",
       "fuelsystem                            mpfi         mpfi        mpfi      mpfi   \n",
       "boreratio                             2.68         3.19        3.19      3.19   \n",
       "stroke                                3.47          3.4         3.4       3.4   \n",
       "compressionratio                       9.0         10.0         8.0       8.5   \n",
       "horsepower                             154          102         115       110   \n",
       "peakrpm                               5000         5500        5500      5500   \n",
       "citympg                                 19           24          18        19   \n",
       "highwaympg                              26           30          22        25   \n",
       "price                              16500.0      13950.0     17450.0   15250.0   \n",
       "\n",
       "                         6          7          8                    9    ...  \\\n",
       "car_ID                     7          8          9                   10  ...   \n",
       "symboling                  1          1          1                    0  ...   \n",
       "CarName           audi 100ls  audi 5000  audi 4000  audi 5000s (diesel)  ...   \n",
       "fueltype                 gas        gas        gas                  gas  ...   \n",
       "aspiration               std        std      turbo                turbo  ...   \n",
       "doornumber              four       four       four                  two  ...   \n",
       "carbody                sedan      wagon      sedan            hatchback  ...   \n",
       "drivewheel               fwd        fwd        fwd                  4wd  ...   \n",
       "enginelocation         front      front      front                front  ...   \n",
       "wheelbase              105.8      105.8      105.8                 99.5  ...   \n",
       "carlength              192.7      192.7      192.7                178.2  ...   \n",
       "carwidth                71.4       71.4       71.4                 67.9  ...   \n",
       "carheight               55.7       55.7       55.9                 52.0  ...   \n",
       "curbweight              2844       2954       3086                 3053  ...   \n",
       "enginetype               ohc        ohc        ohc                  ohc  ...   \n",
       "cylindernumber          five       five       five                 five  ...   \n",
       "enginesize               136        136        131                  131  ...   \n",
       "fuelsystem              mpfi       mpfi       mpfi                 mpfi  ...   \n",
       "boreratio               3.19       3.19       3.13                 3.13  ...   \n",
       "stroke                   3.4        3.4        3.4                  3.4  ...   \n",
       "compressionratio         8.5        8.5        8.3                  7.0  ...   \n",
       "horsepower               110        110        140                  160  ...   \n",
       "peakrpm                 5500       5500       5500                 5500  ...   \n",
       "citympg                   19         19         17                   16  ...   \n",
       "highwaympg                25         25         20                   22  ...   \n",
       "price                17710.0    18920.0    23875.0            17859.167  ...   \n",
       "\n",
       "                          195          196        197          198  \\\n",
       "car_ID                    196          197        198          199   \n",
       "symboling                  -1           -2         -1           -2   \n",
       "CarName           volvo 144ea  volvo 244dl  volvo 245  volvo 264gl   \n",
       "fueltype                  gas          gas        gas          gas   \n",
       "aspiration                std          std        std        turbo   \n",
       "doornumber               four         four       four         four   \n",
       "carbody                 wagon        sedan      wagon        sedan   \n",
       "drivewheel                rwd          rwd        rwd          rwd   \n",
       "enginelocation          front        front      front        front   \n",
       "wheelbase               104.3        104.3      104.3        104.3   \n",
       "carlength               188.8        188.8      188.8        188.8   \n",
       "carwidth                 67.2         67.2       67.2         67.2   \n",
       "carheight                57.5         56.2       57.5         56.2   \n",
       "curbweight               3034         2935       3042         3045   \n",
       "enginetype                ohc          ohc        ohc          ohc   \n",
       "cylindernumber           four         four       four         four   \n",
       "enginesize                141          141        141          130   \n",
       "fuelsystem               mpfi         mpfi       mpfi         mpfi   \n",
       "boreratio                3.78         3.78       3.78         3.62   \n",
       "stroke                   3.15         3.15       3.15         3.15   \n",
       "compressionratio          9.5          9.5        9.5          7.5   \n",
       "horsepower                114          114        114          162   \n",
       "peakrpm                  5400         5400       5400         5100   \n",
       "citympg                    23           24         24           17   \n",
       "highwaympg                 28           28         28           22   \n",
       "price                 13415.0      15985.0    16515.0      18420.0   \n",
       "\n",
       "                           199              200          201          202  \\\n",
       "car_ID                     200              201          202          203   \n",
       "symboling                   -1               -1           -1           -1   \n",
       "CarName           volvo diesel  volvo 145e (sw)  volvo 144ea  volvo 244dl   \n",
       "fueltype                   gas              gas          gas          gas   \n",
       "aspiration               turbo              std        turbo          std   \n",
       "doornumber                four             four         four         four   \n",
       "carbody                  wagon            sedan        sedan        sedan   \n",
       "drivewheel                 rwd              rwd          rwd          rwd   \n",
       "enginelocation           front            front        front        front   \n",
       "wheelbase                104.3            109.1        109.1        109.1   \n",
       "carlength                188.8            188.8        188.8        188.8   \n",
       "carwidth                  67.2             68.9         68.8         68.9   \n",
       "carheight                 57.5             55.5         55.5         55.5   \n",
       "curbweight                3157             2952         3049         3012   \n",
       "enginetype                 ohc              ohc          ohc         ohcv   \n",
       "cylindernumber            four             four         four          six   \n",
       "enginesize                 130              141          141          173   \n",
       "fuelsystem                mpfi             mpfi         mpfi         mpfi   \n",
       "boreratio                 3.62             3.78         3.78         3.58   \n",
       "stroke                    3.15             3.15         3.15         2.87   \n",
       "compressionratio           7.5              9.5          8.7          8.8   \n",
       "horsepower                 162              114          160          134   \n",
       "peakrpm                   5100             5400         5300         5500   \n",
       "citympg                     17               23           19           18   \n",
       "highwaympg                  22               28           25           23   \n",
       "price                  18950.0          16845.0      19045.0      21485.0   \n",
       "\n",
       "                        203          204  \n",
       "car_ID                  204          205  \n",
       "symboling                -1           -1  \n",
       "CarName           volvo 246  volvo 264gl  \n",
       "fueltype             diesel          gas  \n",
       "aspiration            turbo        turbo  \n",
       "doornumber             four         four  \n",
       "carbody               sedan        sedan  \n",
       "drivewheel              rwd          rwd  \n",
       "enginelocation        front        front  \n",
       "wheelbase             109.1        109.1  \n",
       "carlength             188.8        188.8  \n",
       "carwidth               68.9         68.9  \n",
       "carheight              55.5         55.5  \n",
       "curbweight             3217         3062  \n",
       "enginetype              ohc          ohc  \n",
       "cylindernumber          six         four  \n",
       "enginesize              145          141  \n",
       "fuelsystem              idi         mpfi  \n",
       "boreratio              3.01         3.78  \n",
       "stroke                  3.4         3.15  \n",
       "compressionratio       23.0          9.5  \n",
       "horsepower              106          114  \n",
       "peakrpm                4800         5400  \n",
       "citympg                  26           19  \n",
       "highwaympg               27           25  \n",
       "price               22470.0      22625.0  \n",
       "\n",
       "[26 rows x 205 columns]"
      ]
     },
     "execution_count": 3,
     "metadata": {},
     "output_type": "execute_result"
    }
   ],
   "source": [
    "df.T"
   ]
  },
  {
   "cell_type": "markdown",
   "id": "663d8ade",
   "metadata": {},
   "source": [
    "# 3. EDA"
   ]
  },
  {
   "cell_type": "code",
   "execution_count": 4,
   "id": "a83c8d59",
   "metadata": {
    "scrolled": true
   },
   "outputs": [
    {
     "data": {
      "text/plain": [
       "Index(['car_ID', 'symboling', 'CarName', 'fueltype', 'aspiration',\n",
       "       'doornumber', 'carbody', 'drivewheel', 'enginelocation', 'wheelbase',\n",
       "       'carlength', 'carwidth', 'carheight', 'curbweight', 'enginetype',\n",
       "       'cylindernumber', 'enginesize', 'fuelsystem', 'boreratio', 'stroke',\n",
       "       'compressionratio', 'horsepower', 'peakrpm', 'citympg', 'highwaympg',\n",
       "       'price'],\n",
       "      dtype='object')"
      ]
     },
     "execution_count": 4,
     "metadata": {},
     "output_type": "execute_result"
    }
   ],
   "source": [
    "df.columns"
   ]
  },
  {
   "cell_type": "markdown",
   "id": "48a0f90c",
   "metadata": {},
   "source": [
    "## 3.1 symboling"
   ]
  },
  {
   "cell_type": "code",
   "execution_count": 5,
   "id": "6a835c16",
   "metadata": {},
   "outputs": [
    {
     "data": {
      "text/plain": [
       " 0    67\n",
       " 1    54\n",
       " 2    32\n",
       " 3    27\n",
       "-1    22\n",
       "-2     3\n",
       "Name: symboling, dtype: int64"
      ]
     },
     "execution_count": 5,
     "metadata": {},
     "output_type": "execute_result"
    }
   ],
   "source": [
    "df['symboling'].value_counts()"
   ]
  },
  {
   "cell_type": "code",
   "execution_count": 6,
   "id": "6dc20a24",
   "metadata": {},
   "outputs": [
    {
     "data": {
      "text/plain": [
       "<AxesSubplot:xlabel='symboling', ylabel='count'>"
      ]
     },
     "execution_count": 6,
     "metadata": {},
     "output_type": "execute_result"
    },
    {
     "data": {
      "image/png": "[encoded data removed]",
      "text/plain": [
       "<Figure size 432x288 with 1 Axes>"
      ]
     },
     "metadata": {
      "needs_background": "light"
     },
     "output_type": "display_data"
    }
   ],
   "source": [
    "sns.countplot(df['symboling'])"
   ]
  },
  {
   "cell_type": "markdown",
   "id": "b29ef610",
   "metadata": {},
   "source": [
    "## 3.2 CarName"
   ]
  },
  {
   "cell_type": "code",
   "execution_count": 7,
   "id": "ed45cd58",
   "metadata": {},
   "outputs": [
    {
     "data": {
      "text/plain": [
       "147"
      ]
     },
     "execution_count": 7,
     "metadata": {},
     "output_type": "execute_result"
    }
   ],
   "source": [
    "df['CarName'].nunique()"
   ]
  },
  {
   "cell_type": "code",
   "execution_count": 8,
   "id": "5ab81438",
   "metadata": {},
   "outputs": [
    {
     "data": {
      "text/plain": [
       "toyota corona           6\n",
       "toyota corolla          6\n",
       "peugeot 504             6\n",
       "subaru dl               4\n",
       "mitsubishi mirage g4    3\n",
       "                       ..\n",
       "mazda glc 4             1\n",
       "mazda rx2 coupe         1\n",
       "maxda glc deluxe        1\n",
       "maxda rx3               1\n",
       "volvo 246               1\n",
       "Name: CarName, Length: 147, dtype: int64"
      ]
     },
     "execution_count": 8,
     "metadata": {},
     "output_type": "execute_result"
    }
   ],
   "source": [
    "df['CarName'].value_counts()"
   ]
  },
  {
   "cell_type": "code",
   "execution_count": 9,
   "id": "a3686b9b",
   "metadata": {},
   "outputs": [],
   "source": [
    "def Clean_text(x):\n",
    "    z=x.split(\" \")\n",
    "    y=z[0]\n",
    "    return y"
   ]
  },
  {
   "cell_type": "code",
   "execution_count": 10,
   "id": "bc3e4283",
   "metadata": {},
   "outputs": [],
   "source": [
    "df['CarName1']=df['CarName'].apply(Clean_text)"
   ]
  },
  {
   "cell_type": "code",
   "execution_count": 11,
   "id": "7ce0829d",
   "metadata": {
    "scrolled": true
   },
   "outputs": [],
   "source": [
    "df.drop('CarName',axis=1,inplace=True)"
   ]
  },
  {
   "cell_type": "code",
   "execution_count": 12,
   "id": "2eaf8333",
   "metadata": {
    "scrolled": false
   },
   "outputs": [],
   "source": [
    "df.rename({'CarName1':'Company_Name'},axis=1,inplace=True)"
   ]
  },
  {
   "cell_type": "code",
   "execution_count": 13,
   "id": "783b9084",
   "metadata": {
    "scrolled": true
   },
   "outputs": [
    {
     "data": {
      "text/html": [
       "<div>\n",
       "<style scoped>\n",
       "    .dataframe tbody tr th:only-of-type {\n",
       "        vertical-align: middle;\n",
       "    }\n",
       "\n",
       "    .dataframe tbody tr th {\n",
       "        vertical-align: top;\n",
       "    }\n",
       "\n",
       "    .dataframe thead th {\n",
       "        text-align: right;\n",
       "    }\n",
       "</style>\n",
       "<table border=\"1\" class=\"dataframe\">\n",
       "  <thead>\n",
       "    <tr style=\"text-align: right;\">\n",
       "      <th></th>\n",
       "      <th>0</th>\n",
       "      <th>1</th>\n",
       "      <th>2</th>\n",
       "      <th>3</th>\n",
       "      <th>4</th>\n",
       "      <th>5</th>\n",
       "      <th>6</th>\n",
       "      <th>7</th>\n",
       "      <th>8</th>\n",
       "      <th>9</th>\n",
       "      <th>...</th>\n",
       "      <th>195</th>\n",
       "      <th>196</th>\n",
       "      <th>197</th>\n",
       "      <th>198</th>\n",
       "      <th>199</th>\n",
       "      <th>200</th>\n",
       "      <th>201</th>\n",
       "      <th>202</th>\n",
       "      <th>203</th>\n",
       "      <th>204</th>\n",
       "    </tr>\n",
       "  </thead>\n",
       "  <tbody>\n",
       "    <tr>\n",
       "      <th>car_ID</th>\n",
       "      <td>1</td>\n",
       "      <td>2</td>\n",
       "      <td>3</td>\n",
       "      <td>4</td>\n",
       "      <td>5</td>\n",
       "      <td>6</td>\n",
       "      <td>7</td>\n",
       "      <td>8</td>\n",
       "      <td>9</td>\n",
       "      <td>10</td>\n",
       "      <td>...</td>\n",
       "      <td>196</td>\n",
       "      <td>197</td>\n",
       "      <td>198</td>\n",
       "      <td>199</td>\n",
       "      <td>200</td>\n",
       "      <td>201</td>\n",
       "      <td>202</td>\n",
       "      <td>203</td>\n",
       "      <td>204</td>\n",
       "      <td>205</td>\n",
       "    </tr>\n",
       "    <tr>\n",
       "      <th>symboling</th>\n",
       "      <td>3</td>\n",
       "      <td>3</td>\n",
       "      <td>1</td>\n",
       "      <td>2</td>\n",
       "      <td>2</td>\n",
       "      <td>2</td>\n",
       "      <td>1</td>\n",
       "      <td>1</td>\n",
       "      <td>1</td>\n",
       "      <td>0</td>\n",
       "      <td>...</td>\n",
       "      <td>-1</td>\n",
       "      <td>-2</td>\n",
       "      <td>-1</td>\n",
       "      <td>-2</td>\n",
       "      <td>-1</td>\n",
       "      <td>-1</td>\n",
       "      <td>-1</td>\n",
       "      <td>-1</td>\n",
       "      <td>-1</td>\n",
       "      <td>-1</td>\n",
       "    </tr>\n",
       "    <tr>\n",
       "      <th>fueltype</th>\n",
       "      <td>gas</td>\n",
       "      <td>gas</td>\n",
       "      <td>gas</td>\n",
       "      <td>gas</td>\n",
       "      <td>gas</td>\n",
       "      <td>gas</td>\n",
       "      <td>gas</td>\n",
       "      <td>gas</td>\n",
       "      <td>gas</td>\n",
       "      <td>gas</td>\n",
       "      <td>...</td>\n",
       "      <td>gas</td>\n",
       "      <td>gas</td>\n",
       "      <td>gas</td>\n",
       "      <td>gas</td>\n",
       "      <td>gas</td>\n",
       "      <td>gas</td>\n",
       "      <td>gas</td>\n",
       "      <td>gas</td>\n",
       "      <td>diesel</td>\n",
       "      <td>gas</td>\n",
       "    </tr>\n",
       "    <tr>\n",
       "      <th>aspiration</th>\n",
       "      <td>std</td>\n",
       "      <td>std</td>\n",
       "      <td>std</td>\n",
       "      <td>std</td>\n",
       "      <td>std</td>\n",
       "      <td>std</td>\n",
       "      <td>std</td>\n",
       "      <td>std</td>\n",
       "      <td>turbo</td>\n",
       "      <td>turbo</td>\n",
       "      <td>...</td>\n",
       "      <td>std</td>\n",
       "      <td>std</td>\n",
       "      <td>std</td>\n",
       "      <td>turbo</td>\n",
       "      <td>turbo</td>\n",
       "      <td>std</td>\n",
       "      <td>turbo</td>\n",
       "      <td>std</td>\n",
       "      <td>turbo</td>\n",
       "      <td>turbo</td>\n",
       "    </tr>\n",
       "    <tr>\n",
       "      <th>doornumber</th>\n",
       "      <td>two</td>\n",
       "      <td>two</td>\n",
       "      <td>two</td>\n",
       "      <td>four</td>\n",
       "      <td>four</td>\n",
       "      <td>two</td>\n",
       "      <td>four</td>\n",
       "      <td>four</td>\n",
       "      <td>four</td>\n",
       "      <td>two</td>\n",
       "      <td>...</td>\n",
       "      <td>four</td>\n",
       "      <td>four</td>\n",
       "      <td>four</td>\n",
       "      <td>four</td>\n",
       "      <td>four</td>\n",
       "      <td>four</td>\n",
       "      <td>four</td>\n",
       "      <td>four</td>\n",
       "      <td>four</td>\n",
       "      <td>four</td>\n",
       "    </tr>\n",
       "    <tr>\n",
       "      <th>carbody</th>\n",
       "      <td>convertible</td>\n",
       "      <td>convertible</td>\n",
       "      <td>hatchback</td>\n",
       "      <td>sedan</td>\n",
       "      <td>sedan</td>\n",
       "      <td>sedan</td>\n",
       "      <td>sedan</td>\n",
       "      <td>wagon</td>\n",
       "      <td>sedan</td>\n",
       "      <td>hatchback</td>\n",
       "      <td>...</td>\n",
       "      <td>wagon</td>\n",
       "      <td>sedan</td>\n",
       "      <td>wagon</td>\n",
       "      <td>sedan</td>\n",
       "      <td>wagon</td>\n",
       "      <td>sedan</td>\n",
       "      <td>sedan</td>\n",
       "      <td>sedan</td>\n",
       "      <td>sedan</td>\n",
       "      <td>sedan</td>\n",
       "    </tr>\n",
       "    <tr>\n",
       "      <th>drivewheel</th>\n",
       "      <td>rwd</td>\n",
       "      <td>rwd</td>\n",
       "      <td>rwd</td>\n",
       "      <td>fwd</td>\n",
       "      <td>4wd</td>\n",
       "      <td>fwd</td>\n",
       "      <td>fwd</td>\n",
       "      <td>fwd</td>\n",
       "      <td>fwd</td>\n",
       "      <td>4wd</td>\n",
       "      <td>...</td>\n",
       "      <td>rwd</td>\n",
       "      <td>rwd</td>\n",
       "      <td>rwd</td>\n",
       "      <td>rwd</td>\n",
       "      <td>rwd</td>\n",
       "      <td>rwd</td>\n",
       "      <td>rwd</td>\n",
       "      <td>rwd</td>\n",
       "      <td>rwd</td>\n",
       "      <td>rwd</td>\n",
       "    </tr>\n",
       "    <tr>\n",
       "      <th>enginelocation</th>\n",
       "      <td>front</td>\n",
       "      <td>front</td>\n",
       "      <td>front</td>\n",
       "      <td>front</td>\n",
       "      <td>front</td>\n",
       "      <td>front</td>\n",
       "      <td>front</td>\n",
       "      <td>front</td>\n",
       "      <td>front</td>\n",
       "      <td>front</td>\n",
       "      <td>...</td>\n",
       "      <td>front</td>\n",
       "      <td>front</td>\n",
       "      <td>front</td>\n",
       "      <td>front</td>\n",
       "      <td>front</td>\n",
       "      <td>front</td>\n",
       "      <td>front</td>\n",
       "      <td>front</td>\n",
       "      <td>front</td>\n",
       "      <td>front</td>\n",
       "    </tr>\n",
       "    <tr>\n",
       "      <th>wheelbase</th>\n",
       "      <td>88.6</td>\n",
       "      <td>88.6</td>\n",
       "      <td>94.5</td>\n",
       "      <td>99.8</td>\n",
       "      <td>99.4</td>\n",
       "      <td>99.8</td>\n",
       "      <td>105.8</td>\n",
       "      <td>105.8</td>\n",
       "      <td>105.8</td>\n",
       "      <td>99.5</td>\n",
       "      <td>...</td>\n",
       "      <td>104.3</td>\n",
       "      <td>104.3</td>\n",
       "      <td>104.3</td>\n",
       "      <td>104.3</td>\n",
       "      <td>104.3</td>\n",
       "      <td>109.1</td>\n",
       "      <td>109.1</td>\n",
       "      <td>109.1</td>\n",
       "      <td>109.1</td>\n",
       "      <td>109.1</td>\n",
       "    </tr>\n",
       "    <tr>\n",
       "      <th>carlength</th>\n",
       "      <td>168.8</td>\n",
       "      <td>168.8</td>\n",
       "      <td>171.2</td>\n",
       "      <td>176.6</td>\n",
       "      <td>176.6</td>\n",
       "      <td>177.3</td>\n",
       "      <td>192.7</td>\n",
       "      <td>192.7</td>\n",
       "      <td>192.7</td>\n",
       "      <td>178.2</td>\n",
       "      <td>...</td>\n",
       "      <td>188.8</td>\n",
       "      <td>188.8</td>\n",
       "      <td>188.8</td>\n",
       "      <td>188.8</td>\n",
       "      <td>188.8</td>\n",
       "      <td>188.8</td>\n",
       "      <td>188.8</td>\n",
       "      <td>188.8</td>\n",
       "      <td>188.8</td>\n",
       "      <td>188.8</td>\n",
       "    </tr>\n",
       "    <tr>\n",
       "      <th>carwidth</th>\n",
       "      <td>64.1</td>\n",
       "      <td>64.1</td>\n",
       "      <td>65.5</td>\n",
       "      <td>66.2</td>\n",
       "      <td>66.4</td>\n",
       "      <td>66.3</td>\n",
       "      <td>71.4</td>\n",
       "      <td>71.4</td>\n",
       "      <td>71.4</td>\n",
       "      <td>67.9</td>\n",
       "      <td>...</td>\n",
       "      <td>67.2</td>\n",
       "      <td>67.2</td>\n",
       "      <td>67.2</td>\n",
       "      <td>67.2</td>\n",
       "      <td>67.2</td>\n",
       "      <td>68.9</td>\n",
       "      <td>68.8</td>\n",
       "      <td>68.9</td>\n",
       "      <td>68.9</td>\n",
       "      <td>68.9</td>\n",
       "    </tr>\n",
       "    <tr>\n",
       "      <th>carheight</th>\n",
       "      <td>48.8</td>\n",
       "      <td>48.8</td>\n",
       "      <td>52.4</td>\n",
       "      <td>54.3</td>\n",
       "      <td>54.3</td>\n",
       "      <td>53.1</td>\n",
       "      <td>55.7</td>\n",
       "      <td>55.7</td>\n",
       "      <td>55.9</td>\n",
       "      <td>52.0</td>\n",
       "      <td>...</td>\n",
       "      <td>57.5</td>\n",
       "      <td>56.2</td>\n",
       "      <td>57.5</td>\n",
       "      <td>56.2</td>\n",
       "      <td>57.5</td>\n",
       "      <td>55.5</td>\n",
       "      <td>55.5</td>\n",
       "      <td>55.5</td>\n",
       "      <td>55.5</td>\n",
       "      <td>55.5</td>\n",
       "    </tr>\n",
       "    <tr>\n",
       "      <th>curbweight</th>\n",
       "      <td>2548</td>\n",
       "      <td>2548</td>\n",
       "      <td>2823</td>\n",
       "      <td>2337</td>\n",
       "      <td>2824</td>\n",
       "      <td>2507</td>\n",
       "      <td>2844</td>\n",
       "      <td>2954</td>\n",
       "      <td>3086</td>\n",
       "      <td>3053</td>\n",
       "      <td>...</td>\n",
       "      <td>3034</td>\n",
       "      <td>2935</td>\n",
       "      <td>3042</td>\n",
       "      <td>3045</td>\n",
       "      <td>3157</td>\n",
       "      <td>2952</td>\n",
       "      <td>3049</td>\n",
       "      <td>3012</td>\n",
       "      <td>3217</td>\n",
       "      <td>3062</td>\n",
       "    </tr>\n",
       "    <tr>\n",
       "      <th>enginetype</th>\n",
       "      <td>dohc</td>\n",
       "      <td>dohc</td>\n",
       "      <td>ohcv</td>\n",
       "      <td>ohc</td>\n",
       "      <td>ohc</td>\n",
       "      <td>ohc</td>\n",
       "      <td>ohc</td>\n",
       "      <td>ohc</td>\n",
       "      <td>ohc</td>\n",
       "      <td>ohc</td>\n",
       "      <td>...</td>\n",
       "      <td>ohc</td>\n",
       "      <td>ohc</td>\n",
       "      <td>ohc</td>\n",
       "      <td>ohc</td>\n",
       "      <td>ohc</td>\n",
       "      <td>ohc</td>\n",
       "      <td>ohc</td>\n",
       "      <td>ohcv</td>\n",
       "      <td>ohc</td>\n",
       "      <td>ohc</td>\n",
       "    </tr>\n",
       "    <tr>\n",
       "      <th>cylindernumber</th>\n",
       "      <td>four</td>\n",
       "      <td>four</td>\n",
       "      <td>six</td>\n",
       "      <td>four</td>\n",
       "      <td>five</td>\n",
       "      <td>five</td>\n",
       "      <td>five</td>\n",
       "      <td>five</td>\n",
       "      <td>five</td>\n",
       "      <td>five</td>\n",
       "      <td>...</td>\n",
       "      <td>four</td>\n",
       "      <td>four</td>\n",
       "      <td>four</td>\n",
       "      <td>four</td>\n",
       "      <td>four</td>\n",
       "      <td>four</td>\n",
       "      <td>four</td>\n",
       "      <td>six</td>\n",
       "      <td>six</td>\n",
       "      <td>four</td>\n",
       "    </tr>\n",
       "    <tr>\n",
       "      <th>enginesize</th>\n",
       "      <td>130</td>\n",
       "      <td>130</td>\n",
       "      <td>152</td>\n",
       "      <td>109</td>\n",
       "      <td>136</td>\n",
       "      <td>136</td>\n",
       "      <td>136</td>\n",
       "      <td>136</td>\n",
       "      <td>131</td>\n",
       "      <td>131</td>\n",
       "      <td>...</td>\n",
       "      <td>141</td>\n",
       "      <td>141</td>\n",
       "      <td>141</td>\n",
       "      <td>130</td>\n",
       "      <td>130</td>\n",
       "      <td>141</td>\n",
       "      <td>141</td>\n",
       "      <td>173</td>\n",
       "      <td>145</td>\n",
       "      <td>141</td>\n",
       "    </tr>\n",
       "    <tr>\n",
       "      <th>fuelsystem</th>\n",
       "      <td>mpfi</td>\n",
       "      <td>mpfi</td>\n",
       "      <td>mpfi</td>\n",
       "      <td>mpfi</td>\n",
       "      <td>mpfi</td>\n",
       "      <td>mpfi</td>\n",
       "      <td>mpfi</td>\n",
       "      <td>mpfi</td>\n",
       "      <td>mpfi</td>\n",
       "      <td>mpfi</td>\n",
       "      <td>...</td>\n",
       "      <td>mpfi</td>\n",
       "      <td>mpfi</td>\n",
       "      <td>mpfi</td>\n",
       "      <td>mpfi</td>\n",
       "      <td>mpfi</td>\n",
       "      <td>mpfi</td>\n",
       "      <td>mpfi</td>\n",
       "      <td>mpfi</td>\n",
       "      <td>idi</td>\n",
       "      <td>mpfi</td>\n",
       "    </tr>\n",
       "    <tr>\n",
       "      <th>boreratio</th>\n",
       "      <td>3.47</td>\n",
       "      <td>3.47</td>\n",
       "      <td>2.68</td>\n",
       "      <td>3.19</td>\n",
       "      <td>3.19</td>\n",
       "      <td>3.19</td>\n",
       "      <td>3.19</td>\n",
       "      <td>3.19</td>\n",
       "      <td>3.13</td>\n",
       "      <td>3.13</td>\n",
       "      <td>...</td>\n",
       "      <td>3.78</td>\n",
       "      <td>3.78</td>\n",
       "      <td>3.78</td>\n",
       "      <td>3.62</td>\n",
       "      <td>3.62</td>\n",
       "      <td>3.78</td>\n",
       "      <td>3.78</td>\n",
       "      <td>3.58</td>\n",
       "      <td>3.01</td>\n",
       "      <td>3.78</td>\n",
       "    </tr>\n",
       "    <tr>\n",
       "      <th>stroke</th>\n",
       "      <td>2.68</td>\n",
       "      <td>2.68</td>\n",
       "      <td>3.47</td>\n",
       "      <td>3.4</td>\n",
       "      <td>3.4</td>\n",
       "      <td>3.4</td>\n",
       "      <td>3.4</td>\n",
       "      <td>3.4</td>\n",
       "      <td>3.4</td>\n",
       "      <td>3.4</td>\n",
       "      <td>...</td>\n",
       "      <td>3.15</td>\n",
       "      <td>3.15</td>\n",
       "      <td>3.15</td>\n",
       "      <td>3.15</td>\n",
       "      <td>3.15</td>\n",
       "      <td>3.15</td>\n",
       "      <td>3.15</td>\n",
       "      <td>2.87</td>\n",
       "      <td>3.4</td>\n",
       "      <td>3.15</td>\n",
       "    </tr>\n",
       "    <tr>\n",
       "      <th>compressionratio</th>\n",
       "      <td>9.0</td>\n",
       "      <td>9.0</td>\n",
       "      <td>9.0</td>\n",
       "      <td>10.0</td>\n",
       "      <td>8.0</td>\n",
       "      <td>8.5</td>\n",
       "      <td>8.5</td>\n",
       "      <td>8.5</td>\n",
       "      <td>8.3</td>\n",
       "      <td>7.0</td>\n",
       "      <td>...</td>\n",
       "      <td>9.5</td>\n",
       "      <td>9.5</td>\n",
       "      <td>9.5</td>\n",
       "      <td>7.5</td>\n",
       "      <td>7.5</td>\n",
       "      <td>9.5</td>\n",
       "      <td>8.7</td>\n",
       "      <td>8.8</td>\n",
       "      <td>23.0</td>\n",
       "      <td>9.5</td>\n",
       "    </tr>\n",
       "    <tr>\n",
       "      <th>horsepower</th>\n",
       "      <td>111</td>\n",
       "      <td>111</td>\n",
       "      <td>154</td>\n",
       "      <td>102</td>\n",
       "      <td>115</td>\n",
       "      <td>110</td>\n",
       "      <td>110</td>\n",
       "      <td>110</td>\n",
       "      <td>140</td>\n",
       "      <td>160</td>\n",
       "      <td>...</td>\n",
       "      <td>114</td>\n",
       "      <td>114</td>\n",
       "      <td>114</td>\n",
       "      <td>162</td>\n",
       "      <td>162</td>\n",
       "      <td>114</td>\n",
       "      <td>160</td>\n",
       "      <td>134</td>\n",
       "      <td>106</td>\n",
       "      <td>114</td>\n",
       "    </tr>\n",
       "    <tr>\n",
       "      <th>peakrpm</th>\n",
       "      <td>5000</td>\n",
       "      <td>5000</td>\n",
       "      <td>5000</td>\n",
       "      <td>5500</td>\n",
       "      <td>5500</td>\n",
       "      <td>5500</td>\n",
       "      <td>5500</td>\n",
       "      <td>5500</td>\n",
       "      <td>5500</td>\n",
       "      <td>5500</td>\n",
       "      <td>...</td>\n",
       "      <td>5400</td>\n",
       "      <td>5400</td>\n",
       "      <td>5400</td>\n",
       "      <td>5100</td>\n",
       "      <td>5100</td>\n",
       "      <td>5400</td>\n",
       "      <td>5300</td>\n",
       "      <td>5500</td>\n",
       "      <td>4800</td>\n",
       "      <td>5400</td>\n",
       "    </tr>\n",
       "    <tr>\n",
       "      <th>citympg</th>\n",
       "      <td>21</td>\n",
       "      <td>21</td>\n",
       "      <td>19</td>\n",
       "      <td>24</td>\n",
       "      <td>18</td>\n",
       "      <td>19</td>\n",
       "      <td>19</td>\n",
       "      <td>19</td>\n",
       "      <td>17</td>\n",
       "      <td>16</td>\n",
       "      <td>...</td>\n",
       "      <td>23</td>\n",
       "      <td>24</td>\n",
       "      <td>24</td>\n",
       "      <td>17</td>\n",
       "      <td>17</td>\n",
       "      <td>23</td>\n",
       "      <td>19</td>\n",
       "      <td>18</td>\n",
       "      <td>26</td>\n",
       "      <td>19</td>\n",
       "    </tr>\n",
       "    <tr>\n",
       "      <th>highwaympg</th>\n",
       "      <td>27</td>\n",
       "      <td>27</td>\n",
       "      <td>26</td>\n",
       "      <td>30</td>\n",
       "      <td>22</td>\n",
       "      <td>25</td>\n",
       "      <td>25</td>\n",
       "      <td>25</td>\n",
       "      <td>20</td>\n",
       "      <td>22</td>\n",
       "      <td>...</td>\n",
       "      <td>28</td>\n",
       "      <td>28</td>\n",
       "      <td>28</td>\n",
       "      <td>22</td>\n",
       "      <td>22</td>\n",
       "      <td>28</td>\n",
       "      <td>25</td>\n",
       "      <td>23</td>\n",
       "      <td>27</td>\n",
       "      <td>25</td>\n",
       "    </tr>\n",
       "    <tr>\n",
       "      <th>price</th>\n",
       "      <td>13495.0</td>\n",
       "      <td>16500.0</td>\n",
       "      <td>16500.0</td>\n",
       "      <td>13950.0</td>\n",
       "      <td>17450.0</td>\n",
       "      <td>15250.0</td>\n",
       "      <td>17710.0</td>\n",
       "      <td>18920.0</td>\n",
       "      <td>23875.0</td>\n",
       "      <td>17859.167</td>\n",
       "      <td>...</td>\n",
       "      <td>13415.0</td>\n",
       "      <td>15985.0</td>\n",
       "      <td>16515.0</td>\n",
       "      <td>18420.0</td>\n",
       "      <td>18950.0</td>\n",
       "      <td>16845.0</td>\n",
       "      <td>19045.0</td>\n",
       "      <td>21485.0</td>\n",
       "      <td>22470.0</td>\n",
       "      <td>22625.0</td>\n",
       "    </tr>\n",
       "    <tr>\n",
       "      <th>Company_Name</th>\n",
       "      <td>alfa-romero</td>\n",
       "      <td>alfa-romero</td>\n",
       "      <td>alfa-romero</td>\n",
       "      <td>audi</td>\n",
       "      <td>audi</td>\n",
       "      <td>audi</td>\n",
       "      <td>audi</td>\n",
       "      <td>audi</td>\n",
       "      <td>audi</td>\n",
       "      <td>audi</td>\n",
       "      <td>...</td>\n",
       "      <td>volvo</td>\n",
       "      <td>volvo</td>\n",
       "      <td>volvo</td>\n",
       "      <td>volvo</td>\n",
       "      <td>volvo</td>\n",
       "      <td>volvo</td>\n",
       "      <td>volvo</td>\n",
       "      <td>volvo</td>\n",
       "      <td>volvo</td>\n",
       "      <td>volvo</td>\n",
       "    </tr>\n",
       "  </tbody>\n",
       "</table>\n",
       "<p>26 rows × 205 columns</p>\n",
       "</div>"
      ],
      "text/plain": [
       "                          0            1            2        3        4    \\\n",
       "car_ID                      1            2            3        4        5   \n",
       "symboling                   3            3            1        2        2   \n",
       "fueltype                  gas          gas          gas      gas      gas   \n",
       "aspiration                std          std          std      std      std   \n",
       "doornumber                two          two          two     four     four   \n",
       "carbody           convertible  convertible    hatchback    sedan    sedan   \n",
       "drivewheel                rwd          rwd          rwd      fwd      4wd   \n",
       "enginelocation          front        front        front    front    front   \n",
       "wheelbase                88.6         88.6         94.5     99.8     99.4   \n",
       "carlength               168.8        168.8        171.2    176.6    176.6   \n",
       "carwidth                 64.1         64.1         65.5     66.2     66.4   \n",
       "carheight                48.8         48.8         52.4     54.3     54.3   \n",
       "curbweight               2548         2548         2823     2337     2824   \n",
       "enginetype               dohc         dohc         ohcv      ohc      ohc   \n",
       "cylindernumber           four         four          six     four     five   \n",
       "enginesize                130          130          152      109      136   \n",
       "fuelsystem               mpfi         mpfi         mpfi     mpfi     mpfi   \n",
       "boreratio                3.47         3.47         2.68     3.19     3.19   \n",
       "stroke                   2.68         2.68         3.47      3.4      3.4   \n",
       "compressionratio          9.0          9.0          9.0     10.0      8.0   \n",
       "horsepower                111          111          154      102      115   \n",
       "peakrpm                  5000         5000         5000     5500     5500   \n",
       "citympg                    21           21           19       24       18   \n",
       "highwaympg                 27           27           26       30       22   \n",
       "price                 13495.0      16500.0      16500.0  13950.0  17450.0   \n",
       "Company_Name      alfa-romero  alfa-romero  alfa-romero     audi     audi   \n",
       "\n",
       "                      5        6        7        8          9    ...      195  \\\n",
       "car_ID                  6        7        8        9         10  ...      196   \n",
       "symboling               2        1        1        1          0  ...       -1   \n",
       "fueltype              gas      gas      gas      gas        gas  ...      gas   \n",
       "aspiration            std      std      std    turbo      turbo  ...      std   \n",
       "doornumber            two     four     four     four        two  ...     four   \n",
       "carbody             sedan    sedan    wagon    sedan  hatchback  ...    wagon   \n",
       "drivewheel            fwd      fwd      fwd      fwd        4wd  ...      rwd   \n",
       "enginelocation      front    front    front    front      front  ...    front   \n",
       "wheelbase            99.8    105.8    105.8    105.8       99.5  ...    104.3   \n",
       "carlength           177.3    192.7    192.7    192.7      178.2  ...    188.8   \n",
       "carwidth             66.3     71.4     71.4     71.4       67.9  ...     67.2   \n",
       "carheight            53.1     55.7     55.7     55.9       52.0  ...     57.5   \n",
       "curbweight           2507     2844     2954     3086       3053  ...     3034   \n",
       "enginetype            ohc      ohc      ohc      ohc        ohc  ...      ohc   \n",
       "cylindernumber       five     five     five     five       five  ...     four   \n",
       "enginesize            136      136      136      131        131  ...      141   \n",
       "fuelsystem           mpfi     mpfi     mpfi     mpfi       mpfi  ...     mpfi   \n",
       "boreratio            3.19     3.19     3.19     3.13       3.13  ...     3.78   \n",
       "stroke                3.4      3.4      3.4      3.4        3.4  ...     3.15   \n",
       "compressionratio      8.5      8.5      8.5      8.3        7.0  ...      9.5   \n",
       "horsepower            110      110      110      140        160  ...      114   \n",
       "peakrpm              5500     5500     5500     5500       5500  ...     5400   \n",
       "citympg                19       19       19       17         16  ...       23   \n",
       "highwaympg             25       25       25       20         22  ...       28   \n",
       "price             15250.0  17710.0  18920.0  23875.0  17859.167  ...  13415.0   \n",
       "Company_Name         audi     audi     audi     audi       audi  ...    volvo   \n",
       "\n",
       "                      196      197      198      199      200      201  \\\n",
       "car_ID                197      198      199      200      201      202   \n",
       "symboling              -2       -1       -2       -1       -1       -1   \n",
       "fueltype              gas      gas      gas      gas      gas      gas   \n",
       "aspiration            std      std    turbo    turbo      std    turbo   \n",
       "doornumber           four     four     four     four     four     four   \n",
       "carbody             sedan    wagon    sedan    wagon    sedan    sedan   \n",
       "drivewheel            rwd      rwd      rwd      rwd      rwd      rwd   \n",
       "enginelocation      front    front    front    front    front    front   \n",
       "wheelbase           104.3    104.3    104.3    104.3    109.1    109.1   \n",
       "carlength           188.8    188.8    188.8    188.8    188.8    188.8   \n",
       "carwidth             67.2     67.2     67.2     67.2     68.9     68.8   \n",
       "carheight            56.2     57.5     56.2     57.5     55.5     55.5   \n",
       "curbweight           2935     3042     3045     3157     2952     3049   \n",
       "enginetype            ohc      ohc      ohc      ohc      ohc      ohc   \n",
       "cylindernumber       four     four     four     four     four     four   \n",
       "enginesize            141      141      130      130      141      141   \n",
       "fuelsystem           mpfi     mpfi     mpfi     mpfi     mpfi     mpfi   \n",
       "boreratio            3.78     3.78     3.62     3.62     3.78     3.78   \n",
       "stroke               3.15     3.15     3.15     3.15     3.15     3.15   \n",
       "compressionratio      9.5      9.5      7.5      7.5      9.5      8.7   \n",
       "horsepower            114      114      162      162      114      160   \n",
       "peakrpm              5400     5400     5100     5100     5400     5300   \n",
       "citympg                24       24       17       17       23       19   \n",
       "highwaympg             28       28       22       22       28       25   \n",
       "price             15985.0  16515.0  18420.0  18950.0  16845.0  19045.0   \n",
       "Company_Name        volvo    volvo    volvo    volvo    volvo    volvo   \n",
       "\n",
       "                      202      203      204  \n",
       "car_ID                203      204      205  \n",
       "symboling              -1       -1       -1  \n",
       "fueltype              gas   diesel      gas  \n",
       "aspiration            std    turbo    turbo  \n",
       "doornumber           four     four     four  \n",
       "carbody             sedan    sedan    sedan  \n",
       "drivewheel            rwd      rwd      rwd  \n",
       "enginelocation      front    front    front  \n",
       "wheelbase           109.1    109.1    109.1  \n",
       "carlength           188.8    188.8    188.8  \n",
       "carwidth             68.9     68.9     68.9  \n",
       "carheight            55.5     55.5     55.5  \n",
       "curbweight           3012     3217     3062  \n",
       "enginetype           ohcv      ohc      ohc  \n",
       "cylindernumber        six      six     four  \n",
       "enginesize            173      145      141  \n",
       "fuelsystem           mpfi      idi     mpfi  \n",
       "boreratio            3.58     3.01     3.78  \n",
       "stroke               2.87      3.4     3.15  \n",
       "compressionratio      8.8     23.0      9.5  \n",
       "horsepower            134      106      114  \n",
       "peakrpm              5500     4800     5400  \n",
       "citympg                18       26       19  \n",
       "highwaympg             23       27       25  \n",
       "price             21485.0  22470.0  22625.0  \n",
       "Company_Name        volvo    volvo    volvo  \n",
       "\n",
       "[26 rows x 205 columns]"
      ]
     },
     "execution_count": 13,
     "metadata": {},
     "output_type": "execute_result"
    }
   ],
   "source": [
    "df.T"
   ]
  },
  {
   "cell_type": "code",
   "execution_count": 14,
   "id": "c408cb4e",
   "metadata": {},
   "outputs": [
    {
     "data": {
      "text/plain": [
       "{'toyota': 31,\n",
       " 'nissan': 17,\n",
       " 'mazda': 15,\n",
       " 'honda': 13,\n",
       " 'mitsubishi': 13,\n",
       " 'subaru': 12,\n",
       " 'peugeot': 11,\n",
       " 'volvo': 11,\n",
       " 'volkswagen': 9,\n",
       " 'dodge': 9,\n",
       " 'buick': 8,\n",
       " 'bmw': 8,\n",
       " 'audi': 7,\n",
       " 'plymouth': 7,\n",
       " 'saab': 6,\n",
       " 'isuzu': 4,\n",
       " 'porsche': 4,\n",
       " 'alfa-romero': 3,\n",
       " 'chevrolet': 3,\n",
       " 'jaguar': 3,\n",
       " 'vw': 2,\n",
       " 'maxda': 2,\n",
       " 'renault': 2,\n",
       " 'toyouta': 1,\n",
       " 'vokswagen': 1,\n",
       " 'Nissan': 1,\n",
       " 'mercury': 1,\n",
       " 'porcshce': 1}"
      ]
     },
     "execution_count": 14,
     "metadata": {},
     "output_type": "execute_result"
    }
   ],
   "source": [
    "df['Company_Name'].value_counts().to_dict()"
   ]
  },
  {
   "cell_type": "code",
   "execution_count": 15,
   "id": "bdf6136b",
   "metadata": {},
   "outputs": [],
   "source": [
    "df['Company_Name']=df['Company_Name'].replace({'toyota': 'Toyota',\n",
    " 'nissan': 'Nissan',\n",
    " 'mazda': 'Mazda',\n",
    " 'honda': 'Honda',\n",
    " 'mitsubishi': 'Mitsubishi',\n",
    " 'subaru': 'Subaru',\n",
    " 'peugeot': 'Peugeot',\n",
    " 'volvo': \"Volvo\",\n",
    " 'volkswagen': 'Volkswagen',\n",
    " 'dodge':'Dodge',\n",
    " 'buick': 'Buick',\n",
    " 'bmw': 'BMW',\n",
    " 'audi': 'Audi',\n",
    " 'plymouth':'Plymouth',\n",
    " 'saab': 'Saab',\n",
    " 'isuzu': 'Isuzu',\n",
    " 'porsche': 'Porsche',\n",
    " 'alfa-romero': 'Alfa-romero',\n",
    " 'chevrolet': 'Chevrolet',\n",
    " 'jaguar': 'Jaguar',\n",
    " 'vw': 'Volkswagen',\n",
    " 'maxda': 'Mazda',\n",
    " 'renault': 'Renault',\n",
    " 'toyouta': 'Toyota',\n",
    " 'vokswagen': 'Volkswagen',\n",
    " 'Nissan': 'Nissan',\n",
    " 'mercury': 'Mercury',\n",
    " 'porcshce': 'Porcshce'})"
   ]
  },
  {
   "cell_type": "code",
   "execution_count": 16,
   "id": "6fc71357",
   "metadata": {},
   "outputs": [
    {
     "data": {
      "text/plain": [
       "23"
      ]
     },
     "execution_count": 16,
     "metadata": {},
     "output_type": "execute_result"
    }
   ],
   "source": [
    "df['Company_Name'].nunique()"
   ]
  },
  {
   "cell_type": "code",
   "execution_count": 17,
   "id": "bc039e06",
   "metadata": {},
   "outputs": [
    {
     "data": {
      "text/plain": [
       "<AxesSubplot:xlabel='Company_Name', ylabel='count'>"
      ]
     },
     "execution_count": 17,
     "metadata": {},
     "output_type": "execute_result"
    },
    {
     "data": {
      "image/png": "[encoded data removed]",
      "text/plain": [
       "<Figure size 1440x360 with 1 Axes>"
      ]
     },
     "metadata": {
      "needs_background": "light"
     },
     "output_type": "display_data"
    }
   ],
   "source": [
    "plt.figure(figsize=(20,5))\n",
    "sns.countplot(df['Company_Name'])"
   ]
  },
  {
   "cell_type": "code",
   "execution_count": 18,
   "id": "37eb5aa5",
   "metadata": {},
   "outputs": [
    {
     "data": {
      "text/plain": [
       "<AxesSubplot:xlabel='Company_Name', ylabel='price'>"
      ]
     },
     "execution_count": 18,
     "metadata": {},
     "output_type": "execute_result"
    },
    {
     "data": {
      "image/png": "[encoded data removed]",
      "text/plain": [
       "<Figure size 1440x432 with 1 Axes>"
      ]
     },
     "metadata": {
      "needs_background": "light"
     },
     "output_type": "display_data"
    }
   ],
   "source": [
    "plt.figure(figsize=(20,6))\n",
    "sns.boxplot(x=df['Company_Name'],y=df['price'])"
   ]
  },
  {
   "cell_type": "code",
   "execution_count": 19,
   "id": "d4ced5c9",
   "metadata": {},
   "outputs": [],
   "source": [
    "# needs to do data Encoding"
   ]
  },
  {
   "cell_type": "markdown",
   "id": "7a4ff718",
   "metadata": {},
   "source": [
    "# 3.3 fueltype"
   ]
  },
  {
   "cell_type": "code",
   "execution_count": 20,
   "id": "31aaddfe",
   "metadata": {},
   "outputs": [
    {
     "data": {
      "text/plain": [
       "gas       185\n",
       "diesel     20\n",
       "Name: fueltype, dtype: int64"
      ]
     },
     "execution_count": 20,
     "metadata": {},
     "output_type": "execute_result"
    }
   ],
   "source": [
    "df['fueltype'].value_counts()"
   ]
  },
  {
   "cell_type": "code",
   "execution_count": 21,
   "id": "75e16c2b",
   "metadata": {},
   "outputs": [
    {
     "data": {
      "text/plain": [
       "<AxesSubplot:xlabel='fueltype', ylabel='count'>"
      ]
     },
     "execution_count": 21,
     "metadata": {},
     "output_type": "execute_result"
    },
    {
     "data": {
      "image/png": "[encoded data removed]",
      "text/plain": [
       "<Figure size 432x288 with 1 Axes>"
      ]
     },
     "metadata": {
      "needs_background": "light"
     },
     "output_type": "display_data"
    }
   ],
   "source": [
    "sns.countplot(df['fueltype'])"
   ]
  },
  {
   "cell_type": "code",
   "execution_count": 22,
   "id": "e116a12c",
   "metadata": {},
   "outputs": [
    {
     "data": {
      "text/plain": [
       "<AxesSubplot:xlabel='fueltype', ylabel='price'>"
      ]
     },
     "execution_count": 22,
     "metadata": {},
     "output_type": "execute_result"
    },
    {
     "data": {
      "image/png": "[encoded data removed]",
      "text/plain": [
       "<Figure size 432x288 with 1 Axes>"
      ]
     },
     "metadata": {
      "needs_background": "light"
     },
     "output_type": "display_data"
    }
   ],
   "source": [
    "sns.boxplot(x=df['fueltype'],y=df['price'],data=df)"
   ]
  },
  {
   "cell_type": "code",
   "execution_count": 23,
   "id": "7fcf7657",
   "metadata": {},
   "outputs": [],
   "source": [
    "# Note: Data consist of more gas cars than that of diesel cars and impacts significantly on price feature."
   ]
  },
  {
   "cell_type": "markdown",
   "id": "f0a62792",
   "metadata": {},
   "source": [
    "# 3.4 aspiration"
   ]
  },
  {
   "cell_type": "code",
   "execution_count": 24,
   "id": "9551fd27",
   "metadata": {},
   "outputs": [
    {
     "data": {
      "text/plain": [
       "std      168\n",
       "turbo     37\n",
       "Name: aspiration, dtype: int64"
      ]
     },
     "execution_count": 24,
     "metadata": {},
     "output_type": "execute_result"
    }
   ],
   "source": [
    "df['aspiration'].value_counts()"
   ]
  },
  {
   "cell_type": "code",
   "execution_count": 25,
   "id": "bd418c4a",
   "metadata": {},
   "outputs": [
    {
     "data": {
      "text/plain": [
       "<AxesSubplot:xlabel='aspiration', ylabel='count'>"
      ]
     },
     "execution_count": 25,
     "metadata": {},
     "output_type": "execute_result"
    },
    {
     "data": {
      "image/png": "[encoded data removed]",
      "text/plain": [
       "<Figure size 432x288 with 1 Axes>"
      ]
     },
     "metadata": {
      "needs_background": "light"
     },
     "output_type": "display_data"
    }
   ],
   "source": [
    "sns.countplot(df['aspiration'])"
   ]
  },
  {
   "cell_type": "code",
   "execution_count": 26,
   "id": "28b469ed",
   "metadata": {},
   "outputs": [
    {
     "data": {
      "text/plain": [
       "<AxesSubplot:xlabel='aspiration', ylabel='price'>"
      ]
     },
     "execution_count": 26,
     "metadata": {},
     "output_type": "execute_result"
    },
    {
     "data": {
      "image/png": "[encoded data removed]",
      "text/plain": [
       "<Figure size 432x288 with 1 Axes>"
      ]
     },
     "metadata": {
      "needs_background": "light"
     },
     "output_type": "display_data"
    }
   ],
   "source": [
    "sns.boxplot(x=df['aspiration'],y=df['price'],data=df)"
   ]
  },
  {
   "cell_type": "code",
   "execution_count": 27,
   "id": "811301af",
   "metadata": {},
   "outputs": [],
   "source": [
    "# the upper tail vale and lower tail value differs from the std and turbo data so its imapcting our target feature.\n",
    "# here the aspiration provides data about standered car and a car with turbo feature.\n",
    "# we have seen that the data for standered car are camparitivly higher than that of tubo."
   ]
  },
  {
   "cell_type": "markdown",
   "id": "5dd888ed",
   "metadata": {},
   "source": [
    "# 3.5 doornumber"
   ]
  },
  {
   "cell_type": "code",
   "execution_count": 28,
   "id": "0a04d0cc",
   "metadata": {},
   "outputs": [
    {
     "data": {
      "text/plain": [
       "four    115\n",
       "two      90\n",
       "Name: doornumber, dtype: int64"
      ]
     },
     "execution_count": 28,
     "metadata": {},
     "output_type": "execute_result"
    }
   ],
   "source": [
    "df['doornumber'].value_counts()"
   ]
  },
  {
   "cell_type": "code",
   "execution_count": 29,
   "id": "d1420af1",
   "metadata": {},
   "outputs": [
    {
     "data": {
      "text/plain": [
       "<seaborn.axisgrid.FacetGrid at 0x2674ec5b250>"
      ]
     },
     "execution_count": 29,
     "metadata": {},
     "output_type": "execute_result"
    },
    {
     "data": {
      "image/png": "[encoded data removed]",
      "text/plain": [
       "<Figure size 360x360 with 1 Axes>"
      ]
     },
     "metadata": {
      "needs_background": "light"
     },
     "output_type": "display_data"
    }
   ],
   "source": [
    "sns.displot(df['doornumber'])"
   ]
  },
  {
   "cell_type": "code",
   "execution_count": 30,
   "id": "f1b5d3a9",
   "metadata": {},
   "outputs": [],
   "source": [
    "# There is fine amount of data available for door number feature."
   ]
  },
  {
   "cell_type": "code",
   "execution_count": 31,
   "id": "9b010fd0",
   "metadata": {},
   "outputs": [
    {
     "data": {
      "text/plain": [
       "<AxesSubplot:xlabel='doornumber', ylabel='price'>"
      ]
     },
     "execution_count": 31,
     "metadata": {},
     "output_type": "execute_result"
    },
    {
     "data": {
      "image/png": "[encoded data removed]",
      "text/plain": [
       "<Figure size 432x288 with 1 Axes>"
      ]
     },
     "metadata": {
      "needs_background": "light"
     },
     "output_type": "display_data"
    }
   ],
   "source": [
    "sns.boxplot(x=df['doornumber'],y=df['price'],data=df)"
   ]
  },
  {
   "cell_type": "markdown",
   "id": "7b39e89f",
   "metadata": {},
   "source": [
    "### the door number is not impacting the price as its upper tail and lower tail values are quite simillar.\n",
    "### so we can conclude now that we are able to drop this feature in our further data processsing."
   ]
  },
  {
   "cell_type": "markdown",
   "id": "3c8d00a0",
   "metadata": {},
   "source": [
    "# 3.6 carbody"
   ]
  },
  {
   "cell_type": "code",
   "execution_count": 32,
   "id": "34ad14bf",
   "metadata": {},
   "outputs": [
    {
     "data": {
      "text/plain": [
       "sedan          96\n",
       "hatchback      70\n",
       "wagon          25\n",
       "hardtop         8\n",
       "convertible     6\n",
       "Name: carbody, dtype: int64"
      ]
     },
     "execution_count": 32,
     "metadata": {},
     "output_type": "execute_result"
    }
   ],
   "source": [
    "df['carbody'].value_counts()"
   ]
  },
  {
   "cell_type": "code",
   "execution_count": 33,
   "id": "bbddfad4",
   "metadata": {},
   "outputs": [
    {
     "data": {
      "text/plain": [
       "5"
      ]
     },
     "execution_count": 33,
     "metadata": {},
     "output_type": "execute_result"
    }
   ],
   "source": [
    "df['carbody'].nunique()"
   ]
  },
  {
   "cell_type": "code",
   "execution_count": 34,
   "id": "37dc7121",
   "metadata": {},
   "outputs": [
    {
     "data": {
      "text/plain": [
       "<AxesSubplot:xlabel='carbody', ylabel='count'>"
      ]
     },
     "execution_count": 34,
     "metadata": {},
     "output_type": "execute_result"
    },
    {
     "data": {
      "image/png": "[encoded data removed]",
      "text/plain": [
       "<Figure size 432x288 with 1 Axes>"
      ]
     },
     "metadata": {
      "needs_background": "light"
     },
     "output_type": "display_data"
    }
   ],
   "source": [
    "sns.countplot(df['carbody'])"
   ]
  },
  {
   "cell_type": "code",
   "execution_count": 35,
   "id": "7847507d",
   "metadata": {},
   "outputs": [
    {
     "data": {
      "text/plain": [
       "<AxesSubplot:xlabel='carbody', ylabel='price'>"
      ]
     },
     "execution_count": 35,
     "metadata": {},
     "output_type": "execute_result"
    },
    {
     "data": {
      "image/png": "[encoded data removed]",
      "text/plain": [
       "<Figure size 432x288 with 1 Axes>"
      ]
     },
     "metadata": {
      "needs_background": "light"
     },
     "output_type": "display_data"
    }
   ],
   "source": [
    "sns.boxplot(x=df['carbody'],y=df['price'],data=df)"
   ]
  },
  {
   "cell_type": "code",
   "execution_count": 36,
   "id": "86bc3d18",
   "metadata": {},
   "outputs": [],
   "source": [
    "# As the car body type changes the price is chainging...\n",
    "# its a one of the important feature in our data set..."
   ]
  },
  {
   "cell_type": "code",
   "execution_count": 37,
   "id": "e9962428",
   "metadata": {},
   "outputs": [
    {
     "data": {
      "text/plain": [
       "Index(['car_ID', 'symboling', 'fueltype', 'aspiration', 'doornumber',\n",
       "       'carbody', 'drivewheel', 'enginelocation', 'wheelbase', 'carlength',\n",
       "       'carwidth', 'carheight', 'curbweight', 'enginetype', 'cylindernumber',\n",
       "       'enginesize', 'fuelsystem', 'boreratio', 'stroke', 'compressionratio',\n",
       "       'horsepower', 'peakrpm', 'citympg', 'highwaympg', 'price',\n",
       "       'Company_Name'],\n",
       "      dtype='object')"
      ]
     },
     "execution_count": 37,
     "metadata": {},
     "output_type": "execute_result"
    }
   ],
   "source": [
    "df.columns"
   ]
  },
  {
   "cell_type": "markdown",
   "id": "f603fde6",
   "metadata": {},
   "source": [
    "# 3.7 drivewheel"
   ]
  },
  {
   "cell_type": "code",
   "execution_count": 38,
   "id": "b6af4ef8",
   "metadata": {},
   "outputs": [
    {
     "data": {
      "text/plain": [
       "fwd    120\n",
       "rwd     76\n",
       "4wd      9\n",
       "Name: drivewheel, dtype: int64"
      ]
     },
     "execution_count": 38,
     "metadata": {},
     "output_type": "execute_result"
    }
   ],
   "source": [
    "df['drivewheel'].value_counts()"
   ]
  },
  {
   "cell_type": "code",
   "execution_count": 39,
   "id": "3a7ec882",
   "metadata": {},
   "outputs": [
    {
     "data": {
      "text/plain": [
       "<AxesSubplot:xlabel='drivewheel', ylabel='count'>"
      ]
     },
     "execution_count": 39,
     "metadata": {},
     "output_type": "execute_result"
    },
    {
     "data": {
      "image/png": "[encoded data removed]",
      "text/plain": [
       "<Figure size 432x288 with 1 Axes>"
      ]
     },
     "metadata": {
      "needs_background": "light"
     },
     "output_type": "display_data"
    }
   ],
   "source": [
    "sns.countplot(df['drivewheel'])"
   ]
  },
  {
   "cell_type": "code",
   "execution_count": 40,
   "id": "4ec2b37a",
   "metadata": {},
   "outputs": [
    {
     "data": {
      "text/plain": [
       "<AxesSubplot:xlabel='drivewheel', ylabel='price'>"
      ]
     },
     "execution_count": 40,
     "metadata": {},
     "output_type": "execute_result"
    },
    {
     "data": {
      "image/png": "[encoded data removed]",
      "text/plain": [
       "<Figure size 432x288 with 1 Axes>"
      ]
     },
     "metadata": {
      "needs_background": "light"
     },
     "output_type": "display_data"
    }
   ],
   "source": [
    "sns.boxplot(x=df['drivewheel'],y=df['price'])"
   ]
  },
  {
   "cell_type": "code",
   "execution_count": 41,
   "id": "f0d06a78",
   "metadata": {},
   "outputs": [],
   "source": [
    "#as there is vide range of data in the plot the feature drivewheel have significance importance on target."
   ]
  },
  {
   "cell_type": "markdown",
   "id": "4e3b5de0",
   "metadata": {},
   "source": [
    "# 3.8 enginelocation"
   ]
  },
  {
   "cell_type": "code",
   "execution_count": 42,
   "id": "a9904463",
   "metadata": {},
   "outputs": [
    {
     "data": {
      "text/plain": [
       "front    202\n",
       "rear       3\n",
       "Name: enginelocation, dtype: int64"
      ]
     },
     "execution_count": 42,
     "metadata": {},
     "output_type": "execute_result"
    }
   ],
   "source": [
    "df['enginelocation'].value_counts()"
   ]
  },
  {
   "cell_type": "code",
   "execution_count": 43,
   "id": "6b4d0638",
   "metadata": {},
   "outputs": [
    {
     "data": {
      "text/plain": [
       "<AxesSubplot:xlabel='enginelocation', ylabel='price'>"
      ]
     },
     "execution_count": 43,
     "metadata": {},
     "output_type": "execute_result"
    },
    {
     "data": {
      "image/png": "[encoded data removed]",
      "text/plain": [
       "<Figure size 432x288 with 1 Axes>"
      ]
     },
     "metadata": {
      "needs_background": "light"
     },
     "output_type": "display_data"
    }
   ],
   "source": [
    "sns.boxplot(x=df['enginelocation'],y=df['price'],data=df)"
   ]
  },
  {
   "cell_type": "code",
   "execution_count": 44,
   "id": "9b7df18e",
   "metadata": {},
   "outputs": [],
   "source": [
    "# Price is making significant importance in enginelocation feature\n",
    "# as in genereal price of reare engine are higher than that of frount engine"
   ]
  },
  {
   "cell_type": "markdown",
   "id": "dd4fd7ca",
   "metadata": {},
   "source": [
    "# 3.9 wheelbase"
   ]
  },
  {
   "cell_type": "code",
   "execution_count": 45,
   "id": "af4a0071",
   "metadata": {},
   "outputs": [
    {
     "data": {
      "text/plain": [
       "53"
      ]
     },
     "execution_count": 45,
     "metadata": {},
     "output_type": "execute_result"
    }
   ],
   "source": [
    "df['wheelbase'].nunique()"
   ]
  },
  {
   "cell_type": "code",
   "execution_count": 46,
   "id": "d07d06e1",
   "metadata": {},
   "outputs": [
    {
     "data": {
      "text/plain": [
       "205"
      ]
     },
     "execution_count": 46,
     "metadata": {},
     "output_type": "execute_result"
    }
   ],
   "source": [
    "len(df)"
   ]
  },
  {
   "cell_type": "code",
   "execution_count": 47,
   "id": "0314e614",
   "metadata": {},
   "outputs": [
    {
     "data": {
      "text/plain": [
       "94.5     21\n",
       "93.7     20\n",
       "95.7     13\n",
       "96.5      8\n",
       "97.3      7\n",
       "98.4      7\n",
       "104.3     6\n",
       "100.4     6\n",
       "107.9     6\n",
       "98.8      6\n",
       "99.1      6\n",
       "96.3      6\n",
       "109.1     5\n",
       "93.1      5\n",
       "97.2      5\n",
       "95.9      5\n",
       "102.4     5\n",
       "97.0      4\n",
       "95.3      4\n",
       "114.2     4\n",
       "101.2     4\n",
       "110.0     3\n",
       "103.5     3\n",
       "89.5      3\n",
       "105.8     3\n",
       "96.1      2\n",
       "102.9     2\n",
       "104.5     2\n",
       "91.3      2\n",
       "96.9      2\n",
       "88.6      2\n",
       "113.0     2\n",
       "99.8      2\n",
       "115.6     2\n",
       "103.3     2\n",
       "86.6      2\n",
       "104.9     2\n",
       "93.3      1\n",
       "99.4      1\n",
       "99.5      1\n",
       "88.4      1\n",
       "94.3      1\n",
       "96.0      1\n",
       "95.1      1\n",
       "93.0      1\n",
       "102.0     1\n",
       "106.7     1\n",
       "108.0     1\n",
       "96.6      1\n",
       "99.2      1\n",
       "112.0     1\n",
       "102.7     1\n",
       "120.9     1\n",
       "Name: wheelbase, dtype: int64"
      ]
     },
     "execution_count": 47,
     "metadata": {},
     "output_type": "execute_result"
    }
   ],
   "source": [
    "df['wheelbase'].value_counts()"
   ]
  },
  {
   "cell_type": "code",
   "execution_count": 48,
   "id": "69056926",
   "metadata": {},
   "outputs": [
    {
     "data": {
      "text/plain": [
       "<AxesSubplot:xlabel='wheelbase', ylabel='price'>"
      ]
     },
     "execution_count": 48,
     "metadata": {},
     "output_type": "execute_result"
    },
    {
     "data": {
      "image/png": "[encoded data removed]",
      "text/plain": [
       "<Figure size 1080x360 with 1 Axes>"
      ]
     },
     "metadata": {
      "needs_background": "light"
     },
     "output_type": "display_data"
    }
   ],
   "source": [
    "plt.figure(figsize=(15,5))\n",
    "sns.boxplot(x=df['wheelbase'],y=df['price'])"
   ]
  },
  {
   "cell_type": "code",
   "execution_count": 49,
   "id": "6ec46ae5",
   "metadata": {},
   "outputs": [
    {
     "data": {
      "text/plain": [
       "Index(['car_ID', 'symboling', 'fueltype', 'aspiration', 'doornumber',\n",
       "       'carbody', 'drivewheel', 'enginelocation', 'wheelbase', 'carlength',\n",
       "       'carwidth', 'carheight', 'curbweight', 'enginetype', 'cylindernumber',\n",
       "       'enginesize', 'fuelsystem', 'boreratio', 'stroke', 'compressionratio',\n",
       "       'horsepower', 'peakrpm', 'citympg', 'highwaympg', 'price',\n",
       "       'Company_Name'],\n",
       "      dtype='object')"
      ]
     },
     "execution_count": 49,
     "metadata": {},
     "output_type": "execute_result"
    }
   ],
   "source": [
    "df.columns"
   ]
  },
  {
   "cell_type": "markdown",
   "id": "6809e551",
   "metadata": {},
   "source": [
    "# 3.10 carlength"
   ]
  },
  {
   "cell_type": "code",
   "execution_count": 50,
   "id": "4b5aaf96",
   "metadata": {},
   "outputs": [
    {
     "data": {
      "text/plain": [
       "75"
      ]
     },
     "execution_count": 50,
     "metadata": {},
     "output_type": "execute_result"
    }
   ],
   "source": [
    "df['carlength'].nunique()"
   ]
  },
  {
   "cell_type": "markdown",
   "id": "fd92d829",
   "metadata": {},
   "source": [
    "# 3.11 carwidth"
   ]
  },
  {
   "cell_type": "code",
   "execution_count": 51,
   "id": "3bfa2144",
   "metadata": {},
   "outputs": [
    {
     "data": {
      "text/plain": [
       "44"
      ]
     },
     "execution_count": 51,
     "metadata": {},
     "output_type": "execute_result"
    }
   ],
   "source": [
    "df['carwidth'].nunique()"
   ]
  },
  {
   "cell_type": "markdown",
   "id": "4541ec1a",
   "metadata": {},
   "source": [
    "# 3.12 enginetype"
   ]
  },
  {
   "cell_type": "code",
   "execution_count": 52,
   "id": "5a635eac",
   "metadata": {},
   "outputs": [
    {
     "data": {
      "text/plain": [
       "ohc      148\n",
       "ohcf      15\n",
       "ohcv      13\n",
       "dohc      12\n",
       "l         12\n",
       "rotor      4\n",
       "dohcv      1\n",
       "Name: enginetype, dtype: int64"
      ]
     },
     "execution_count": 52,
     "metadata": {},
     "output_type": "execute_result"
    }
   ],
   "source": [
    "df['enginetype'].value_counts()"
   ]
  },
  {
   "cell_type": "code",
   "execution_count": 53,
   "id": "15aa35ab",
   "metadata": {},
   "outputs": [
    {
     "data": {
      "text/plain": [
       "<AxesSubplot:xlabel='enginetype', ylabel='count'>"
      ]
     },
     "execution_count": 53,
     "metadata": {},
     "output_type": "execute_result"
    },
    {
     "data": {
      "image/png": "[encoded data removed]",
      "text/plain": [
       "<Figure size 432x288 with 1 Axes>"
      ]
     },
     "metadata": {
      "needs_background": "light"
     },
     "output_type": "display_data"
    }
   ],
   "source": [
    "sns.countplot(df['enginetype'])"
   ]
  },
  {
   "cell_type": "code",
   "execution_count": 54,
   "id": "b1528a6c",
   "metadata": {},
   "outputs": [
    {
     "data": {
      "text/plain": [
       "<AxesSubplot:xlabel='enginetype', ylabel='price'>"
      ]
     },
     "execution_count": 54,
     "metadata": {},
     "output_type": "execute_result"
    },
    {
     "data": {
      "image/png": "[encoded data removed]",
      "text/plain": [
       "<Figure size 432x288 with 1 Axes>"
      ]
     },
     "metadata": {
      "needs_background": "light"
     },
     "output_type": "display_data"
    }
   ],
   "source": [
    "sns.boxplot(x=df['enginetype'],y=df['price'])"
   ]
  },
  {
   "cell_type": "code",
   "execution_count": 55,
   "id": "baa44dd8",
   "metadata": {},
   "outputs": [],
   "source": [
    "# engine type is making a varied range on price of car and it might be one of the important feature for car price prediction"
   ]
  },
  {
   "cell_type": "markdown",
   "id": "a5761531",
   "metadata": {},
   "source": [
    "# 3.13 cylindernumber"
   ]
  },
  {
   "cell_type": "code",
   "execution_count": 56,
   "id": "cabe4c7d",
   "metadata": {},
   "outputs": [
    {
     "data": {
      "text/plain": [
       "four      159\n",
       "six        24\n",
       "five       11\n",
       "eight       5\n",
       "two         4\n",
       "three       1\n",
       "twelve      1\n",
       "Name: cylindernumber, dtype: int64"
      ]
     },
     "execution_count": 56,
     "metadata": {},
     "output_type": "execute_result"
    }
   ],
   "source": [
    "df['cylindernumber'].value_counts()"
   ]
  },
  {
   "cell_type": "code",
   "execution_count": 57,
   "id": "ca0ad87a",
   "metadata": {},
   "outputs": [
    {
     "data": {
      "text/plain": [
       "<AxesSubplot:xlabel='cylindernumber', ylabel='count'>"
      ]
     },
     "execution_count": 57,
     "metadata": {},
     "output_type": "execute_result"
    },
    {
     "data": {
      "image/png": "[encoded data removed]",
      "text/plain": [
       "<Figure size 432x288 with 1 Axes>"
      ]
     },
     "metadata": {
      "needs_background": "light"
     },
     "output_type": "display_data"
    }
   ],
   "source": [
    "sns.countplot(df['cylindernumber'])"
   ]
  },
  {
   "cell_type": "code",
   "execution_count": 58,
   "id": "4e1d2390",
   "metadata": {},
   "outputs": [],
   "source": [
    "# there are mamimum for cylinder car data in the dataset.\n"
   ]
  },
  {
   "cell_type": "code",
   "execution_count": 59,
   "id": "0cda4f08",
   "metadata": {},
   "outputs": [
    {
     "data": {
      "text/plain": [
       "Index(['car_ID', 'symboling', 'fueltype', 'aspiration', 'doornumber',\n",
       "       'carbody', 'drivewheel', 'enginelocation', 'wheelbase', 'carlength',\n",
       "       'carwidth', 'carheight', 'curbweight', 'enginetype', 'cylindernumber',\n",
       "       'enginesize', 'fuelsystem', 'boreratio', 'stroke', 'compressionratio',\n",
       "       'horsepower', 'peakrpm', 'citympg', 'highwaympg', 'price',\n",
       "       'Company_Name'],\n",
       "      dtype='object')"
      ]
     },
     "execution_count": 59,
     "metadata": {},
     "output_type": "execute_result"
    }
   ],
   "source": [
    "df.columns"
   ]
  },
  {
   "cell_type": "markdown",
   "id": "eda80140",
   "metadata": {},
   "source": [
    "# 3.14 enginesize"
   ]
  },
  {
   "cell_type": "code",
   "execution_count": 60,
   "id": "c3d84327",
   "metadata": {
    "scrolled": true
   },
   "outputs": [
    {
     "data": {
      "text/plain": [
       "44"
      ]
     },
     "execution_count": 60,
     "metadata": {},
     "output_type": "execute_result"
    }
   ],
   "source": [
    "df['enginesize'].nunique()"
   ]
  },
  {
   "cell_type": "code",
   "execution_count": 61,
   "id": "1b8ac6dd",
   "metadata": {},
   "outputs": [
    {
     "data": {
      "text/plain": [
       "<AxesSubplot:xlabel='enginesize', ylabel='price'>"
      ]
     },
     "execution_count": 61,
     "metadata": {},
     "output_type": "execute_result"
    },
    {
     "data": {
      "image/png": "[encoded data removed]",
      "text/plain": [
       "<Figure size 432x288 with 1 Axes>"
      ]
     },
     "metadata": {
      "needs_background": "light"
     },
     "output_type": "display_data"
    }
   ],
   "source": [
    "sns.scatterplot(x=df['enginesize'],y=df['price'])"
   ]
  },
  {
   "cell_type": "markdown",
   "id": "fefacdd4",
   "metadata": {},
   "source": [
    "# 3.15 fuelsystem"
   ]
  },
  {
   "cell_type": "code",
   "execution_count": 62,
   "id": "08e9270e",
   "metadata": {},
   "outputs": [
    {
     "data": {
      "text/plain": [
       "mpfi    94\n",
       "2bbl    66\n",
       "idi     20\n",
       "1bbl    11\n",
       "spdi     9\n",
       "4bbl     3\n",
       "mfi      1\n",
       "spfi     1\n",
       "Name: fuelsystem, dtype: int64"
      ]
     },
     "execution_count": 62,
     "metadata": {},
     "output_type": "execute_result"
    }
   ],
   "source": [
    "df['fuelsystem'].value_counts()"
   ]
  },
  {
   "cell_type": "code",
   "execution_count": 63,
   "id": "c4aef420",
   "metadata": {},
   "outputs": [
    {
     "data": {
      "text/plain": [
       "<AxesSubplot:xlabel='fuelsystem', ylabel='price'>"
      ]
     },
     "execution_count": 63,
     "metadata": {},
     "output_type": "execute_result"
    },
    {
     "data": {
      "image/png": "[encoded data removed]",
      "text/plain": [
       "<Figure size 432x288 with 1 Axes>"
      ]
     },
     "metadata": {
      "needs_background": "light"
     },
     "output_type": "display_data"
    }
   ],
   "source": [
    "sns.boxplot(x=df['fuelsystem'],y=df['price'])"
   ]
  },
  {
   "cell_type": "markdown",
   "id": "15ffa807",
   "metadata": {},
   "source": [
    "# 3.16 boreratio"
   ]
  },
  {
   "cell_type": "code",
   "execution_count": 64,
   "id": "b4dfb751",
   "metadata": {},
   "outputs": [
    {
     "data": {
      "text/plain": [
       "38"
      ]
     },
     "execution_count": 64,
     "metadata": {},
     "output_type": "execute_result"
    }
   ],
   "source": [
    "df['boreratio'].nunique()"
   ]
  },
  {
   "cell_type": "code",
   "execution_count": 65,
   "id": "714e2922",
   "metadata": {},
   "outputs": [
    {
     "data": {
      "text/plain": [
       "<AxesSubplot:xlabel='boreratio', ylabel='price'>"
      ]
     },
     "execution_count": 65,
     "metadata": {},
     "output_type": "execute_result"
    },
    {
     "data": {
      "image/png": "[encoded data removed]",
      "text/plain": [
       "<Figure size 432x288 with 1 Axes>"
      ]
     },
     "metadata": {
      "needs_background": "light"
     },
     "output_type": "display_data"
    }
   ],
   "source": [
    "sns.scatterplot(df['boreratio'],df['price'])"
   ]
  },
  {
   "cell_type": "markdown",
   "id": "a0dff59f",
   "metadata": {},
   "source": [
    "# 3.17 stroke"
   ]
  },
  {
   "cell_type": "code",
   "execution_count": 66,
   "id": "61fbb8bc",
   "metadata": {},
   "outputs": [
    {
     "data": {
      "text/plain": [
       "37"
      ]
     },
     "execution_count": 66,
     "metadata": {},
     "output_type": "execute_result"
    }
   ],
   "source": [
    "df['stroke'].nunique()"
   ]
  },
  {
   "cell_type": "code",
   "execution_count": 67,
   "id": "8bc85251",
   "metadata": {},
   "outputs": [
    {
     "data": {
      "text/plain": [
       "<AxesSubplot:xlabel='stroke', ylabel='price'>"
      ]
     },
     "execution_count": 67,
     "metadata": {},
     "output_type": "execute_result"
    },
    {
     "data": {
      "image/png": "[encoded data removed]",
      "text/plain": [
       "<Figure size 432x288 with 1 Axes>"
      ]
     },
     "metadata": {
      "needs_background": "light"
     },
     "output_type": "display_data"
    }
   ],
   "source": [
    "sns.scatterplot(x=df['stroke'],y=df['price'])"
   ]
  },
  {
   "cell_type": "markdown",
   "id": "989df829",
   "metadata": {},
   "source": [
    "# 3.18 compressionratio"
   ]
  },
  {
   "cell_type": "code",
   "execution_count": 68,
   "id": "7db4bb43",
   "metadata": {},
   "outputs": [
    {
     "data": {
      "text/plain": [
       "32"
      ]
     },
     "execution_count": 68,
     "metadata": {},
     "output_type": "execute_result"
    }
   ],
   "source": [
    "df['compressionratio'].nunique()"
   ]
  },
  {
   "cell_type": "code",
   "execution_count": 69,
   "id": "4a40265c",
   "metadata": {},
   "outputs": [
    {
     "data": {
      "text/plain": [
       "<AxesSubplot:xlabel='compressionratio', ylabel='price'>"
      ]
     },
     "execution_count": 69,
     "metadata": {},
     "output_type": "execute_result"
    },
    {
     "data": {
      "image/png": "[encoded data removed]",
      "text/plain": [
       "<Figure size 432x288 with 1 Axes>"
      ]
     },
     "metadata": {
      "needs_background": "light"
     },
     "output_type": "display_data"
    }
   ],
   "source": [
    "sns.scatterplot(df['compressionratio'],df['price'])"
   ]
  },
  {
   "cell_type": "code",
   "execution_count": 70,
   "id": "bc3bd277",
   "metadata": {},
   "outputs": [],
   "source": [
    "# the compresssion ratio is mainly ranging from  6-12 and 21-25 this two category only."
   ]
  },
  {
   "cell_type": "code",
   "execution_count": 71,
   "id": "4a7874b0",
   "metadata": {},
   "outputs": [
    {
     "data": {
      "text/plain": [
       "Index(['car_ID', 'symboling', 'fueltype', 'aspiration', 'doornumber',\n",
       "       'carbody', 'drivewheel', 'enginelocation', 'wheelbase', 'carlength',\n",
       "       'carwidth', 'carheight', 'curbweight', 'enginetype', 'cylindernumber',\n",
       "       'enginesize', 'fuelsystem', 'boreratio', 'stroke', 'compressionratio',\n",
       "       'horsepower', 'peakrpm', 'citympg', 'highwaympg', 'price',\n",
       "       'Company_Name'],\n",
       "      dtype='object')"
      ]
     },
     "execution_count": 71,
     "metadata": {},
     "output_type": "execute_result"
    }
   ],
   "source": [
    "df.columns"
   ]
  },
  {
   "cell_type": "markdown",
   "id": "63e758d4",
   "metadata": {},
   "source": [
    "# 3.19  horsepower"
   ]
  },
  {
   "cell_type": "code",
   "execution_count": 72,
   "id": "60cf94ac",
   "metadata": {},
   "outputs": [
    {
     "data": {
      "text/plain": [
       "59"
      ]
     },
     "execution_count": 72,
     "metadata": {},
     "output_type": "execute_result"
    }
   ],
   "source": [
    "df['horsepower'].nunique()"
   ]
  },
  {
   "cell_type": "code",
   "execution_count": 73,
   "id": "49f9f068",
   "metadata": {},
   "outputs": [
    {
     "data": {
      "text/plain": [
       "<AxesSubplot:xlabel='horsepower', ylabel='price'>"
      ]
     },
     "execution_count": 73,
     "metadata": {},
     "output_type": "execute_result"
    },
    {
     "data": {
      "image/png": "[encoded data removed]",
      "text/plain": [
       "<Figure size 432x288 with 1 Axes>"
      ]
     },
     "metadata": {
      "needs_background": "light"
     },
     "output_type": "display_data"
    }
   ],
   "source": [
    "sns.scatterplot(df['horsepower'],df['price'])"
   ]
  },
  {
   "cell_type": "code",
   "execution_count": 74,
   "id": "a1c49c9e",
   "metadata": {},
   "outputs": [
    {
     "data": {
      "text/plain": [
       "Index(['car_ID', 'symboling', 'fueltype', 'aspiration', 'doornumber',\n",
       "       'carbody', 'drivewheel', 'enginelocation', 'wheelbase', 'carlength',\n",
       "       'carwidth', 'carheight', 'curbweight', 'enginetype', 'cylindernumber',\n",
       "       'enginesize', 'fuelsystem', 'boreratio', 'stroke', 'compressionratio',\n",
       "       'horsepower', 'peakrpm', 'citympg', 'highwaympg', 'price',\n",
       "       'Company_Name'],\n",
       "      dtype='object')"
      ]
     },
     "execution_count": 74,
     "metadata": {},
     "output_type": "execute_result"
    }
   ],
   "source": [
    "df.columns"
   ]
  },
  {
   "cell_type": "code",
   "execution_count": 75,
   "id": "12c347f1",
   "metadata": {
    "scrolled": false
   },
   "outputs": [],
   "source": [
    "# df_plot=df.loc[:,'boreratio':'highwaympg']\n",
    "# sns.pairplot(x_vars=df_plot,y_vars=df['price'],kind='scatter',data=df)"
   ]
  },
  {
   "cell_type": "code",
   "execution_count": 76,
   "id": "c95fde20",
   "metadata": {},
   "outputs": [
    {
     "data": {
      "image/png": "[encoded data removed]",
      "text/plain": [
       "<Figure size 1440x576 with 1 Axes>"
      ]
     },
     "metadata": {
      "needs_background": "light"
     },
     "output_type": "display_data"
    }
   ],
   "source": [
    "df.drop('price', axis=1).corrwith(df.price).plot(kind='bar', grid=True, figsize=(20, 8), title=\"Correlation with OUTCOME\",color=\"lightgreen\");"
   ]
  },
  {
   "cell_type": "markdown",
   "id": "d9de9838",
   "metadata": {},
   "source": [
    "# Feature Enginerring"
   ]
  },
  {
   "cell_type": "markdown",
   "id": "23928728",
   "metadata": {},
   "source": [
    "## One Hot encoding"
   ]
  },
  {
   "cell_type": "code",
   "execution_count": 77,
   "id": "87493267",
   "metadata": {},
   "outputs": [],
   "source": [
    "list_obj=[]\n",
    "for index,value in  enumerate(df.dtypes):\n",
    "    if value=='object':\n",
    "        list_obj.append(df.columns[index])\n",
    "    else:\n",
    "        pass"
   ]
  },
  {
   "cell_type": "code",
   "execution_count": 78,
   "id": "c7d42181",
   "metadata": {},
   "outputs": [
    {
     "data": {
      "text/html": [
       "<div>\n",
       "<style scoped>\n",
       "    .dataframe tbody tr th:only-of-type {\n",
       "        vertical-align: middle;\n",
       "    }\n",
       "\n",
       "    .dataframe tbody tr th {\n",
       "        vertical-align: top;\n",
       "    }\n",
       "\n",
       "    .dataframe thead th {\n",
       "        text-align: right;\n",
       "    }\n",
       "</style>\n",
       "<table border=\"1\" class=\"dataframe\">\n",
       "  <thead>\n",
       "    <tr style=\"text-align: right;\">\n",
       "      <th></th>\n",
       "      <th>fueltype</th>\n",
       "      <th>aspiration</th>\n",
       "      <th>doornumber</th>\n",
       "      <th>carbody</th>\n",
       "      <th>drivewheel</th>\n",
       "      <th>enginelocation</th>\n",
       "      <th>enginetype</th>\n",
       "      <th>cylindernumber</th>\n",
       "      <th>fuelsystem</th>\n",
       "      <th>Company_Name</th>\n",
       "    </tr>\n",
       "  </thead>\n",
       "  <tbody>\n",
       "    <tr>\n",
       "      <th>0</th>\n",
       "      <td>gas</td>\n",
       "      <td>std</td>\n",
       "      <td>two</td>\n",
       "      <td>convertible</td>\n",
       "      <td>rwd</td>\n",
       "      <td>front</td>\n",
       "      <td>dohc</td>\n",
       "      <td>four</td>\n",
       "      <td>mpfi</td>\n",
       "      <td>Alfa-romero</td>\n",
       "    </tr>\n",
       "    <tr>\n",
       "      <th>1</th>\n",
       "      <td>gas</td>\n",
       "      <td>std</td>\n",
       "      <td>two</td>\n",
       "      <td>convertible</td>\n",
       "      <td>rwd</td>\n",
       "      <td>front</td>\n",
       "      <td>dohc</td>\n",
       "      <td>four</td>\n",
       "      <td>mpfi</td>\n",
       "      <td>Alfa-romero</td>\n",
       "    </tr>\n",
       "    <tr>\n",
       "      <th>2</th>\n",
       "      <td>gas</td>\n",
       "      <td>std</td>\n",
       "      <td>two</td>\n",
       "      <td>hatchback</td>\n",
       "      <td>rwd</td>\n",
       "      <td>front</td>\n",
       "      <td>ohcv</td>\n",
       "      <td>six</td>\n",
       "      <td>mpfi</td>\n",
       "      <td>Alfa-romero</td>\n",
       "    </tr>\n",
       "    <tr>\n",
       "      <th>3</th>\n",
       "      <td>gas</td>\n",
       "      <td>std</td>\n",
       "      <td>four</td>\n",
       "      <td>sedan</td>\n",
       "      <td>fwd</td>\n",
       "      <td>front</td>\n",
       "      <td>ohc</td>\n",
       "      <td>four</td>\n",
       "      <td>mpfi</td>\n",
       "      <td>Audi</td>\n",
       "    </tr>\n",
       "    <tr>\n",
       "      <th>4</th>\n",
       "      <td>gas</td>\n",
       "      <td>std</td>\n",
       "      <td>four</td>\n",
       "      <td>sedan</td>\n",
       "      <td>4wd</td>\n",
       "      <td>front</td>\n",
       "      <td>ohc</td>\n",
       "      <td>five</td>\n",
       "      <td>mpfi</td>\n",
       "      <td>Audi</td>\n",
       "    </tr>\n",
       "    <tr>\n",
       "      <th>...</th>\n",
       "      <td>...</td>\n",
       "      <td>...</td>\n",
       "      <td>...</td>\n",
       "      <td>...</td>\n",
       "      <td>...</td>\n",
       "      <td>...</td>\n",
       "      <td>...</td>\n",
       "      <td>...</td>\n",
       "      <td>...</td>\n",
       "      <td>...</td>\n",
       "    </tr>\n",
       "    <tr>\n",
       "      <th>200</th>\n",
       "      <td>gas</td>\n",
       "      <td>std</td>\n",
       "      <td>four</td>\n",
       "      <td>sedan</td>\n",
       "      <td>rwd</td>\n",
       "      <td>front</td>\n",
       "      <td>ohc</td>\n",
       "      <td>four</td>\n",
       "      <td>mpfi</td>\n",
       "      <td>Volvo</td>\n",
       "    </tr>\n",
       "    <tr>\n",
       "      <th>201</th>\n",
       "      <td>gas</td>\n",
       "      <td>turbo</td>\n",
       "      <td>four</td>\n",
       "      <td>sedan</td>\n",
       "      <td>rwd</td>\n",
       "      <td>front</td>\n",
       "      <td>ohc</td>\n",
       "      <td>four</td>\n",
       "      <td>mpfi</td>\n",
       "      <td>Volvo</td>\n",
       "    </tr>\n",
       "    <tr>\n",
       "      <th>202</th>\n",
       "      <td>gas</td>\n",
       "      <td>std</td>\n",
       "      <td>four</td>\n",
       "      <td>sedan</td>\n",
       "      <td>rwd</td>\n",
       "      <td>front</td>\n",
       "      <td>ohcv</td>\n",
       "      <td>six</td>\n",
       "      <td>mpfi</td>\n",
       "      <td>Volvo</td>\n",
       "    </tr>\n",
       "    <tr>\n",
       "      <th>203</th>\n",
       "      <td>diesel</td>\n",
       "      <td>turbo</td>\n",
       "      <td>four</td>\n",
       "      <td>sedan</td>\n",
       "      <td>rwd</td>\n",
       "      <td>front</td>\n",
       "      <td>ohc</td>\n",
       "      <td>six</td>\n",
       "      <td>idi</td>\n",
       "      <td>Volvo</td>\n",
       "    </tr>\n",
       "    <tr>\n",
       "      <th>204</th>\n",
       "      <td>gas</td>\n",
       "      <td>turbo</td>\n",
       "      <td>four</td>\n",
       "      <td>sedan</td>\n",
       "      <td>rwd</td>\n",
       "      <td>front</td>\n",
       "      <td>ohc</td>\n",
       "      <td>four</td>\n",
       "      <td>mpfi</td>\n",
       "      <td>Volvo</td>\n",
       "    </tr>\n",
       "  </tbody>\n",
       "</table>\n",
       "<p>205 rows × 10 columns</p>\n",
       "</div>"
      ],
      "text/plain": [
       "    fueltype aspiration doornumber      carbody drivewheel enginelocation  \\\n",
       "0        gas        std        two  convertible        rwd          front   \n",
       "1        gas        std        two  convertible        rwd          front   \n",
       "2        gas        std        two    hatchback        rwd          front   \n",
       "3        gas        std       four        sedan        fwd          front   \n",
       "4        gas        std       four        sedan        4wd          front   \n",
       "..       ...        ...        ...          ...        ...            ...   \n",
       "200      gas        std       four        sedan        rwd          front   \n",
       "201      gas      turbo       four        sedan        rwd          front   \n",
       "202      gas        std       four        sedan        rwd          front   \n",
       "203   diesel      turbo       four        sedan        rwd          front   \n",
       "204      gas      turbo       four        sedan        rwd          front   \n",
       "\n",
       "    enginetype cylindernumber fuelsystem Company_Name  \n",
       "0         dohc           four       mpfi  Alfa-romero  \n",
       "1         dohc           four       mpfi  Alfa-romero  \n",
       "2         ohcv            six       mpfi  Alfa-romero  \n",
       "3          ohc           four       mpfi         Audi  \n",
       "4          ohc           five       mpfi         Audi  \n",
       "..         ...            ...        ...          ...  \n",
       "200        ohc           four       mpfi        Volvo  \n",
       "201        ohc           four       mpfi        Volvo  \n",
       "202       ohcv            six       mpfi        Volvo  \n",
       "203        ohc            six        idi        Volvo  \n",
       "204        ohc           four       mpfi        Volvo  \n",
       "\n",
       "[205 rows x 10 columns]"
      ]
     },
     "execution_count": 78,
     "metadata": {},
     "output_type": "execute_result"
    }
   ],
   "source": [
    "df_dummies=pd.DataFrame(df[list_obj])\n",
    "df_dummies"
   ]
  },
  {
   "cell_type": "code",
   "execution_count": 79,
   "id": "2ef0df7d",
   "metadata": {},
   "outputs": [
    {
     "data": {
      "text/plain": [
       "['fueltype',\n",
       " 'aspiration',\n",
       " 'doornumber',\n",
       " 'carbody',\n",
       " 'drivewheel',\n",
       " 'enginelocation',\n",
       " 'enginetype',\n",
       " 'cylindernumber',\n",
       " 'fuelsystem',\n",
       " 'Company_Name']"
      ]
     },
     "execution_count": 79,
     "metadata": {},
     "output_type": "execute_result"
    }
   ],
   "source": [
    "list_obj"
   ]
  },
  {
   "cell_type": "code",
   "execution_count": 80,
   "id": "aef224ac",
   "metadata": {},
   "outputs": [],
   "source": [
    "df_dummies_done=pd.get_dummies(df_dummies,drop_first=True)"
   ]
  },
  {
   "cell_type": "code",
   "execution_count": 81,
   "id": "3237e17c",
   "metadata": {},
   "outputs": [
    {
     "data": {
      "text/html": [
       "<div>\n",
       "<style scoped>\n",
       "    .dataframe tbody tr th:only-of-type {\n",
       "        vertical-align: middle;\n",
       "    }\n",
       "\n",
       "    .dataframe tbody tr th {\n",
       "        vertical-align: top;\n",
       "    }\n",
       "\n",
       "    .dataframe thead th {\n",
       "        text-align: right;\n",
       "    }\n",
       "</style>\n",
       "<table border=\"1\" class=\"dataframe\">\n",
       "  <thead>\n",
       "    <tr style=\"text-align: right;\">\n",
       "      <th></th>\n",
       "      <th>fueltype_gas</th>\n",
       "      <th>aspiration_turbo</th>\n",
       "      <th>doornumber_two</th>\n",
       "      <th>carbody_hardtop</th>\n",
       "      <th>carbody_hatchback</th>\n",
       "      <th>carbody_sedan</th>\n",
       "      <th>carbody_wagon</th>\n",
       "      <th>drivewheel_fwd</th>\n",
       "      <th>drivewheel_rwd</th>\n",
       "      <th>enginelocation_rear</th>\n",
       "      <th>...</th>\n",
       "      <th>Company_Name_Peugeot</th>\n",
       "      <th>Company_Name_Plymouth</th>\n",
       "      <th>Company_Name_Porcshce</th>\n",
       "      <th>Company_Name_Porsche</th>\n",
       "      <th>Company_Name_Renault</th>\n",
       "      <th>Company_Name_Saab</th>\n",
       "      <th>Company_Name_Subaru</th>\n",
       "      <th>Company_Name_Toyota</th>\n",
       "      <th>Company_Name_Volkswagen</th>\n",
       "      <th>Company_Name_Volvo</th>\n",
       "    </tr>\n",
       "  </thead>\n",
       "  <tbody>\n",
       "    <tr>\n",
       "      <th>0</th>\n",
       "      <td>1</td>\n",
       "      <td>0</td>\n",
       "      <td>1</td>\n",
       "      <td>0</td>\n",
       "      <td>0</td>\n",
       "      <td>0</td>\n",
       "      <td>0</td>\n",
       "      <td>0</td>\n",
       "      <td>1</td>\n",
       "      <td>0</td>\n",
       "      <td>...</td>\n",
       "      <td>0</td>\n",
       "      <td>0</td>\n",
       "      <td>0</td>\n",
       "      <td>0</td>\n",
       "      <td>0</td>\n",
       "      <td>0</td>\n",
       "      <td>0</td>\n",
       "      <td>0</td>\n",
       "      <td>0</td>\n",
       "      <td>0</td>\n",
       "    </tr>\n",
       "    <tr>\n",
       "      <th>1</th>\n",
       "      <td>1</td>\n",
       "      <td>0</td>\n",
       "      <td>1</td>\n",
       "      <td>0</td>\n",
       "      <td>0</td>\n",
       "      <td>0</td>\n",
       "      <td>0</td>\n",
       "      <td>0</td>\n",
       "      <td>1</td>\n",
       "      <td>0</td>\n",
       "      <td>...</td>\n",
       "      <td>0</td>\n",
       "      <td>0</td>\n",
       "      <td>0</td>\n",
       "      <td>0</td>\n",
       "      <td>0</td>\n",
       "      <td>0</td>\n",
       "      <td>0</td>\n",
       "      <td>0</td>\n",
       "      <td>0</td>\n",
       "      <td>0</td>\n",
       "    </tr>\n",
       "    <tr>\n",
       "      <th>2</th>\n",
       "      <td>1</td>\n",
       "      <td>0</td>\n",
       "      <td>1</td>\n",
       "      <td>0</td>\n",
       "      <td>1</td>\n",
       "      <td>0</td>\n",
       "      <td>0</td>\n",
       "      <td>0</td>\n",
       "      <td>1</td>\n",
       "      <td>0</td>\n",
       "      <td>...</td>\n",
       "      <td>0</td>\n",
       "      <td>0</td>\n",
       "      <td>0</td>\n",
       "      <td>0</td>\n",
       "      <td>0</td>\n",
       "      <td>0</td>\n",
       "      <td>0</td>\n",
       "      <td>0</td>\n",
       "      <td>0</td>\n",
       "      <td>0</td>\n",
       "    </tr>\n",
       "    <tr>\n",
       "      <th>3</th>\n",
       "      <td>1</td>\n",
       "      <td>0</td>\n",
       "      <td>0</td>\n",
       "      <td>0</td>\n",
       "      <td>0</td>\n",
       "      <td>1</td>\n",
       "      <td>0</td>\n",
       "      <td>1</td>\n",
       "      <td>0</td>\n",
       "      <td>0</td>\n",
       "      <td>...</td>\n",
       "      <td>0</td>\n",
       "      <td>0</td>\n",
       "      <td>0</td>\n",
       "      <td>0</td>\n",
       "      <td>0</td>\n",
       "      <td>0</td>\n",
       "      <td>0</td>\n",
       "      <td>0</td>\n",
       "      <td>0</td>\n",
       "      <td>0</td>\n",
       "    </tr>\n",
       "    <tr>\n",
       "      <th>4</th>\n",
       "      <td>1</td>\n",
       "      <td>0</td>\n",
       "      <td>0</td>\n",
       "      <td>0</td>\n",
       "      <td>0</td>\n",
       "      <td>1</td>\n",
       "      <td>0</td>\n",
       "      <td>0</td>\n",
       "      <td>0</td>\n",
       "      <td>0</td>\n",
       "      <td>...</td>\n",
       "      <td>0</td>\n",
       "      <td>0</td>\n",
       "      <td>0</td>\n",
       "      <td>0</td>\n",
       "      <td>0</td>\n",
       "      <td>0</td>\n",
       "      <td>0</td>\n",
       "      <td>0</td>\n",
       "      <td>0</td>\n",
       "      <td>0</td>\n",
       "    </tr>\n",
       "    <tr>\n",
       "      <th>...</th>\n",
       "      <td>...</td>\n",
       "      <td>...</td>\n",
       "      <td>...</td>\n",
       "      <td>...</td>\n",
       "      <td>...</td>\n",
       "      <td>...</td>\n",
       "      <td>...</td>\n",
       "      <td>...</td>\n",
       "      <td>...</td>\n",
       "      <td>...</td>\n",
       "      <td>...</td>\n",
       "      <td>...</td>\n",
       "      <td>...</td>\n",
       "      <td>...</td>\n",
       "      <td>...</td>\n",
       "      <td>...</td>\n",
       "      <td>...</td>\n",
       "      <td>...</td>\n",
       "      <td>...</td>\n",
       "      <td>...</td>\n",
       "      <td>...</td>\n",
       "    </tr>\n",
       "    <tr>\n",
       "      <th>200</th>\n",
       "      <td>1</td>\n",
       "      <td>0</td>\n",
       "      <td>0</td>\n",
       "      <td>0</td>\n",
       "      <td>0</td>\n",
       "      <td>1</td>\n",
       "      <td>0</td>\n",
       "      <td>0</td>\n",
       "      <td>1</td>\n",
       "      <td>0</td>\n",
       "      <td>...</td>\n",
       "      <td>0</td>\n",
       "      <td>0</td>\n",
       "      <td>0</td>\n",
       "      <td>0</td>\n",
       "      <td>0</td>\n",
       "      <td>0</td>\n",
       "      <td>0</td>\n",
       "      <td>0</td>\n",
       "      <td>0</td>\n",
       "      <td>1</td>\n",
       "    </tr>\n",
       "    <tr>\n",
       "      <th>201</th>\n",
       "      <td>1</td>\n",
       "      <td>1</td>\n",
       "      <td>0</td>\n",
       "      <td>0</td>\n",
       "      <td>0</td>\n",
       "      <td>1</td>\n",
       "      <td>0</td>\n",
       "      <td>0</td>\n",
       "      <td>1</td>\n",
       "      <td>0</td>\n",
       "      <td>...</td>\n",
       "      <td>0</td>\n",
       "      <td>0</td>\n",
       "      <td>0</td>\n",
       "      <td>0</td>\n",
       "      <td>0</td>\n",
       "      <td>0</td>\n",
       "      <td>0</td>\n",
       "      <td>0</td>\n",
       "      <td>0</td>\n",
       "      <td>1</td>\n",
       "    </tr>\n",
       "    <tr>\n",
       "      <th>202</th>\n",
       "      <td>1</td>\n",
       "      <td>0</td>\n",
       "      <td>0</td>\n",
       "      <td>0</td>\n",
       "      <td>0</td>\n",
       "      <td>1</td>\n",
       "      <td>0</td>\n",
       "      <td>0</td>\n",
       "      <td>1</td>\n",
       "      <td>0</td>\n",
       "      <td>...</td>\n",
       "      <td>0</td>\n",
       "      <td>0</td>\n",
       "      <td>0</td>\n",
       "      <td>0</td>\n",
       "      <td>0</td>\n",
       "      <td>0</td>\n",
       "      <td>0</td>\n",
       "      <td>0</td>\n",
       "      <td>0</td>\n",
       "      <td>1</td>\n",
       "    </tr>\n",
       "    <tr>\n",
       "      <th>203</th>\n",
       "      <td>0</td>\n",
       "      <td>1</td>\n",
       "      <td>0</td>\n",
       "      <td>0</td>\n",
       "      <td>0</td>\n",
       "      <td>1</td>\n",
       "      <td>0</td>\n",
       "      <td>0</td>\n",
       "      <td>1</td>\n",
       "      <td>0</td>\n",
       "      <td>...</td>\n",
       "      <td>0</td>\n",
       "      <td>0</td>\n",
       "      <td>0</td>\n",
       "      <td>0</td>\n",
       "      <td>0</td>\n",
       "      <td>0</td>\n",
       "      <td>0</td>\n",
       "      <td>0</td>\n",
       "      <td>0</td>\n",
       "      <td>1</td>\n",
       "    </tr>\n",
       "    <tr>\n",
       "      <th>204</th>\n",
       "      <td>1</td>\n",
       "      <td>1</td>\n",
       "      <td>0</td>\n",
       "      <td>0</td>\n",
       "      <td>0</td>\n",
       "      <td>1</td>\n",
       "      <td>0</td>\n",
       "      <td>0</td>\n",
       "      <td>1</td>\n",
       "      <td>0</td>\n",
       "      <td>...</td>\n",
       "      <td>0</td>\n",
       "      <td>0</td>\n",
       "      <td>0</td>\n",
       "      <td>0</td>\n",
       "      <td>0</td>\n",
       "      <td>0</td>\n",
       "      <td>0</td>\n",
       "      <td>0</td>\n",
       "      <td>0</td>\n",
       "      <td>1</td>\n",
       "    </tr>\n",
       "  </tbody>\n",
       "</table>\n",
       "<p>205 rows × 51 columns</p>\n",
       "</div>"
      ],
      "text/plain": [
       "     fueltype_gas  aspiration_turbo  doornumber_two  carbody_hardtop  \\\n",
       "0               1                 0               1                0   \n",
       "1               1                 0               1                0   \n",
       "2               1                 0               1                0   \n",
       "3               1                 0               0                0   \n",
       "4               1                 0               0                0   \n",
       "..            ...               ...             ...              ...   \n",
       "200             1                 0               0                0   \n",
       "201             1                 1               0                0   \n",
       "202             1                 0               0                0   \n",
       "203             0                 1               0                0   \n",
       "204             1                 1               0                0   \n",
       "\n",
       "     carbody_hatchback  carbody_sedan  carbody_wagon  drivewheel_fwd  \\\n",
       "0                    0              0              0               0   \n",
       "1                    0              0              0               0   \n",
       "2                    1              0              0               0   \n",
       "3                    0              1              0               1   \n",
       "4                    0              1              0               0   \n",
       "..                 ...            ...            ...             ...   \n",
       "200                  0              1              0               0   \n",
       "201                  0              1              0               0   \n",
       "202                  0              1              0               0   \n",
       "203                  0              1              0               0   \n",
       "204                  0              1              0               0   \n",
       "\n",
       "     drivewheel_rwd  enginelocation_rear  ...  Company_Name_Peugeot  \\\n",
       "0                 1                    0  ...                     0   \n",
       "1                 1                    0  ...                     0   \n",
       "2                 1                    0  ...                     0   \n",
       "3                 0                    0  ...                     0   \n",
       "4                 0                    0  ...                     0   \n",
       "..              ...                  ...  ...                   ...   \n",
       "200               1                    0  ...                     0   \n",
       "201               1                    0  ...                     0   \n",
       "202               1                    0  ...                     0   \n",
       "203               1                    0  ...                     0   \n",
       "204               1                    0  ...                     0   \n",
       "\n",
       "     Company_Name_Plymouth  Company_Name_Porcshce  Company_Name_Porsche  \\\n",
       "0                        0                      0                     0   \n",
       "1                        0                      0                     0   \n",
       "2                        0                      0                     0   \n",
       "3                        0                      0                     0   \n",
       "4                        0                      0                     0   \n",
       "..                     ...                    ...                   ...   \n",
       "200                      0                      0                     0   \n",
       "201                      0                      0                     0   \n",
       "202                      0                      0                     0   \n",
       "203                      0                      0                     0   \n",
       "204                      0                      0                     0   \n",
       "\n",
       "     Company_Name_Renault  Company_Name_Saab  Company_Name_Subaru  \\\n",
       "0                       0                  0                    0   \n",
       "1                       0                  0                    0   \n",
       "2                       0                  0                    0   \n",
       "3                       0                  0                    0   \n",
       "4                       0                  0                    0   \n",
       "..                    ...                ...                  ...   \n",
       "200                     0                  0                    0   \n",
       "201                     0                  0                    0   \n",
       "202                     0                  0                    0   \n",
       "203                     0                  0                    0   \n",
       "204                     0                  0                    0   \n",
       "\n",
       "     Company_Name_Toyota  Company_Name_Volkswagen  Company_Name_Volvo  \n",
       "0                      0                        0                   0  \n",
       "1                      0                        0                   0  \n",
       "2                      0                        0                   0  \n",
       "3                      0                        0                   0  \n",
       "4                      0                        0                   0  \n",
       "..                   ...                      ...                 ...  \n",
       "200                    0                        0                   1  \n",
       "201                    0                        0                   1  \n",
       "202                    0                        0                   1  \n",
       "203                    0                        0                   1  \n",
       "204                    0                        0                   1  \n",
       "\n",
       "[205 rows x 51 columns]"
      ]
     },
     "execution_count": 81,
     "metadata": {},
     "output_type": "execute_result"
    }
   ],
   "source": [
    "df_dummies_done"
   ]
  },
  {
   "cell_type": "code",
   "execution_count": 82,
   "id": "fc6aae31",
   "metadata": {},
   "outputs": [],
   "source": [
    "df_new=pd.concat([df,df_dummies_done],axis=1)"
   ]
  },
  {
   "cell_type": "code",
   "execution_count": 83,
   "id": "eaebd538",
   "metadata": {},
   "outputs": [],
   "source": [
    "df_final=df_new.drop(list_obj,axis=1)"
   ]
  },
  {
   "cell_type": "code",
   "execution_count": 84,
   "id": "ac78b5c3",
   "metadata": {},
   "outputs": [],
   "source": [
    "df_corr=df.drop(list_obj,axis=1)"
   ]
  },
  {
   "cell_type": "code",
   "execution_count": 85,
   "id": "1927e4d5",
   "metadata": {},
   "outputs": [
    {
     "data": {
      "text/html": [
       "<div>\n",
       "<style scoped>\n",
       "    .dataframe tbody tr th:only-of-type {\n",
       "        vertical-align: middle;\n",
       "    }\n",
       "\n",
       "    .dataframe tbody tr th {\n",
       "        vertical-align: top;\n",
       "    }\n",
       "\n",
       "    .dataframe thead th {\n",
       "        text-align: right;\n",
       "    }\n",
       "</style>\n",
       "<table border=\"1\" class=\"dataframe\">\n",
       "  <thead>\n",
       "    <tr style=\"text-align: right;\">\n",
       "      <th></th>\n",
       "      <th>0</th>\n",
       "      <th>1</th>\n",
       "      <th>2</th>\n",
       "      <th>3</th>\n",
       "      <th>4</th>\n",
       "      <th>5</th>\n",
       "      <th>6</th>\n",
       "      <th>7</th>\n",
       "      <th>8</th>\n",
       "      <th>9</th>\n",
       "      <th>...</th>\n",
       "      <th>195</th>\n",
       "      <th>196</th>\n",
       "      <th>197</th>\n",
       "      <th>198</th>\n",
       "      <th>199</th>\n",
       "      <th>200</th>\n",
       "      <th>201</th>\n",
       "      <th>202</th>\n",
       "      <th>203</th>\n",
       "      <th>204</th>\n",
       "    </tr>\n",
       "  </thead>\n",
       "  <tbody>\n",
       "    <tr>\n",
       "      <th>car_ID</th>\n",
       "      <td>1.0</td>\n",
       "      <td>2.0</td>\n",
       "      <td>3.0</td>\n",
       "      <td>4.0</td>\n",
       "      <td>5.0</td>\n",
       "      <td>6.0</td>\n",
       "      <td>7.0</td>\n",
       "      <td>8.0</td>\n",
       "      <td>9.0</td>\n",
       "      <td>10.0</td>\n",
       "      <td>...</td>\n",
       "      <td>196.0</td>\n",
       "      <td>197.0</td>\n",
       "      <td>198.0</td>\n",
       "      <td>199.0</td>\n",
       "      <td>200.0</td>\n",
       "      <td>201.0</td>\n",
       "      <td>202.0</td>\n",
       "      <td>203.0</td>\n",
       "      <td>204.0</td>\n",
       "      <td>205.0</td>\n",
       "    </tr>\n",
       "    <tr>\n",
       "      <th>symboling</th>\n",
       "      <td>3.0</td>\n",
       "      <td>3.0</td>\n",
       "      <td>1.0</td>\n",
       "      <td>2.0</td>\n",
       "      <td>2.0</td>\n",
       "      <td>2.0</td>\n",
       "      <td>1.0</td>\n",
       "      <td>1.0</td>\n",
       "      <td>1.0</td>\n",
       "      <td>0.0</td>\n",
       "      <td>...</td>\n",
       "      <td>-1.0</td>\n",
       "      <td>-2.0</td>\n",
       "      <td>-1.0</td>\n",
       "      <td>-2.0</td>\n",
       "      <td>-1.0</td>\n",
       "      <td>-1.0</td>\n",
       "      <td>-1.0</td>\n",
       "      <td>-1.0</td>\n",
       "      <td>-1.0</td>\n",
       "      <td>-1.0</td>\n",
       "    </tr>\n",
       "    <tr>\n",
       "      <th>wheelbase</th>\n",
       "      <td>88.6</td>\n",
       "      <td>88.6</td>\n",
       "      <td>94.5</td>\n",
       "      <td>99.8</td>\n",
       "      <td>99.4</td>\n",
       "      <td>99.8</td>\n",
       "      <td>105.8</td>\n",
       "      <td>105.8</td>\n",
       "      <td>105.8</td>\n",
       "      <td>99.5</td>\n",
       "      <td>...</td>\n",
       "      <td>104.3</td>\n",
       "      <td>104.3</td>\n",
       "      <td>104.3</td>\n",
       "      <td>104.3</td>\n",
       "      <td>104.3</td>\n",
       "      <td>109.1</td>\n",
       "      <td>109.1</td>\n",
       "      <td>109.1</td>\n",
       "      <td>109.1</td>\n",
       "      <td>109.1</td>\n",
       "    </tr>\n",
       "    <tr>\n",
       "      <th>carlength</th>\n",
       "      <td>168.8</td>\n",
       "      <td>168.8</td>\n",
       "      <td>171.2</td>\n",
       "      <td>176.6</td>\n",
       "      <td>176.6</td>\n",
       "      <td>177.3</td>\n",
       "      <td>192.7</td>\n",
       "      <td>192.7</td>\n",
       "      <td>192.7</td>\n",
       "      <td>178.2</td>\n",
       "      <td>...</td>\n",
       "      <td>188.8</td>\n",
       "      <td>188.8</td>\n",
       "      <td>188.8</td>\n",
       "      <td>188.8</td>\n",
       "      <td>188.8</td>\n",
       "      <td>188.8</td>\n",
       "      <td>188.8</td>\n",
       "      <td>188.8</td>\n",
       "      <td>188.8</td>\n",
       "      <td>188.8</td>\n",
       "    </tr>\n",
       "    <tr>\n",
       "      <th>carwidth</th>\n",
       "      <td>64.1</td>\n",
       "      <td>64.1</td>\n",
       "      <td>65.5</td>\n",
       "      <td>66.2</td>\n",
       "      <td>66.4</td>\n",
       "      <td>66.3</td>\n",
       "      <td>71.4</td>\n",
       "      <td>71.4</td>\n",
       "      <td>71.4</td>\n",
       "      <td>67.9</td>\n",
       "      <td>...</td>\n",
       "      <td>67.2</td>\n",
       "      <td>67.2</td>\n",
       "      <td>67.2</td>\n",
       "      <td>67.2</td>\n",
       "      <td>67.2</td>\n",
       "      <td>68.9</td>\n",
       "      <td>68.8</td>\n",
       "      <td>68.9</td>\n",
       "      <td>68.9</td>\n",
       "      <td>68.9</td>\n",
       "    </tr>\n",
       "    <tr>\n",
       "      <th>...</th>\n",
       "      <td>...</td>\n",
       "      <td>...</td>\n",
       "      <td>...</td>\n",
       "      <td>...</td>\n",
       "      <td>...</td>\n",
       "      <td>...</td>\n",
       "      <td>...</td>\n",
       "      <td>...</td>\n",
       "      <td>...</td>\n",
       "      <td>...</td>\n",
       "      <td>...</td>\n",
       "      <td>...</td>\n",
       "      <td>...</td>\n",
       "      <td>...</td>\n",
       "      <td>...</td>\n",
       "      <td>...</td>\n",
       "      <td>...</td>\n",
       "      <td>...</td>\n",
       "      <td>...</td>\n",
       "      <td>...</td>\n",
       "      <td>...</td>\n",
       "    </tr>\n",
       "    <tr>\n",
       "      <th>Company_Name_Saab</th>\n",
       "      <td>0.0</td>\n",
       "      <td>0.0</td>\n",
       "      <td>0.0</td>\n",
       "      <td>0.0</td>\n",
       "      <td>0.0</td>\n",
       "      <td>0.0</td>\n",
       "      <td>0.0</td>\n",
       "      <td>0.0</td>\n",
       "      <td>0.0</td>\n",
       "      <td>0.0</td>\n",
       "      <td>...</td>\n",
       "      <td>0.0</td>\n",
       "      <td>0.0</td>\n",
       "      <td>0.0</td>\n",
       "      <td>0.0</td>\n",
       "      <td>0.0</td>\n",
       "      <td>0.0</td>\n",
       "      <td>0.0</td>\n",
       "      <td>0.0</td>\n",
       "      <td>0.0</td>\n",
       "      <td>0.0</td>\n",
       "    </tr>\n",
       "    <tr>\n",
       "      <th>Company_Name_Subaru</th>\n",
       "      <td>0.0</td>\n",
       "      <td>0.0</td>\n",
       "      <td>0.0</td>\n",
       "      <td>0.0</td>\n",
       "      <td>0.0</td>\n",
       "      <td>0.0</td>\n",
       "      <td>0.0</td>\n",
       "      <td>0.0</td>\n",
       "      <td>0.0</td>\n",
       "      <td>0.0</td>\n",
       "      <td>...</td>\n",
       "      <td>0.0</td>\n",
       "      <td>0.0</td>\n",
       "      <td>0.0</td>\n",
       "      <td>0.0</td>\n",
       "      <td>0.0</td>\n",
       "      <td>0.0</td>\n",
       "      <td>0.0</td>\n",
       "      <td>0.0</td>\n",
       "      <td>0.0</td>\n",
       "      <td>0.0</td>\n",
       "    </tr>\n",
       "    <tr>\n",
       "      <th>Company_Name_Toyota</th>\n",
       "      <td>0.0</td>\n",
       "      <td>0.0</td>\n",
       "      <td>0.0</td>\n",
       "      <td>0.0</td>\n",
       "      <td>0.0</td>\n",
       "      <td>0.0</td>\n",
       "      <td>0.0</td>\n",
       "      <td>0.0</td>\n",
       "      <td>0.0</td>\n",
       "      <td>0.0</td>\n",
       "      <td>...</td>\n",
       "      <td>0.0</td>\n",
       "      <td>0.0</td>\n",
       "      <td>0.0</td>\n",
       "      <td>0.0</td>\n",
       "      <td>0.0</td>\n",
       "      <td>0.0</td>\n",
       "      <td>0.0</td>\n",
       "      <td>0.0</td>\n",
       "      <td>0.0</td>\n",
       "      <td>0.0</td>\n",
       "    </tr>\n",
       "    <tr>\n",
       "      <th>Company_Name_Volkswagen</th>\n",
       "      <td>0.0</td>\n",
       "      <td>0.0</td>\n",
       "      <td>0.0</td>\n",
       "      <td>0.0</td>\n",
       "      <td>0.0</td>\n",
       "      <td>0.0</td>\n",
       "      <td>0.0</td>\n",
       "      <td>0.0</td>\n",
       "      <td>0.0</td>\n",
       "      <td>0.0</td>\n",
       "      <td>...</td>\n",
       "      <td>0.0</td>\n",
       "      <td>0.0</td>\n",
       "      <td>0.0</td>\n",
       "      <td>0.0</td>\n",
       "      <td>0.0</td>\n",
       "      <td>0.0</td>\n",
       "      <td>0.0</td>\n",
       "      <td>0.0</td>\n",
       "      <td>0.0</td>\n",
       "      <td>0.0</td>\n",
       "    </tr>\n",
       "    <tr>\n",
       "      <th>Company_Name_Volvo</th>\n",
       "      <td>0.0</td>\n",
       "      <td>0.0</td>\n",
       "      <td>0.0</td>\n",
       "      <td>0.0</td>\n",
       "      <td>0.0</td>\n",
       "      <td>0.0</td>\n",
       "      <td>0.0</td>\n",
       "      <td>0.0</td>\n",
       "      <td>0.0</td>\n",
       "      <td>0.0</td>\n",
       "      <td>...</td>\n",
       "      <td>1.0</td>\n",
       "      <td>1.0</td>\n",
       "      <td>1.0</td>\n",
       "      <td>1.0</td>\n",
       "      <td>1.0</td>\n",
       "      <td>1.0</td>\n",
       "      <td>1.0</td>\n",
       "      <td>1.0</td>\n",
       "      <td>1.0</td>\n",
       "      <td>1.0</td>\n",
       "    </tr>\n",
       "  </tbody>\n",
       "</table>\n",
       "<p>67 rows × 205 columns</p>\n",
       "</div>"
      ],
      "text/plain": [
       "                           0      1      2      3      4      5      6    \\\n",
       "car_ID                     1.0    2.0    3.0    4.0    5.0    6.0    7.0   \n",
       "symboling                  3.0    3.0    1.0    2.0    2.0    2.0    1.0   \n",
       "wheelbase                 88.6   88.6   94.5   99.8   99.4   99.8  105.8   \n",
       "carlength                168.8  168.8  171.2  176.6  176.6  177.3  192.7   \n",
       "carwidth                  64.1   64.1   65.5   66.2   66.4   66.3   71.4   \n",
       "...                        ...    ...    ...    ...    ...    ...    ...   \n",
       "Company_Name_Saab          0.0    0.0    0.0    0.0    0.0    0.0    0.0   \n",
       "Company_Name_Subaru        0.0    0.0    0.0    0.0    0.0    0.0    0.0   \n",
       "Company_Name_Toyota        0.0    0.0    0.0    0.0    0.0    0.0    0.0   \n",
       "Company_Name_Volkswagen    0.0    0.0    0.0    0.0    0.0    0.0    0.0   \n",
       "Company_Name_Volvo         0.0    0.0    0.0    0.0    0.0    0.0    0.0   \n",
       "\n",
       "                           7      8      9    ...    195    196    197    198  \\\n",
       "car_ID                     8.0    9.0   10.0  ...  196.0  197.0  198.0  199.0   \n",
       "symboling                  1.0    1.0    0.0  ...   -1.0   -2.0   -1.0   -2.0   \n",
       "wheelbase                105.8  105.8   99.5  ...  104.3  104.3  104.3  104.3   \n",
       "carlength                192.7  192.7  178.2  ...  188.8  188.8  188.8  188.8   \n",
       "carwidth                  71.4   71.4   67.9  ...   67.2   67.2   67.2   67.2   \n",
       "...                        ...    ...    ...  ...    ...    ...    ...    ...   \n",
       "Company_Name_Saab          0.0    0.0    0.0  ...    0.0    0.0    0.0    0.0   \n",
       "Company_Name_Subaru        0.0    0.0    0.0  ...    0.0    0.0    0.0    0.0   \n",
       "Company_Name_Toyota        0.0    0.0    0.0  ...    0.0    0.0    0.0    0.0   \n",
       "Company_Name_Volkswagen    0.0    0.0    0.0  ...    0.0    0.0    0.0    0.0   \n",
       "Company_Name_Volvo         0.0    0.0    0.0  ...    1.0    1.0    1.0    1.0   \n",
       "\n",
       "                           199    200    201    202    203    204  \n",
       "car_ID                   200.0  201.0  202.0  203.0  204.0  205.0  \n",
       "symboling                 -1.0   -1.0   -1.0   -1.0   -1.0   -1.0  \n",
       "wheelbase                104.3  109.1  109.1  109.1  109.1  109.1  \n",
       "carlength                188.8  188.8  188.8  188.8  188.8  188.8  \n",
       "carwidth                  67.2   68.9   68.8   68.9   68.9   68.9  \n",
       "...                        ...    ...    ...    ...    ...    ...  \n",
       "Company_Name_Saab          0.0    0.0    0.0    0.0    0.0    0.0  \n",
       "Company_Name_Subaru        0.0    0.0    0.0    0.0    0.0    0.0  \n",
       "Company_Name_Toyota        0.0    0.0    0.0    0.0    0.0    0.0  \n",
       "Company_Name_Volkswagen    0.0    0.0    0.0    0.0    0.0    0.0  \n",
       "Company_Name_Volvo         1.0    1.0    1.0    1.0    1.0    1.0  \n",
       "\n",
       "[67 rows x 205 columns]"
      ]
     },
     "execution_count": 85,
     "metadata": {},
     "output_type": "execute_result"
    }
   ],
   "source": [
    "df_final.T"
   ]
  },
  {
   "cell_type": "code",
   "execution_count": 86,
   "id": "ac290f5b",
   "metadata": {
    "scrolled": true
   },
   "outputs": [
    {
     "data": {
      "text/plain": [
       "Index(['car_ID', 'symboling', 'wheelbase', 'carlength', 'carwidth',\n",
       "       'carheight', 'curbweight', 'enginesize', 'boreratio', 'stroke',\n",
       "       'compressionratio', 'horsepower', 'peakrpm', 'citympg', 'highwaympg',\n",
       "       'price', 'fueltype_gas', 'aspiration_turbo', 'doornumber_two',\n",
       "       'carbody_hardtop', 'carbody_hatchback', 'carbody_sedan',\n",
       "       'carbody_wagon', 'drivewheel_fwd', 'drivewheel_rwd',\n",
       "       'enginelocation_rear', 'enginetype_dohcv', 'enginetype_l',\n",
       "       'enginetype_ohc', 'enginetype_ohcf', 'enginetype_ohcv',\n",
       "       'enginetype_rotor', 'cylindernumber_five', 'cylindernumber_four',\n",
       "       'cylindernumber_six', 'cylindernumber_three', 'cylindernumber_twelve',\n",
       "       'cylindernumber_two', 'fuelsystem_2bbl', 'fuelsystem_4bbl',\n",
       "       'fuelsystem_idi', 'fuelsystem_mfi', 'fuelsystem_mpfi',\n",
       "       'fuelsystem_spdi', 'fuelsystem_spfi', 'Company_Name_Audi',\n",
       "       'Company_Name_BMW', 'Company_Name_Buick', 'Company_Name_Chevrolet',\n",
       "       'Company_Name_Dodge', 'Company_Name_Honda', 'Company_Name_Isuzu',\n",
       "       'Company_Name_Jaguar', 'Company_Name_Mazda', 'Company_Name_Mercury',\n",
       "       'Company_Name_Mitsubishi', 'Company_Name_Nissan',\n",
       "       'Company_Name_Peugeot', 'Company_Name_Plymouth',\n",
       "       'Company_Name_Porcshce', 'Company_Name_Porsche', 'Company_Name_Renault',\n",
       "       'Company_Name_Saab', 'Company_Name_Subaru', 'Company_Name_Toyota',\n",
       "       'Company_Name_Volkswagen', 'Company_Name_Volvo'],\n",
       "      dtype='object')"
      ]
     },
     "execution_count": 86,
     "metadata": {},
     "output_type": "execute_result"
    }
   ],
   "source": [
    "df_final.columns"
   ]
  },
  {
   "cell_type": "code",
   "execution_count": 87,
   "id": "6ef8f017",
   "metadata": {
    "scrolled": true
   },
   "outputs": [
    {
     "data": {
      "image/png": "[encoded data removed]",
      "text/plain": [
       "<Figure size 1440x576 with 1 Axes>"
      ]
     },
     "metadata": {
      "needs_background": "light"
     },
     "output_type": "display_data"
    }
   ],
   "source": [
    "df_final.drop('price', axis=1).corrwith(df_final.price).plot(kind='bar', grid=True, figsize=(20, 8), title=\"Correlation with OUTCOME\",color=\"lightgreen\");"
   ]
  },
  {
   "cell_type": "code",
   "execution_count": 89,
   "id": "282422ae",
   "metadata": {},
   "outputs": [
    {
     "data": {
      "text/plain": [
       "car_ID                    -0.109093\n",
       "symboling                 -0.079978\n",
       "wheelbase                  0.577816\n",
       "carlength                  0.682920\n",
       "carwidth                   0.759325\n",
       "                             ...   \n",
       "Company_Name_Saab          0.042414\n",
       "Company_Name_Subaru       -0.148167\n",
       "Company_Name_Toyota       -0.182997\n",
       "Company_Name_Volkswagen   -0.100100\n",
       "Company_Name_Volvo         0.143017\n",
       "Length: 66, dtype: float64"
      ]
     },
     "execution_count": 89,
     "metadata": {},
     "output_type": "execute_result"
    }
   ],
   "source": [
    "df_final.drop('price', axis=1).corrwith(df_final.price)"
   ]
  },
  {
   "cell_type": "code",
   "execution_count": 90,
   "id": "72e607c9",
   "metadata": {},
   "outputs": [
    {
     "data": {
      "text/html": [
       "<div>\n",
       "<style scoped>\n",
       "    .dataframe tbody tr th:only-of-type {\n",
       "        vertical-align: middle;\n",
       "    }\n",
       "\n",
       "    .dataframe tbody tr th {\n",
       "        vertical-align: top;\n",
       "    }\n",
       "\n",
       "    .dataframe thead th {\n",
       "        text-align: right;\n",
       "    }\n",
       "</style>\n",
       "<table border=\"1\" class=\"dataframe\">\n",
       "  <thead>\n",
       "    <tr style=\"text-align: right;\">\n",
       "      <th></th>\n",
       "      <th>car_ID</th>\n",
       "      <th>symboling</th>\n",
       "      <th>wheelbase</th>\n",
       "      <th>carlength</th>\n",
       "      <th>carwidth</th>\n",
       "      <th>carheight</th>\n",
       "      <th>curbweight</th>\n",
       "      <th>enginesize</th>\n",
       "      <th>boreratio</th>\n",
       "      <th>stroke</th>\n",
       "      <th>compressionratio</th>\n",
       "      <th>horsepower</th>\n",
       "      <th>peakrpm</th>\n",
       "      <th>citympg</th>\n",
       "      <th>highwaympg</th>\n",
       "      <th>price</th>\n",
       "    </tr>\n",
       "  </thead>\n",
       "  <tbody>\n",
       "    <tr>\n",
       "      <th>car_ID</th>\n",
       "      <td>1.000000</td>\n",
       "      <td>-0.151621</td>\n",
       "      <td>0.129729</td>\n",
       "      <td>0.170636</td>\n",
       "      <td>0.052387</td>\n",
       "      <td>0.255960</td>\n",
       "      <td>0.071962</td>\n",
       "      <td>-0.033930</td>\n",
       "      <td>0.260064</td>\n",
       "      <td>-0.160824</td>\n",
       "      <td>0.150276</td>\n",
       "      <td>-0.015006</td>\n",
       "      <td>-0.203789</td>\n",
       "      <td>0.015940</td>\n",
       "      <td>0.011255</td>\n",
       "      <td>-0.109093</td>\n",
       "    </tr>\n",
       "    <tr>\n",
       "      <th>symboling</th>\n",
       "      <td>-0.151621</td>\n",
       "      <td>1.000000</td>\n",
       "      <td>-0.531954</td>\n",
       "      <td>-0.357612</td>\n",
       "      <td>-0.232919</td>\n",
       "      <td>-0.541038</td>\n",
       "      <td>-0.227691</td>\n",
       "      <td>-0.105790</td>\n",
       "      <td>-0.130051</td>\n",
       "      <td>-0.008735</td>\n",
       "      <td>-0.178515</td>\n",
       "      <td>0.070873</td>\n",
       "      <td>0.273606</td>\n",
       "      <td>-0.035823</td>\n",
       "      <td>0.034606</td>\n",
       "      <td>-0.079978</td>\n",
       "    </tr>\n",
       "    <tr>\n",
       "      <th>wheelbase</th>\n",
       "      <td>0.129729</td>\n",
       "      <td>-0.531954</td>\n",
       "      <td>1.000000</td>\n",
       "      <td>0.874587</td>\n",
       "      <td>0.795144</td>\n",
       "      <td>0.589435</td>\n",
       "      <td>0.776386</td>\n",
       "      <td>0.569329</td>\n",
       "      <td>0.488750</td>\n",
       "      <td>0.160959</td>\n",
       "      <td>0.249786</td>\n",
       "      <td>0.353294</td>\n",
       "      <td>-0.360469</td>\n",
       "      <td>-0.470414</td>\n",
       "      <td>-0.544082</td>\n",
       "      <td>0.577816</td>\n",
       "    </tr>\n",
       "    <tr>\n",
       "      <th>carlength</th>\n",
       "      <td>0.170636</td>\n",
       "      <td>-0.357612</td>\n",
       "      <td>0.874587</td>\n",
       "      <td>1.000000</td>\n",
       "      <td>0.841118</td>\n",
       "      <td>0.491029</td>\n",
       "      <td>0.877728</td>\n",
       "      <td>0.683360</td>\n",
       "      <td>0.606454</td>\n",
       "      <td>0.129533</td>\n",
       "      <td>0.158414</td>\n",
       "      <td>0.552623</td>\n",
       "      <td>-0.287242</td>\n",
       "      <td>-0.670909</td>\n",
       "      <td>-0.704662</td>\n",
       "      <td>0.682920</td>\n",
       "    </tr>\n",
       "    <tr>\n",
       "      <th>carwidth</th>\n",
       "      <td>0.052387</td>\n",
       "      <td>-0.232919</td>\n",
       "      <td>0.795144</td>\n",
       "      <td>0.841118</td>\n",
       "      <td>1.000000</td>\n",
       "      <td>0.279210</td>\n",
       "      <td>0.867032</td>\n",
       "      <td>0.735433</td>\n",
       "      <td>0.559150</td>\n",
       "      <td>0.182942</td>\n",
       "      <td>0.181129</td>\n",
       "      <td>0.640732</td>\n",
       "      <td>-0.220012</td>\n",
       "      <td>-0.642704</td>\n",
       "      <td>-0.677218</td>\n",
       "      <td>0.759325</td>\n",
       "    </tr>\n",
       "    <tr>\n",
       "      <th>carheight</th>\n",
       "      <td>0.255960</td>\n",
       "      <td>-0.541038</td>\n",
       "      <td>0.589435</td>\n",
       "      <td>0.491029</td>\n",
       "      <td>0.279210</td>\n",
       "      <td>1.000000</td>\n",
       "      <td>0.295572</td>\n",
       "      <td>0.067149</td>\n",
       "      <td>0.171071</td>\n",
       "      <td>-0.055307</td>\n",
       "      <td>0.261214</td>\n",
       "      <td>-0.108802</td>\n",
       "      <td>-0.320411</td>\n",
       "      <td>-0.048640</td>\n",
       "      <td>-0.107358</td>\n",
       "      <td>0.119336</td>\n",
       "    </tr>\n",
       "    <tr>\n",
       "      <th>curbweight</th>\n",
       "      <td>0.071962</td>\n",
       "      <td>-0.227691</td>\n",
       "      <td>0.776386</td>\n",
       "      <td>0.877728</td>\n",
       "      <td>0.867032</td>\n",
       "      <td>0.295572</td>\n",
       "      <td>1.000000</td>\n",
       "      <td>0.850594</td>\n",
       "      <td>0.648480</td>\n",
       "      <td>0.168790</td>\n",
       "      <td>0.151362</td>\n",
       "      <td>0.750739</td>\n",
       "      <td>-0.266243</td>\n",
       "      <td>-0.757414</td>\n",
       "      <td>-0.797465</td>\n",
       "      <td>0.835305</td>\n",
       "    </tr>\n",
       "    <tr>\n",
       "      <th>enginesize</th>\n",
       "      <td>-0.033930</td>\n",
       "      <td>-0.105790</td>\n",
       "      <td>0.569329</td>\n",
       "      <td>0.683360</td>\n",
       "      <td>0.735433</td>\n",
       "      <td>0.067149</td>\n",
       "      <td>0.850594</td>\n",
       "      <td>1.000000</td>\n",
       "      <td>0.583774</td>\n",
       "      <td>0.203129</td>\n",
       "      <td>0.028971</td>\n",
       "      <td>0.809769</td>\n",
       "      <td>-0.244660</td>\n",
       "      <td>-0.653658</td>\n",
       "      <td>-0.677470</td>\n",
       "      <td>0.874145</td>\n",
       "    </tr>\n",
       "    <tr>\n",
       "      <th>boreratio</th>\n",
       "      <td>0.260064</td>\n",
       "      <td>-0.130051</td>\n",
       "      <td>0.488750</td>\n",
       "      <td>0.606454</td>\n",
       "      <td>0.559150</td>\n",
       "      <td>0.171071</td>\n",
       "      <td>0.648480</td>\n",
       "      <td>0.583774</td>\n",
       "      <td>1.000000</td>\n",
       "      <td>-0.055909</td>\n",
       "      <td>0.005197</td>\n",
       "      <td>0.573677</td>\n",
       "      <td>-0.254976</td>\n",
       "      <td>-0.584532</td>\n",
       "      <td>-0.587012</td>\n",
       "      <td>0.553173</td>\n",
       "    </tr>\n",
       "    <tr>\n",
       "      <th>stroke</th>\n",
       "      <td>-0.160824</td>\n",
       "      <td>-0.008735</td>\n",
       "      <td>0.160959</td>\n",
       "      <td>0.129533</td>\n",
       "      <td>0.182942</td>\n",
       "      <td>-0.055307</td>\n",
       "      <td>0.168790</td>\n",
       "      <td>0.203129</td>\n",
       "      <td>-0.055909</td>\n",
       "      <td>1.000000</td>\n",
       "      <td>0.186110</td>\n",
       "      <td>0.080940</td>\n",
       "      <td>-0.067964</td>\n",
       "      <td>-0.042145</td>\n",
       "      <td>-0.043931</td>\n",
       "      <td>0.079443</td>\n",
       "    </tr>\n",
       "    <tr>\n",
       "      <th>compressionratio</th>\n",
       "      <td>0.150276</td>\n",
       "      <td>-0.178515</td>\n",
       "      <td>0.249786</td>\n",
       "      <td>0.158414</td>\n",
       "      <td>0.181129</td>\n",
       "      <td>0.261214</td>\n",
       "      <td>0.151362</td>\n",
       "      <td>0.028971</td>\n",
       "      <td>0.005197</td>\n",
       "      <td>0.186110</td>\n",
       "      <td>1.000000</td>\n",
       "      <td>-0.204326</td>\n",
       "      <td>-0.435741</td>\n",
       "      <td>0.324701</td>\n",
       "      <td>0.265201</td>\n",
       "      <td>0.067984</td>\n",
       "    </tr>\n",
       "    <tr>\n",
       "      <th>horsepower</th>\n",
       "      <td>-0.015006</td>\n",
       "      <td>0.070873</td>\n",
       "      <td>0.353294</td>\n",
       "      <td>0.552623</td>\n",
       "      <td>0.640732</td>\n",
       "      <td>-0.108802</td>\n",
       "      <td>0.750739</td>\n",
       "      <td>0.809769</td>\n",
       "      <td>0.573677</td>\n",
       "      <td>0.080940</td>\n",
       "      <td>-0.204326</td>\n",
       "      <td>1.000000</td>\n",
       "      <td>0.131073</td>\n",
       "      <td>-0.801456</td>\n",
       "      <td>-0.770544</td>\n",
       "      <td>0.808139</td>\n",
       "    </tr>\n",
       "    <tr>\n",
       "      <th>peakrpm</th>\n",
       "      <td>-0.203789</td>\n",
       "      <td>0.273606</td>\n",
       "      <td>-0.360469</td>\n",
       "      <td>-0.287242</td>\n",
       "      <td>-0.220012</td>\n",
       "      <td>-0.320411</td>\n",
       "      <td>-0.266243</td>\n",
       "      <td>-0.244660</td>\n",
       "      <td>-0.254976</td>\n",
       "      <td>-0.067964</td>\n",
       "      <td>-0.435741</td>\n",
       "      <td>0.131073</td>\n",
       "      <td>1.000000</td>\n",
       "      <td>-0.113544</td>\n",
       "      <td>-0.054275</td>\n",
       "      <td>-0.085267</td>\n",
       "    </tr>\n",
       "    <tr>\n",
       "      <th>citympg</th>\n",
       "      <td>0.015940</td>\n",
       "      <td>-0.035823</td>\n",
       "      <td>-0.470414</td>\n",
       "      <td>-0.670909</td>\n",
       "      <td>-0.642704</td>\n",
       "      <td>-0.048640</td>\n",
       "      <td>-0.757414</td>\n",
       "      <td>-0.653658</td>\n",
       "      <td>-0.584532</td>\n",
       "      <td>-0.042145</td>\n",
       "      <td>0.324701</td>\n",
       "      <td>-0.801456</td>\n",
       "      <td>-0.113544</td>\n",
       "      <td>1.000000</td>\n",
       "      <td>0.971337</td>\n",
       "      <td>-0.685751</td>\n",
       "    </tr>\n",
       "    <tr>\n",
       "      <th>highwaympg</th>\n",
       "      <td>0.011255</td>\n",
       "      <td>0.034606</td>\n",
       "      <td>-0.544082</td>\n",
       "      <td>-0.704662</td>\n",
       "      <td>-0.677218</td>\n",
       "      <td>-0.107358</td>\n",
       "      <td>-0.797465</td>\n",
       "      <td>-0.677470</td>\n",
       "      <td>-0.587012</td>\n",
       "      <td>-0.043931</td>\n",
       "      <td>0.265201</td>\n",
       "      <td>-0.770544</td>\n",
       "      <td>-0.054275</td>\n",
       "      <td>0.971337</td>\n",
       "      <td>1.000000</td>\n",
       "      <td>-0.697599</td>\n",
       "    </tr>\n",
       "    <tr>\n",
       "      <th>price</th>\n",
       "      <td>-0.109093</td>\n",
       "      <td>-0.079978</td>\n",
       "      <td>0.577816</td>\n",
       "      <td>0.682920</td>\n",
       "      <td>0.759325</td>\n",
       "      <td>0.119336</td>\n",
       "      <td>0.835305</td>\n",
       "      <td>0.874145</td>\n",
       "      <td>0.553173</td>\n",
       "      <td>0.079443</td>\n",
       "      <td>0.067984</td>\n",
       "      <td>0.808139</td>\n",
       "      <td>-0.085267</td>\n",
       "      <td>-0.685751</td>\n",
       "      <td>-0.697599</td>\n",
       "      <td>1.000000</td>\n",
       "    </tr>\n",
       "  </tbody>\n",
       "</table>\n",
       "</div>"
      ],
      "text/plain": [
       "                    car_ID  symboling  wheelbase  carlength  carwidth  \\\n",
       "car_ID            1.000000  -0.151621   0.129729   0.170636  0.052387   \n",
       "symboling        -0.151621   1.000000  -0.531954  -0.357612 -0.232919   \n",
       "wheelbase         0.129729  -0.531954   1.000000   0.874587  0.795144   \n",
       "carlength         0.170636  -0.357612   0.874587   1.000000  0.841118   \n",
       "carwidth          0.052387  -0.232919   0.795144   0.841118  1.000000   \n",
       "carheight         0.255960  -0.541038   0.589435   0.491029  0.279210   \n",
       "curbweight        0.071962  -0.227691   0.776386   0.877728  0.867032   \n",
       "enginesize       -0.033930  -0.105790   0.569329   0.683360  0.735433   \n",
       "boreratio         0.260064  -0.130051   0.488750   0.606454  0.559150   \n",
       "stroke           -0.160824  -0.008735   0.160959   0.129533  0.182942   \n",
       "compressionratio  0.150276  -0.178515   0.249786   0.158414  0.181129   \n",
       "horsepower       -0.015006   0.070873   0.353294   0.552623  0.640732   \n",
       "peakrpm          -0.203789   0.273606  -0.360469  -0.287242 -0.220012   \n",
       "citympg           0.015940  -0.035823  -0.470414  -0.670909 -0.642704   \n",
       "highwaympg        0.011255   0.034606  -0.544082  -0.704662 -0.677218   \n",
       "price            -0.109093  -0.079978   0.577816   0.682920  0.759325   \n",
       "\n",
       "                  carheight  curbweight  enginesize  boreratio    stroke  \\\n",
       "car_ID             0.255960    0.071962   -0.033930   0.260064 -0.160824   \n",
       "symboling         -0.541038   -0.227691   -0.105790  -0.130051 -0.008735   \n",
       "wheelbase          0.589435    0.776386    0.569329   0.488750  0.160959   \n",
       "carlength          0.491029    0.877728    0.683360   0.606454  0.129533   \n",
       "carwidth           0.279210    0.867032    0.735433   0.559150  0.182942   \n",
       "carheight          1.000000    0.295572    0.067149   0.171071 -0.055307   \n",
       "curbweight         0.295572    1.000000    0.850594   0.648480  0.168790   \n",
       "enginesize         0.067149    0.850594    1.000000   0.583774  0.203129   \n",
       "boreratio          0.171071    0.648480    0.583774   1.000000 -0.055909   \n",
       "stroke            -0.055307    0.168790    0.203129  -0.055909  1.000000   \n",
       "compressionratio   0.261214    0.151362    0.028971   0.005197  0.186110   \n",
       "horsepower        -0.108802    0.750739    0.809769   0.573677  0.080940   \n",
       "peakrpm           -0.320411   -0.266243   -0.244660  -0.254976 -0.067964   \n",
       "citympg           -0.048640   -0.757414   -0.653658  -0.584532 -0.042145   \n",
       "highwaympg        -0.107358   -0.797465   -0.677470  -0.587012 -0.043931   \n",
       "price              0.119336    0.835305    0.874145   0.553173  0.079443   \n",
       "\n",
       "                  compressionratio  horsepower   peakrpm   citympg  \\\n",
       "car_ID                    0.150276   -0.015006 -0.203789  0.015940   \n",
       "symboling                -0.178515    0.070873  0.273606 -0.035823   \n",
       "wheelbase                 0.249786    0.353294 -0.360469 -0.470414   \n",
       "carlength                 0.158414    0.552623 -0.287242 -0.670909   \n",
       "carwidth                  0.181129    0.640732 -0.220012 -0.642704   \n",
       "carheight                 0.261214   -0.108802 -0.320411 -0.048640   \n",
       "curbweight                0.151362    0.750739 -0.266243 -0.757414   \n",
       "enginesize                0.028971    0.809769 -0.244660 -0.653658   \n",
       "boreratio                 0.005197    0.573677 -0.254976 -0.584532   \n",
       "stroke                    0.186110    0.080940 -0.067964 -0.042145   \n",
       "compressionratio          1.000000   -0.204326 -0.435741  0.324701   \n",
       "horsepower               -0.204326    1.000000  0.131073 -0.801456   \n",
       "peakrpm                  -0.435741    0.131073  1.000000 -0.113544   \n",
       "citympg                   0.324701   -0.801456 -0.113544  1.000000   \n",
       "highwaympg                0.265201   -0.770544 -0.054275  0.971337   \n",
       "price                     0.067984    0.808139 -0.085267 -0.685751   \n",
       "\n",
       "                  highwaympg     price  \n",
       "car_ID              0.011255 -0.109093  \n",
       "symboling           0.034606 -0.079978  \n",
       "wheelbase          -0.544082  0.577816  \n",
       "carlength          -0.704662  0.682920  \n",
       "carwidth           -0.677218  0.759325  \n",
       "carheight          -0.107358  0.119336  \n",
       "curbweight         -0.797465  0.835305  \n",
       "enginesize         -0.677470  0.874145  \n",
       "boreratio          -0.587012  0.553173  \n",
       "stroke             -0.043931  0.079443  \n",
       "compressionratio    0.265201  0.067984  \n",
       "horsepower         -0.770544  0.808139  \n",
       "peakrpm            -0.054275 -0.085267  \n",
       "citympg             0.971337 -0.685751  \n",
       "highwaympg          1.000000 -0.697599  \n",
       "price              -0.697599  1.000000  "
      ]
     },
     "execution_count": 90,
     "metadata": {},
     "output_type": "execute_result"
    }
   ],
   "source": [
    "df.corr()"
   ]
  },
  {
   "cell_type": "markdown",
   "id": "076ab308",
   "metadata": {},
   "source": [
    "# Checking Assumptions for Linear regressions "
   ]
  },
  {
   "cell_type": "markdown",
   "id": "9b7d8637",
   "metadata": {},
   "source": [
    "### 1.1 Linarity"
   ]
  },
  {
   "cell_type": "code",
   "execution_count": 91,
   "id": "6a8d4c26",
   "metadata": {
    "scrolled": true
   },
   "outputs": [],
   "source": [
    "# sns.pairplot(df_corr)"
   ]
  },
  {
   "cell_type": "code",
   "execution_count": 92,
   "id": "c8896fd5",
   "metadata": {},
   "outputs": [
    {
     "data": {
      "text/plain": [
       "Index(['car_ID', 'symboling', 'wheelbase', 'carlength', 'carwidth',\n",
       "       'carheight', 'curbweight', 'enginesize', 'boreratio', 'stroke',\n",
       "       'compressionratio', 'horsepower', 'peakrpm', 'citympg', 'highwaympg',\n",
       "       'price'],\n",
       "      dtype='object')"
      ]
     },
     "execution_count": 92,
     "metadata": {},
     "output_type": "execute_result"
    }
   ],
   "source": [
    "df_corr.columns"
   ]
  },
  {
   "cell_type": "markdown",
   "id": "7f55c545",
   "metadata": {},
   "source": [
    "### 1.3 No Multicollinerity"
   ]
  },
  {
   "cell_type": "code",
   "execution_count": 93,
   "id": "a05e13ec",
   "metadata": {},
   "outputs": [
    {
     "data": {
      "text/plain": [
       "<AxesSubplot:>"
      ]
     },
     "execution_count": 93,
     "metadata": {},
     "output_type": "execute_result"
    },
    {
     "data": {
      "image/png": "[encoded data removed]",
      "text/plain": [
       "<Figure size 1440x504 with 2 Axes>"
      ]
     },
     "metadata": {
      "needs_background": "light"
     },
     "output_type": "display_data"
    }
   ],
   "source": [
    "plt.figure(figsize=(20,7))\n",
    "sns.heatmap(df_corr.corr(),annot=True)"
   ]
  },
  {
   "cell_type": "markdown",
   "id": "791e5a3a",
   "metadata": {},
   "source": [
    "# As in our Data independent variables are  highly correlated with each other it fails for our linear regression model."
   ]
  },
  {
   "cell_type": "markdown",
   "id": "5d884fae",
   "metadata": {},
   "source": [
    "# Lets Assume here onwords that our model is following Linear regression Assumptions"
   ]
  },
  {
   "cell_type": "markdown",
   "id": "b6ffb7c9",
   "metadata": {},
   "source": [
    "## Model-building for Linear regression on Staderdize Data"
   ]
  },
  {
   "cell_type": "code",
   "execution_count": 94,
   "id": "66ea9672",
   "metadata": {},
   "outputs": [],
   "source": [
    "drop_df=['car_ID', 'price']"
   ]
  },
  {
   "cell_type": "code",
   "execution_count": 95,
   "id": "95667b3e",
   "metadata": {
    "scrolled": true
   },
   "outputs": [
    {
     "data": {
      "text/html": [
       "<div>\n",
       "<style scoped>\n",
       "    .dataframe tbody tr th:only-of-type {\n",
       "        vertical-align: middle;\n",
       "    }\n",
       "\n",
       "    .dataframe tbody tr th {\n",
       "        vertical-align: top;\n",
       "    }\n",
       "\n",
       "    .dataframe thead th {\n",
       "        text-align: right;\n",
       "    }\n",
       "</style>\n",
       "<table border=\"1\" class=\"dataframe\">\n",
       "  <thead>\n",
       "    <tr style=\"text-align: right;\">\n",
       "      <th></th>\n",
       "      <th>symboling</th>\n",
       "      <th>wheelbase</th>\n",
       "      <th>carlength</th>\n",
       "      <th>carwidth</th>\n",
       "      <th>carheight</th>\n",
       "      <th>curbweight</th>\n",
       "      <th>enginesize</th>\n",
       "      <th>boreratio</th>\n",
       "      <th>stroke</th>\n",
       "      <th>compressionratio</th>\n",
       "      <th>...</th>\n",
       "      <th>Company_Name_Peugeot</th>\n",
       "      <th>Company_Name_Plymouth</th>\n",
       "      <th>Company_Name_Porcshce</th>\n",
       "      <th>Company_Name_Porsche</th>\n",
       "      <th>Company_Name_Renault</th>\n",
       "      <th>Company_Name_Saab</th>\n",
       "      <th>Company_Name_Subaru</th>\n",
       "      <th>Company_Name_Toyota</th>\n",
       "      <th>Company_Name_Volkswagen</th>\n",
       "      <th>Company_Name_Volvo</th>\n",
       "    </tr>\n",
       "  </thead>\n",
       "  <tbody>\n",
       "    <tr>\n",
       "      <th>0</th>\n",
       "      <td>3</td>\n",
       "      <td>88.6</td>\n",
       "      <td>168.8</td>\n",
       "      <td>64.1</td>\n",
       "      <td>48.8</td>\n",
       "      <td>2548</td>\n",
       "      <td>130</td>\n",
       "      <td>3.47</td>\n",
       "      <td>2.68</td>\n",
       "      <td>9.0</td>\n",
       "      <td>...</td>\n",
       "      <td>0</td>\n",
       "      <td>0</td>\n",
       "      <td>0</td>\n",
       "      <td>0</td>\n",
       "      <td>0</td>\n",
       "      <td>0</td>\n",
       "      <td>0</td>\n",
       "      <td>0</td>\n",
       "      <td>0</td>\n",
       "      <td>0</td>\n",
       "    </tr>\n",
       "    <tr>\n",
       "      <th>1</th>\n",
       "      <td>3</td>\n",
       "      <td>88.6</td>\n",
       "      <td>168.8</td>\n",
       "      <td>64.1</td>\n",
       "      <td>48.8</td>\n",
       "      <td>2548</td>\n",
       "      <td>130</td>\n",
       "      <td>3.47</td>\n",
       "      <td>2.68</td>\n",
       "      <td>9.0</td>\n",
       "      <td>...</td>\n",
       "      <td>0</td>\n",
       "      <td>0</td>\n",
       "      <td>0</td>\n",
       "      <td>0</td>\n",
       "      <td>0</td>\n",
       "      <td>0</td>\n",
       "      <td>0</td>\n",
       "      <td>0</td>\n",
       "      <td>0</td>\n",
       "      <td>0</td>\n",
       "    </tr>\n",
       "    <tr>\n",
       "      <th>2</th>\n",
       "      <td>1</td>\n",
       "      <td>94.5</td>\n",
       "      <td>171.2</td>\n",
       "      <td>65.5</td>\n",
       "      <td>52.4</td>\n",
       "      <td>2823</td>\n",
       "      <td>152</td>\n",
       "      <td>2.68</td>\n",
       "      <td>3.47</td>\n",
       "      <td>9.0</td>\n",
       "      <td>...</td>\n",
       "      <td>0</td>\n",
       "      <td>0</td>\n",
       "      <td>0</td>\n",
       "      <td>0</td>\n",
       "      <td>0</td>\n",
       "      <td>0</td>\n",
       "      <td>0</td>\n",
       "      <td>0</td>\n",
       "      <td>0</td>\n",
       "      <td>0</td>\n",
       "    </tr>\n",
       "    <tr>\n",
       "      <th>3</th>\n",
       "      <td>2</td>\n",
       "      <td>99.8</td>\n",
       "      <td>176.6</td>\n",
       "      <td>66.2</td>\n",
       "      <td>54.3</td>\n",
       "      <td>2337</td>\n",
       "      <td>109</td>\n",
       "      <td>3.19</td>\n",
       "      <td>3.40</td>\n",
       "      <td>10.0</td>\n",
       "      <td>...</td>\n",
       "      <td>0</td>\n",
       "      <td>0</td>\n",
       "      <td>0</td>\n",
       "      <td>0</td>\n",
       "      <td>0</td>\n",
       "      <td>0</td>\n",
       "      <td>0</td>\n",
       "      <td>0</td>\n",
       "      <td>0</td>\n",
       "      <td>0</td>\n",
       "    </tr>\n",
       "    <tr>\n",
       "      <th>4</th>\n",
       "      <td>2</td>\n",
       "      <td>99.4</td>\n",
       "      <td>176.6</td>\n",
       "      <td>66.4</td>\n",
       "      <td>54.3</td>\n",
       "      <td>2824</td>\n",
       "      <td>136</td>\n",
       "      <td>3.19</td>\n",
       "      <td>3.40</td>\n",
       "      <td>8.0</td>\n",
       "      <td>...</td>\n",
       "      <td>0</td>\n",
       "      <td>0</td>\n",
       "      <td>0</td>\n",
       "      <td>0</td>\n",
       "      <td>0</td>\n",
       "      <td>0</td>\n",
       "      <td>0</td>\n",
       "      <td>0</td>\n",
       "      <td>0</td>\n",
       "      <td>0</td>\n",
       "    </tr>\n",
       "    <tr>\n",
       "      <th>...</th>\n",
       "      <td>...</td>\n",
       "      <td>...</td>\n",
       "      <td>...</td>\n",
       "      <td>...</td>\n",
       "      <td>...</td>\n",
       "      <td>...</td>\n",
       "      <td>...</td>\n",
       "      <td>...</td>\n",
       "      <td>...</td>\n",
       "      <td>...</td>\n",
       "      <td>...</td>\n",
       "      <td>...</td>\n",
       "      <td>...</td>\n",
       "      <td>...</td>\n",
       "      <td>...</td>\n",
       "      <td>...</td>\n",
       "      <td>...</td>\n",
       "      <td>...</td>\n",
       "      <td>...</td>\n",
       "      <td>...</td>\n",
       "      <td>...</td>\n",
       "    </tr>\n",
       "    <tr>\n",
       "      <th>200</th>\n",
       "      <td>-1</td>\n",
       "      <td>109.1</td>\n",
       "      <td>188.8</td>\n",
       "      <td>68.9</td>\n",
       "      <td>55.5</td>\n",
       "      <td>2952</td>\n",
       "      <td>141</td>\n",
       "      <td>3.78</td>\n",
       "      <td>3.15</td>\n",
       "      <td>9.5</td>\n",
       "      <td>...</td>\n",
       "      <td>0</td>\n",
       "      <td>0</td>\n",
       "      <td>0</td>\n",
       "      <td>0</td>\n",
       "      <td>0</td>\n",
       "      <td>0</td>\n",
       "      <td>0</td>\n",
       "      <td>0</td>\n",
       "      <td>0</td>\n",
       "      <td>1</td>\n",
       "    </tr>\n",
       "    <tr>\n",
       "      <th>201</th>\n",
       "      <td>-1</td>\n",
       "      <td>109.1</td>\n",
       "      <td>188.8</td>\n",
       "      <td>68.8</td>\n",
       "      <td>55.5</td>\n",
       "      <td>3049</td>\n",
       "      <td>141</td>\n",
       "      <td>3.78</td>\n",
       "      <td>3.15</td>\n",
       "      <td>8.7</td>\n",
       "      <td>...</td>\n",
       "      <td>0</td>\n",
       "      <td>0</td>\n",
       "      <td>0</td>\n",
       "      <td>0</td>\n",
       "      <td>0</td>\n",
       "      <td>0</td>\n",
       "      <td>0</td>\n",
       "      <td>0</td>\n",
       "      <td>0</td>\n",
       "      <td>1</td>\n",
       "    </tr>\n",
       "    <tr>\n",
       "      <th>202</th>\n",
       "      <td>-1</td>\n",
       "      <td>109.1</td>\n",
       "      <td>188.8</td>\n",
       "      <td>68.9</td>\n",
       "      <td>55.5</td>\n",
       "      <td>3012</td>\n",
       "      <td>173</td>\n",
       "      <td>3.58</td>\n",
       "      <td>2.87</td>\n",
       "      <td>8.8</td>\n",
       "      <td>...</td>\n",
       "      <td>0</td>\n",
       "      <td>0</td>\n",
       "      <td>0</td>\n",
       "      <td>0</td>\n",
       "      <td>0</td>\n",
       "      <td>0</td>\n",
       "      <td>0</td>\n",
       "      <td>0</td>\n",
       "      <td>0</td>\n",
       "      <td>1</td>\n",
       "    </tr>\n",
       "    <tr>\n",
       "      <th>203</th>\n",
       "      <td>-1</td>\n",
       "      <td>109.1</td>\n",
       "      <td>188.8</td>\n",
       "      <td>68.9</td>\n",
       "      <td>55.5</td>\n",
       "      <td>3217</td>\n",
       "      <td>145</td>\n",
       "      <td>3.01</td>\n",
       "      <td>3.40</td>\n",
       "      <td>23.0</td>\n",
       "      <td>...</td>\n",
       "      <td>0</td>\n",
       "      <td>0</td>\n",
       "      <td>0</td>\n",
       "      <td>0</td>\n",
       "      <td>0</td>\n",
       "      <td>0</td>\n",
       "      <td>0</td>\n",
       "      <td>0</td>\n",
       "      <td>0</td>\n",
       "      <td>1</td>\n",
       "    </tr>\n",
       "    <tr>\n",
       "      <th>204</th>\n",
       "      <td>-1</td>\n",
       "      <td>109.1</td>\n",
       "      <td>188.8</td>\n",
       "      <td>68.9</td>\n",
       "      <td>55.5</td>\n",
       "      <td>3062</td>\n",
       "      <td>141</td>\n",
       "      <td>3.78</td>\n",
       "      <td>3.15</td>\n",
       "      <td>9.5</td>\n",
       "      <td>...</td>\n",
       "      <td>0</td>\n",
       "      <td>0</td>\n",
       "      <td>0</td>\n",
       "      <td>0</td>\n",
       "      <td>0</td>\n",
       "      <td>0</td>\n",
       "      <td>0</td>\n",
       "      <td>0</td>\n",
       "      <td>0</td>\n",
       "      <td>1</td>\n",
       "    </tr>\n",
       "  </tbody>\n",
       "</table>\n",
       "<p>205 rows × 65 columns</p>\n",
       "</div>"
      ],
      "text/plain": [
       "     symboling  wheelbase  carlength  carwidth  carheight  curbweight  \\\n",
       "0            3       88.6      168.8      64.1       48.8        2548   \n",
       "1            3       88.6      168.8      64.1       48.8        2548   \n",
       "2            1       94.5      171.2      65.5       52.4        2823   \n",
       "3            2       99.8      176.6      66.2       54.3        2337   \n",
       "4            2       99.4      176.6      66.4       54.3        2824   \n",
       "..         ...        ...        ...       ...        ...         ...   \n",
       "200         -1      109.1      188.8      68.9       55.5        2952   \n",
       "201         -1      109.1      188.8      68.8       55.5        3049   \n",
       "202         -1      109.1      188.8      68.9       55.5        3012   \n",
       "203         -1      109.1      188.8      68.9       55.5        3217   \n",
       "204         -1      109.1      188.8      68.9       55.5        3062   \n",
       "\n",
       "     enginesize  boreratio  stroke  compressionratio  ...  \\\n",
       "0           130       3.47    2.68               9.0  ...   \n",
       "1           130       3.47    2.68               9.0  ...   \n",
       "2           152       2.68    3.47               9.0  ...   \n",
       "3           109       3.19    3.40              10.0  ...   \n",
       "4           136       3.19    3.40               8.0  ...   \n",
       "..          ...        ...     ...               ...  ...   \n",
       "200         141       3.78    3.15               9.5  ...   \n",
       "201         141       3.78    3.15               8.7  ...   \n",
       "202         173       3.58    2.87               8.8  ...   \n",
       "203         145       3.01    3.40              23.0  ...   \n",
       "204         141       3.78    3.15               9.5  ...   \n",
       "\n",
       "     Company_Name_Peugeot  Company_Name_Plymouth  Company_Name_Porcshce  \\\n",
       "0                       0                      0                      0   \n",
       "1                       0                      0                      0   \n",
       "2                       0                      0                      0   \n",
       "3                       0                      0                      0   \n",
       "4                       0                      0                      0   \n",
       "..                    ...                    ...                    ...   \n",
       "200                     0                      0                      0   \n",
       "201                     0                      0                      0   \n",
       "202                     0                      0                      0   \n",
       "203                     0                      0                      0   \n",
       "204                     0                      0                      0   \n",
       "\n",
       "     Company_Name_Porsche  Company_Name_Renault  Company_Name_Saab  \\\n",
       "0                       0                     0                  0   \n",
       "1                       0                     0                  0   \n",
       "2                       0                     0                  0   \n",
       "3                       0                     0                  0   \n",
       "4                       0                     0                  0   \n",
       "..                    ...                   ...                ...   \n",
       "200                     0                     0                  0   \n",
       "201                     0                     0                  0   \n",
       "202                     0                     0                  0   \n",
       "203                     0                     0                  0   \n",
       "204                     0                     0                  0   \n",
       "\n",
       "     Company_Name_Subaru  Company_Name_Toyota  Company_Name_Volkswagen  \\\n",
       "0                      0                    0                        0   \n",
       "1                      0                    0                        0   \n",
       "2                      0                    0                        0   \n",
       "3                      0                    0                        0   \n",
       "4                      0                    0                        0   \n",
       "..                   ...                  ...                      ...   \n",
       "200                    0                    0                        0   \n",
       "201                    0                    0                        0   \n",
       "202                    0                    0                        0   \n",
       "203                    0                    0                        0   \n",
       "204                    0                    0                        0   \n",
       "\n",
       "     Company_Name_Volvo  \n",
       "0                     0  \n",
       "1                     0  \n",
       "2                     0  \n",
       "3                     0  \n",
       "4                     0  \n",
       "..                  ...  \n",
       "200                   1  \n",
       "201                   1  \n",
       "202                   1  \n",
       "203                   1  \n",
       "204                   1  \n",
       "\n",
       "[205 rows x 65 columns]"
      ]
     },
     "execution_count": 95,
     "metadata": {},
     "output_type": "execute_result"
    }
   ],
   "source": [
    "x=df_final.drop(drop_df,axis=1)\n",
    "y=df_final['price']\n",
    "x"
   ]
  },
  {
   "cell_type": "code",
   "execution_count": 96,
   "id": "e42e4a02",
   "metadata": {},
   "outputs": [],
   "source": [
    "from sklearn.model_selection import train_test_split\n",
    "from sklearn.metrics import r2_score,mean_squared_error,mean_absolute_error\n",
    "from sklearn.linear_model import LinearRegression,LogisticRegression"
   ]
  },
  {
   "cell_type": "code",
   "execution_count": 97,
   "id": "9f93597f",
   "metadata": {},
   "outputs": [],
   "source": [
    "x_train,x_test,y_train,y_test=train_test_split(x,y,random_state=55,test_size=30)"
   ]
  },
  {
   "cell_type": "code",
   "execution_count": 98,
   "id": "230f34b6",
   "metadata": {},
   "outputs": [
    {
     "data": {
      "text/plain": [
       "LinearRegression()"
      ]
     },
     "execution_count": 98,
     "metadata": {},
     "output_type": "execute_result"
    }
   ],
   "source": [
    "linear_model=LinearRegression()\n",
    "linear_model.fit(x_train,y_train)"
   ]
  },
  {
   "cell_type": "code",
   "execution_count": 99,
   "id": "488aa1a3",
   "metadata": {},
   "outputs": [],
   "source": [
    "y_predict=linear_model.predict(x_test)"
   ]
  },
  {
   "cell_type": "code",
   "execution_count": 100,
   "id": "eb08b816",
   "metadata": {},
   "outputs": [
    {
     "data": {
      "text/plain": [
       "0.9648302471508015"
      ]
     },
     "execution_count": 100,
     "metadata": {},
     "output_type": "execute_result"
    }
   ],
   "source": [
    "r2score=r2_score(y_test,y_predict)\n",
    "r2score"
   ]
  },
  {
   "cell_type": "code",
   "execution_count": 101,
   "id": "4fe1fde0",
   "metadata": {},
   "outputs": [
    {
     "data": {
      "text/plain": [
       "1931613.9302546124"
      ]
     },
     "execution_count": 101,
     "metadata": {},
     "output_type": "execute_result"
    }
   ],
   "source": [
    "mse=mean_squared_error(y_test,y_predict)\n",
    "mse"
   ]
  },
  {
   "cell_type": "code",
   "execution_count": 102,
   "id": "ccf03142",
   "metadata": {},
   "outputs": [
    {
     "data": {
      "text/plain": [
       "1148.0290871047096"
      ]
     },
     "execution_count": 102,
     "metadata": {},
     "output_type": "execute_result"
    }
   ],
   "source": [
    "mae=mean_absolute_error(y_test,y_predict)\n",
    "mae"
   ]
  },
  {
   "cell_type": "markdown",
   "id": "fe1eeafa",
   "metadata": {},
   "source": [
    "# Root Mean Square Error\n"
   ]
  },
  {
   "cell_type": "code",
   "execution_count": 103,
   "id": "46167068",
   "metadata": {},
   "outputs": [
    {
     "name": "stdout",
     "output_type": "stream",
     "text": [
      "1389.8251437697522\n"
     ]
    }
   ],
   "source": [
    "rmse=np.sqrt(mse)\n",
    "print(rmse)"
   ]
  },
  {
   "cell_type": "code",
   "execution_count": 104,
   "id": "9ae229e5",
   "metadata": {},
   "outputs": [
    {
     "data": {
      "text/plain": [
       "count      205.000000\n",
       "mean     13276.710571\n",
       "std       7988.852332\n",
       "min       5118.000000\n",
       "25%       7788.000000\n",
       "50%      10295.000000\n",
       "75%      16503.000000\n",
       "max      45400.000000\n",
       "Name: price, dtype: float64"
      ]
     },
     "execution_count": 104,
     "metadata": {},
     "output_type": "execute_result"
    }
   ],
   "source": [
    "df_final['price'].describe()"
   ]
  },
  {
   "cell_type": "code",
   "execution_count": null,
   "id": "b3a04f86",
   "metadata": {},
   "outputs": [],
   "source": []
  },
  {
   "cell_type": "code",
   "execution_count": 105,
   "id": "9563af20",
   "metadata": {},
   "outputs": [
    {
     "name": "stdout",
     "output_type": "stream",
     "text": [
      "xxxxxxxxxxxxxxxxxxxxxxxxxxxxxxxxxxxxxxxxxxxxxxxxxx\n",
      "Testing Data Evaluation\n",
      "xxxxxxxxxxxxxxxxxxxxxxxxxxxxxxxxxxxxxxxxxxxxxxxxxx\n",
      "r2score: 0.932320123380044\n",
      "mse : 3816762.5586947827\n",
      "rmse: 1953.6536434830978\n",
      "mae: 1589.8699583760108\n",
      "xxxxxxxxxxxxxxxxxxxxxxxxxxxxxxxxxxxxxxxxxxxxxxxxxx\n",
      "Training Data Evaluation\n",
      "xxxxxxxxxxxxxxxxxxxxxxxxxxxxxxxxxxxxxxxxxxxxxxxxxx\n",
      "r2score: 0.9680217493955374\n",
      "mse : 2068549.1207571472\n",
      "rmse: 1438.2451532187226\n",
      "mae: 1052.2346640125947\n",
      "\n",
      " Training Accuracy : 97.0\n",
      " Testing Accuracy : 93.0\n"
     ]
    }
   ],
   "source": [
    "x_train,x_test,y_train,y_test=train_test_split(x,y,random_state=50,test_size=30)\n",
    "\n",
    "\n",
    "linear_model=LinearRegression()\n",
    "\n",
    "linear_model.fit(x_train,y_train)\n",
    "\n",
    "print('x'*50)\n",
    "print('Testing Data Evaluation')\n",
    "print('x'*50)\n",
    "y_predict=linear_model.predict(x_test)\n",
    "r2score=r2_score(y_test,y_predict)\n",
    "print(f'r2score: {r2score}')\n",
    "mse=mean_squared_error(y_test,y_predict)\n",
    "print(f'mse : {mse}')\n",
    "rmse=np.sqrt(mse)\n",
    "print(f'rmse: {rmse}')\n",
    "mae=mean_absolute_error(y_test,y_predict)\n",
    "print(f'mae: {mae}')\n",
    "\n",
    "\n",
    "print('x'*50)\n",
    "print('Training Data Evaluation')\n",
    "print('x'*50)\n",
    "\n",
    "y_predict_train=linear_model.predict(x_train)\n",
    "r2score1=r2_score(y_train,y_predict_train)\n",
    "print(f'r2score: {r2score1}')\n",
    "mse=mean_squared_error(y_train,y_predict_train)\n",
    "print(f'mse : {mse}')\n",
    "rmse=np.sqrt(mse)\n",
    "print(f'rmse: {rmse}')\n",
    "mae=mean_absolute_error(y_train,y_predict_train)\n",
    "print(f'mae: {mae}')\n",
    "\n",
    "\n",
    "print()\n",
    "print(f' Training Accuracy : {np.round(r2score1*100)}')\n",
    "print(f' Testing Accuracy : {np.round(r2score*100)}')"
   ]
  },
  {
   "cell_type": "code",
   "execution_count": 106,
   "id": "2b17010a",
   "metadata": {},
   "outputs": [
    {
     "name": "stdout",
     "output_type": "stream",
     "text": [
      "xxxxxxxxxxxxxxxxxxxxxxxxxxxxxxxxxxxxxxxxxxxxxxxxxx\n",
      "Testing Data Evaluation\n",
      "xxxxxxxxxxxxxxxxxxxxxxxxxxxxxxxxxxxxxxxxxxxxxxxxxx\n",
      "r2score: 0.9101459955178659\n",
      "mse : 6328292.398600443\n",
      "rmse: 2515.6097468805538\n",
      "mae: 1807.5985754657115\n",
      "xxxxxxxxxxxxxxxxxxxxxxxxxxxxxxxxxxxxxxxxxxxxxxxxxx\n",
      "Training Data Evaluation\n",
      "xxxxxxxxxxxxxxxxxxxxxxxxxxxxxxxxxxxxxxxxxxxxxxxxxx\n",
      "r2score: 0.9692527188685958\n",
      "mse : 1913071.048194881\n",
      "rmse: 1383.13811609502\n",
      "mae: 992.1713691145803\n",
      "\n",
      " Training Accuracy : 97.0\n",
      " Testing Accuracy : 91.0\n"
     ]
    }
   ],
   "source": [
    "x_train,x_test,y_train,y_test=train_test_split(x,y,random_state=60,test_size=30)\n",
    "\n",
    "\n",
    "linear_model=LinearRegression()\n",
    "\n",
    "linear_model.fit(x_train,y_train)\n",
    "\n",
    "print('x'*50)\n",
    "print('Testing Data Evaluation')\n",
    "print('x'*50)\n",
    "\n",
    "y_predict=linear_model.predict(x_test)\n",
    "r2score=r2_score(y_test,y_predict)\n",
    "print(f'r2score: {r2score}')\n",
    "mse=mean_squared_error(y_test,y_predict)\n",
    "print(f'mse : {mse}')\n",
    "rmse=np.sqrt(mse)\n",
    "print(f'rmse: {rmse}')\n",
    "mae=mean_absolute_error(y_test,y_predict)\n",
    "print(f'mae: {mae}')\n",
    "\n",
    "\n",
    "print('x'*50)\n",
    "print('Training Data Evaluation')\n",
    "print('x'*50)\n",
    "\n",
    "y_predict_train=linear_model.predict(x_train)\n",
    "r2score1=r2_score(y_train,y_predict_train)\n",
    "print(f'r2score: {r2score1}')\n",
    "mse=mean_squared_error(y_train,y_predict_train)\n",
    "print(f'mse : {mse}')\n",
    "rmse=np.sqrt(mse)\n",
    "print(f'rmse: {rmse}')\n",
    "mae=mean_absolute_error(y_train,y_predict_train)\n",
    "print(f'mae: {mae}')\n",
    "\n",
    "print()\n",
    "print(f' Training Accuracy : {np.round(r2score1*100)}')\n",
    "print(f' Testing Accuracy : {np.round(r2score*100)}')"
   ]
  },
  {
   "cell_type": "markdown",
   "id": "18578002",
   "metadata": {},
   "source": [
    "# Outlier Detection "
   ]
  },
  {
   "cell_type": "code",
   "execution_count": null,
   "id": "dd96dc4f",
   "metadata": {},
   "outputs": [],
   "source": [
    "1\n",
    "2)\n",
    "3)\n",
    "4)"
   ]
  },
  {
   "cell_type": "code",
   "execution_count": null,
   "id": "bae31654",
   "metadata": {},
   "outputs": [],
   "source": []
  },
  {
   "cell_type": "code",
   "execution_count": null,
   "id": "032792a0",
   "metadata": {},
   "outputs": [],
   "source": []
  },
  {
   "cell_type": "code",
   "execution_count": null,
   "id": "8a423713",
   "metadata": {},
   "outputs": [],
   "source": []
  }
 ],
 "metadata": {
  "kernelspec": {
   "display_name": "Python 3 (ipykernel)",
   "language": "python",
   "name": "python3"
  },
  "language_info": {
   "codemirror_mode": {
    "name": "ipython",
    "version": 3
   },
   "file_extension": ".py",
   "mimetype": "text/x-python",
   "name": "python",
   "nbconvert_exporter": "python",
   "pygments_lexer": "ipython3",
   "version": "3.9.7"
  }
 },
 "nbformat": 4,
 "nbformat_minor": 5
}
